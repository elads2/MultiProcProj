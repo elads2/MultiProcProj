{
 "cells": [
  {
   "cell_type": "markdown",
   "metadata": {
    "tags": []
   },
   "source": [
    "# HW1 Notebook\n",
    "#### This assignment will introduce you with the Intel DevCloud and with OpenMP basic directives and concepts of parallel computing as part of the OpenMP Common Core. \n",
    "\n",
    "#### Use this notebook to compile your files, submit your jobs to Intel DevCloud nodes and observe/analyze your results.\n",
    "## Submittion instructions\n",
    "- #### Publication Date: 10/11.\n",
    "- #### Submission Date: 4/12.\n",
    "- #### Submittion in groups of up to 2 students (individually or in pairs). \n",
    "- #### Submittion on the course website, in zip format including this directory with the relevant output, specifically: \n",
    "  - the source files.\n",
    "  - this notebook (run_hw1.ipynb) after executing all the cells. \n",
    "  - output files of queued jobs that might be created during the execution. \n",
    " "
   ]
  },
  {
   "cell_type": "markdown",
   "metadata": {
    "tags": []
   },
   "source": [
    "### Fill the name and ID of the submitters:\n",
    "#### Student Name: Manor Zvi Stdudent ID: 204030720\n",
    "**Note:** If you submit in pairs, it is sufficient that only single student submit the assaignment on the course website. \\\n",
    "Remove one line if submitted individually, or keep it empty."
   ]
  },
  {
   "cell_type": "markdown",
   "metadata": {},
   "source": [
    "## the Portable Batch System (PBS) on Intel DevCloud\n",
    "\n",
    "Portable Batch System (PBS) is the scheduler that is used on Intel DevCloud to submit jobs on the cluster. \\\n",
    "The next material may help you manage your work on the cloud:\n",
    "- **Quick tutorial for PBS:** https://albertsk.files.wordpress.com/2011/12/pbs.pdf.\n",
    "- **Intel DevCloud Job Submission:** https://devcloud.intel.com/oneapi/documentation/job-submission.\n",
    "- **Intel DevCloud Queue Management:** https://devcloud.intel.com/oneapi/documentation/advanced-queue."
   ]
  },
  {
   "cell_type": "markdown",
   "metadata": {},
   "source": [
    "## Problem 1: Know Your Hardware (10 points)\n",
    "### In this section we will get familiar with Intel DevCloud nodes, and learn how to simply submit a job via the PBS scheduler. \n",
    "- The _pbsnodes_ command is used to find out the architectures and features of the compute nodes available to you. The actual output of pbsnodes may be very long if your share of the Intel® DevCloud includes a lot of compute nodes, so you may need to pipe the output. Specifically, it might be interesting to get the list of all the different properties and the number of nodes associated with the property by running the following command:"
   ]
  },
  {
   "cell_type": "code",
   "execution_count": 22,
   "metadata": {},
   "outputs": [
    {
     "name": "stdout",
     "output_type": "stream",
     "text": [
      "     22 core,tgl,i9-11900kb,ram32gb,netgbe,gpu,gen11\n",
      "     78 xeon,cfl,e-2176g,ram64gb,net1gbe,gpu,gen9\n",
      "      4 xeon,clx,ram192gb,net1gbe,batch,extended,fpga,stratix10,fpga_runtime\n",
      "      6 xeon,icx,gold6348,ramgb,netgbe,jupyter,batch\n",
      "      7 xeon,icx,plat8380,ram2tb,net1gbe,batch\n",
      "      3 xeon,skl,gold6128,ram192gb,net1gbe,fpga_runtime,fpga,agilex\n",
      "     12 xeon,skl,gold6128,ram192gb,net1gbe,fpga_runtime,fpga,arria10\n",
      "     79 xeon,skl,gold6128,ram192gb,net1gbe,jupyter,batch\n",
      "     26 xeon,skl,gold6128,ram192gb,net1gbe,jupyter,batch,fpga_compile\n",
      "     12 xeon,skl,ram384gb,net1gbe,renderkit\n",
      "      4 xeon,spr,max9480,ram256gb,netgbe,batch,hbm\n",
      "      1 xeon,spr,plat8480,ram512gb,netgbe,dual_gpu,hbm2e,gpu,max,max_1100\n",
      "      2 xeon,spr,ram1024gb,netgbe,dnp50\n"
     ]
    }
   ],
   "source": [
    "! pbsnodes | grep \"properties =\" | awk '{print $3}' | sort | uniq -c"
   ]
  },
  {
   "cell_type": "markdown",
   "metadata": {},
   "source": [
    "- The next script is used to print basic hardware specifications of a compute node. Run the next cell to print the content of the script."
   ]
  },
  {
   "cell_type": "code",
   "execution_count": 23,
   "metadata": {},
   "outputs": [
    {
     "data": {
      "text/plain": [
       "\u001b[0;31m#!/bin/bash\u001b[0m\u001b[0;34m\u001b[0m\n",
       "\u001b[0;34m\u001b[0m\u001b[0;34m/\u001b[0m\u001b[0mbin\u001b[0m\u001b[0;34m/\u001b[0m\u001b[0mecho\u001b[0m \u001b[0;34m\"##\"\u001b[0m\u001b[0;31m \u001b[0m\u001b[0;31m$\u001b[0m\u001b[0;34m(\u001b[0m\u001b[0mwhoami\u001b[0m\u001b[0;34m)\u001b[0m \u001b[0;32mis\u001b[0m \u001b[0mchecking\u001b[0m \u001b[0mspecifications\u001b[0m \u001b[0mof\u001b[0m \u001b[0ma\u001b[0m \u001b[0mstandard\u001b[0m \u001b[0mCPU\u001b[0m \u001b[0mIntel\u001b[0m \u001b[0mDevCloud\u001b[0m \u001b[0mnode\u001b[0m\u001b[0;34m\u001b[0m\n",
       "\u001b[0;34m\u001b[0m\u001b[0mecho\u001b[0m \u001b[0;34m\"########################################### lscpu:\"\u001b[0m\u001b[0;34m\u001b[0m\n",
       "\u001b[0;34m\u001b[0m\u001b[0mlscpu\u001b[0m\u001b[0;34m\u001b[0m\n",
       "\u001b[0;34m\u001b[0m\u001b[0mecho\u001b[0m \u001b[0;34m\"########################################### cat /proc/cpuinfo:\"\u001b[0m\u001b[0;34m\u001b[0m\n",
       "\u001b[0;34m\u001b[0m\u001b[0mcat\u001b[0m \u001b[0;34m/\u001b[0m\u001b[0mproc\u001b[0m\u001b[0;34m/\u001b[0m\u001b[0mcpuinfo\u001b[0m\u001b[0;34m\u001b[0m\n",
       "\u001b[0;34m\u001b[0m\u001b[0mecho\u001b[0m \u001b[0;34m\"########################################### cat /proc/meminfo:\"\u001b[0m\u001b[0;34m\u001b[0m\n",
       "\u001b[0;34m\u001b[0m\u001b[0mcat\u001b[0m \u001b[0;34m/\u001b[0m\u001b[0mproc\u001b[0m\u001b[0;34m/\u001b[0m\u001b[0mmeminfo\u001b[0m\u001b[0;34m\u001b[0m\n",
       "\u001b[0;34m\u001b[0m\u001b[0mecho\u001b[0m \u001b[0;34m\"########################################### numactl --hardware\"\u001b[0m\u001b[0;34m\u001b[0m\n",
       "\u001b[0;34m\u001b[0m\u001b[0mnumactl\u001b[0m \u001b[0;34m-\u001b[0m\u001b[0;34m-\u001b[0m\u001b[0mhardware\u001b[0m\u001b[0;34m\u001b[0m\n",
       "\u001b[0;34m\u001b[0m\u001b[0mexit\u001b[0m\u001b[0;34m\u001b[0m\u001b[0;34m\u001b[0m\u001b[0m\n"
      ]
     },
     "metadata": {},
     "output_type": "display_data"
    }
   ],
   "source": [
    "#print content of check_specifications.sh\n",
    "%pycat check_specifications.sh"
   ]
  },
  {
   "cell_type": "markdown",
   "metadata": {},
   "source": [
    "- We now submit the script to the Intel Dev Cloud using the _qsub_ command of PBS. \n",
    "When not providing any other parameters, this command allocates the first available node on the cluster for this job. For the next sections of this assignment, we only work with CPU threads (we do not need any further properties like GPU), so for now any node will be fine. Run the following cell. The output will be created in the current directory. Watch it."
   ]
  },
  {
   "cell_type": "code",
   "execution_count": 24,
   "metadata": {},
   "outputs": [
    {
     "name": "stdout",
     "output_type": "stream",
     "text": [
      "2518271.v-qsvr-1.aidevcloud\n"
     ]
    }
   ],
   "source": [
    "#Alloc a CPU compute node and see its specifications\n",
    "! chmod 755 check_specifications.sh;\n",
    "! qsub check_specifications.sh"
   ]
  },
  {
   "cell_type": "code",
   "execution_count": 25,
   "metadata": {},
   "outputs": [
    {
     "name": "stdout",
     "output_type": "stream",
     "text": [
      "2518272.v-qsvr-1.aidevcloud\n"
     ]
    }
   ],
   "source": [
    "! qsub run_getconf.sh"
   ]
  },
  {
   "cell_type": "code",
   "execution_count": 26,
   "metadata": {},
   "outputs": [
    {
     "name": "stdout",
     "output_type": "stream",
     "text": [
      "Thread(s) per core:              2\n",
      "Core(s) per socket:              6\n",
      "Socket(s):                       2\n",
      "NUMA node(s):                    2\n",
      "Model name:                      Intel(R) Xeon(R) Gold 6128 CPU @ 3.40GHz\n",
      "L1d cache:                       384 KiB\n",
      "L1i cache:                       384 KiB\n",
      "L2 cache:                        12 MiB\n",
      "L3 cache:                        38.5 MiB\n",
      "processor\t: 0\n",
      "cache size\t: 19712 KB\n",
      "processor\t: 1\n",
      "cache size\t: 19712 KB\n",
      "processor\t: 2\n",
      "cache size\t: 19712 KB\n",
      "processor\t: 3\n",
      "cache size\t: 19712 KB\n",
      "processor\t: 4\n",
      "cache size\t: 19712 KB\n",
      "processor\t: 5\n",
      "cache size\t: 19712 KB\n",
      "processor\t: 6\n",
      "cache size\t: 19712 KB\n",
      "processor\t: 7\n",
      "cache size\t: 19712 KB\n",
      "processor\t: 8\n",
      "cache size\t: 19712 KB\n",
      "processor\t: 9\n",
      "cache size\t: 19712 KB\n",
      "processor\t: 10\n",
      "cache size\t: 19712 KB\n",
      "processor\t: 11\n",
      "cache size\t: 19712 KB\n",
      "processor\t: 12\n",
      "cache size\t: 19712 KB\n",
      "processor\t: 13\n",
      "cache size\t: 19712 KB\n",
      "processor\t: 14\n",
      "cache size\t: 19712 KB\n",
      "processor\t: 15\n",
      "cache size\t: 19712 KB\n",
      "processor\t: 16\n",
      "cache size\t: 19712 KB\n",
      "processor\t: 17\n",
      "cache size\t: 19712 KB\n",
      "processor\t: 18\n",
      "cache size\t: 19712 KB\n",
      "processor\t: 19\n",
      "cache size\t: 19712 KB\n",
      "processor\t: 20\n",
      "cache size\t: 19712 KB\n",
      "processor\t: 21\n",
      "cache size\t: 19712 KB\n",
      "processor\t: 22\n",
      "cache size\t: 19712 KB\n",
      "processor\t: 23\n",
      "cache size\t: 19712 KB\n",
      "Thread(s) per core:              2\n",
      "Core(s) per socket:              6\n",
      "Socket(s):                       2\n",
      "NUMA node(s):                    2\n",
      "Model name:                      Intel(R) Xeon(R) Gold 6128 CPU @ 3.40GHz\n",
      "L1d cache:                       384 KiB\n",
      "L1i cache:                       384 KiB\n",
      "L2 cache:                        12 MiB\n",
      "L3 cache:                        38.5 MiB\n",
      "processor\t: 0\n",
      "cache size\t: 19712 KB\n",
      "processor\t: 1\n",
      "cache size\t: 19712 KB\n",
      "processor\t: 2\n",
      "cache size\t: 19712 KB\n",
      "processor\t: 3\n",
      "cache size\t: 19712 KB\n",
      "processor\t: 4\n",
      "cache size\t: 19712 KB\n",
      "processor\t: 5\n",
      "cache size\t: 19712 KB\n",
      "processor\t: 6\n",
      "cache size\t: 19712 KB\n",
      "processor\t: 7\n",
      "cache size\t: 19712 KB\n",
      "processor\t: 8\n",
      "cache size\t: 19712 KB\n",
      "processor\t: 9\n",
      "cache size\t: 19712 KB\n",
      "processor\t: 10\n",
      "cache size\t: 19712 KB\n",
      "processor\t: 11\n",
      "cache size\t: 19712 KB\n",
      "processor\t: 12\n",
      "cache size\t: 19712 KB\n",
      "processor\t: 13\n",
      "cache size\t: 19712 KB\n",
      "processor\t: 14\n",
      "cache size\t: 19712 KB\n",
      "processor\t: 15\n",
      "cache size\t: 19712 KB\n",
      "processor\t: 16\n",
      "cache size\t: 19712 KB\n",
      "processor\t: 17\n",
      "cache size\t: 19712 KB\n",
      "processor\t: 18\n",
      "cache size\t: 19712 KB\n",
      "processor\t: 19\n",
      "cache size\t: 19712 KB\n",
      "processor\t: 20\n",
      "cache size\t: 19712 KB\n",
      "processor\t: 21\n",
      "cache size\t: 19712 KB\n",
      "processor\t: 22\n",
      "cache size\t: 19712 KB\n",
      "processor\t: 23\n",
      "cache size\t: 19712 KB\n"
     ]
    }
   ],
   "source": [
    "! cd ~/dev/HW1/HW1 && cat check_specifications.sh.o* | grep -E \"Model name|Socket\\(s\\)|Core\\(s\\)|NUMA node\\(s\\)|Thread\\(s\\) per core|L1d cache|L1i cache|L2 cache|L3 cache|processor|cache size\""
   ]
  },
  {
   "cell_type": "markdown",
   "metadata": {},
   "source": [
    "##### Explain what do you learn from the specs. Focus on:\n",
    "- How many CPU sockets there are in the node?\n",
    "2\n",
    "- How many physical cores for each CPU socket?\n",
    "6\n",
    "- How many Non-Uniform Memory Access (NUMA) nodes in the system? What does it mean? \n",
    "2 - these are the mems of each processor -> hence 2\n",
    "- What does it mean \"Thread(s) per core\"? (Hint: check in google for \"_Hyper-Threading_\").\n",
    "physical threads in each core, there are 2, since there are 2 threads per core, 6 cores per socket and 2 sockets, we get 24 \"processors\" which is actually referring to internal processing units.\n",
    "- What are the cache sizes in the system? "
   ]
  },
  {
   "cell_type": "markdown",
   "metadata": {},
   "source": [
    "* This node has two sockets, which means two CPUs on the same board, as can be seen when using *lscpu*, and grepping for: \"Socket(s).\"\n",
    "* EACH CPU has 6 physical cores (lscpu | grep -E \"Core\\(s\\) per socket\").\n",
    "    * Each core has 2 logical HW threads (using HyperThreading), which brings us to 12 (logical) cores per CPU.\n",
    "    * Logical core means that the core exposes itself to the OS as two CPUs and the OS does not know that 'beneath the hood' it is interleaving between two streams of instructions.\n",
    "    * That brings us to 24 logical cores in the node: 2 sockets X 6 physical cores per socket X 2 logical cores (HW threads) per physical core.\n",
    "* There are 2 NUMA nodes in the system. (*lscpu | grep -E \"NUMA node\\(s\\)\"*).\n",
    "    * It means that the cores are split into two groups; each has its subspace of memory close to it.\n",
    "    * Each group of cores can still access the other part of the memory space, but it will take longer than accessing its own part.\n",
    "    * *numactl --hardware* gives us the relative time each node accesses its own part of memory compared to the other:<br>\n",
    "        node distances:<br>\n",
    "        node 0--1<br>\n",
    "        ---0 10 21<br>\n",
    "        ---1 21 10<br>\n",
    "      In other words, it takes ~2.1x longer to access the other NUMA node memory than access itself.\n",
    "    * I'm assuming here each socket is a NUMA node, but in general, it does not most to be like that.\n",
    "* In the Xeon Skylake architecture, each core supports two parallel 'execution contexts,' or in its other name: HW threads. These two threads share the HW resources beneath, and the CPU is interleaving between them following some criteria. \n",
    "    * Using SMT (Simultaneous MultiThreading), both treads are being interleaved in a fine-grained fashion, based on each other stalling for request completions (waiting for memory read response on a cache miss, for example). \n",
    "    * This feature supposes to improve each core utilization because 'less than double the HW does two times work.'\n",
    "    * This should not be confused with SW threads (OS threads)! SW threads require OS intervention, which takes a lot of time and forces some assumptions on the programming model. HW threads are indifferent to the kind of SW running. \n",
    "* Cache sizes:\n",
    "    * Each core has 32[KB] of L1d and 32[KB] of L1i. This is why *lscpu* tells us that L1d=384[KB] and L1i=384[KB]. We have 12 cores with 32[KB], so: 32*12=384.\n",
    "    * Each core has 1[MB] of unified (data & instructions) L2. Therefore *lscpu* tells us that L2=12[MB].\n",
    "    * Each CPU (1 per socket) has 19.25[MB] of unified to all cores L3. Therefore *lscpu* tells us that L3=19.25*2=38.5[MB]\n",
    "    * Note that *proc/cpuinfo* shows us only the L3 cache size, although the information is presented per logical processor (24 cores).<br> Each L3 is shared between 6 physical or 12 logical cores.\n",
    "    * I verified this data by the Xeon Gold 6128 spec and by using *getconf -a*, which displays the information per core.\n",
    "    * https://www.intel.com/content/dam/www/public/us/en/documents/product-briefs/xeon-scalable-platform-brief.pdf\n",
    "    \n"
   ]
  },
  {
   "cell_type": "markdown",
   "metadata": {},
   "source": [
    "### Note: The _q_ script\n",
    "The script file _q_ is used to submit jobs easily via PSB on Intel DevCloud. We will use it from now on. \\\n",
    "When _q_ is used to submit jobs within a Jupityer notebook, then if allocation of resources is enabled within 60 seconds, output will be printed on the notebook itself; otherwise the job will be queded for execution, and the associated output file will be created later in the current directory. \\\n",
    "**Therefore, pay attention that all jobs are completed on notebook or successfully create associated output files before you submit your work.**"
   ]
  },
  {
   "cell_type": "markdown",
   "metadata": {},
   "source": [
    "## Problem 2: Warming-up (10 points)\n",
    "### What are the difference (if any) between the three code snippets? "
   ]
  },
  {
   "cell_type": "raw",
   "metadata": {},
   "source": [
    "(A)\n",
    "\n",
    "#include <stdio.h>\n",
    "#include <omp.h>\n",
    "\n",
    "int main(int argc, char** argv){\n",
    "\n",
    "    #pragma omp parallel\n",
    "    {\n",
    "        for(int i=0; i<10000; i++)\n",
    "           Do_Some_Work(i);\n",
    "    }\n",
    "    \n",
    "    return 0;\n",
    "}\n"
   ]
  },
  {
   "cell_type": "raw",
   "metadata": {},
   "source": [
    "(B)\n",
    "\n",
    "#include <stdio.h>\n",
    "#include <omp.h>\n",
    "\n",
    "int main(int argc, char** argv){\n",
    "\n",
    "    #pragma omp parallel\n",
    "    {\n",
    "        #pragma omp for \n",
    "        for(int i=0; i<10000; i++)\n",
    "           Do_Some_Work(i);\n",
    "    }\n",
    "    \n",
    "    return 0;\n",
    "}"
   ]
  },
  {
   "cell_type": "raw",
   "metadata": {},
   "source": [
    "(C)\n",
    "\n",
    "#include <stdio.h>\n",
    "#include <omp.h>\n",
    "\n",
    "int main(int argc, char** argv){\n",
    "\n",
    "    #pragma omp parallel for\n",
    "    {\n",
    "        for(int i=0; i<10000; i++)\n",
    "           Do_Some_Work(i);\n",
    "    }\n",
    "    \n",
    "    return 0;\n",
    "}"
   ]
  },
  {
   "cell_type": "code",
   "execution_count": 27,
   "metadata": {},
   "outputs": [
    {
     "name": "stdout",
     "output_type": "stream",
     "text": [
      "Overwriting omp_warming_up_a.c\n"
     ]
    }
   ],
   "source": [
    "%%writefile omp_warming_up_a.c\n",
    "#include <stdio.h>\n",
    "#include <omp.h>\n",
    "\n",
    "void print_thread_iter(int i, int thread_id, int n_threads) {\n",
    "    printf(\"T %d/%d @ %d\\n\", thread_id, n_threads, i);\n",
    "}\n",
    "\n",
    "int main(int argc, char** argv){\n",
    "\n",
    "    #pragma omp parallel\n",
    "    {\n",
    "        for(int i=0; i<100; i++) {\n",
    "            int thread_id = omp_get_thread_num() + 1;\n",
    "            int n_threads = omp_get_num_threads();\n",
    "            print_thread_iter(i, thread_id, n_threads);\n",
    "        }\n",
    "    }\n",
    "    \n",
    "    return 0;\n",
    "}\n"
   ]
  },
  {
   "cell_type": "code",
   "execution_count": 28,
   "metadata": {},
   "outputs": [],
   "source": [
    "! gcc -o omp_warming_up_a -fopenmp omp_warming_up_a.c"
   ]
  },
  {
   "cell_type": "code",
   "execution_count": 39,
   "metadata": {},
   "outputs": [
    {
     "name": "stdout",
     "output_type": "stream",
     "text": [
      "Overwriting omp_warming_up_a.run\n"
     ]
    }
   ],
   "source": [
    "%%writefile omp_warming_up_a.run\n",
    "cd $PBS_O_WORKDIR\n",
    "./omp_warming_up_a\n",
    "echo \"Bye Bye\""
   ]
  },
  {
   "cell_type": "code",
   "execution_count": 40,
   "metadata": {},
   "outputs": [
    {
     "name": "stdout",
     "output_type": "stream",
     "text": [
      "Job has been submitted to Intel(R) DevCloud and will execute soon.\n",
      "\n",
      " If you do not see result in 60 seconds, please restart the Jupyter kernel:\n",
      " Kernel -> 'Restart Kernel and Clear All Outputs...' and then try again\n",
      "\n",
      "Job ID                    Name             User            Time Use S Queue\n",
      "------------------------- ---------------- --------------- -------- - -----\n",
      "2518232.v-qsvr-1           ...ub-singleuser u219333         00:00:30 R jupyterhub     \n",
      "2518277.v-qsvr-1           ...ming_up_a.run u219333                0 Q batch          \n",
      "\n",
      "Waiting for Output █████████"
     ]
    }
   ],
   "source": [
    "! ./q omp_warming_up_a.run"
   ]
  },
  {
   "cell_type": "code",
   "execution_count": 41,
   "metadata": {},
   "outputs": [
    {
     "name": "stdout",
     "output_type": "stream",
     "text": [
      "Overwriting omp_warming_up_b.c\n"
     ]
    }
   ],
   "source": [
    "%%writefile omp_warming_up_b.c\n",
    "#include <stdio.h>\n",
    "#include <omp.h>\n",
    "\n",
    "void print_thread_iter(int i, int thread_id, int n_threads) {\n",
    "    printf(\"T %d/%d @ %d\\n\", thread_id, n_threads, i);\n",
    "}\n",
    "\n",
    "int main(int argc, char** argv){\n",
    "\n",
    "    #pragma omp parallel\n",
    "    {\n",
    "        #pragma omp for\n",
    "        for(int i=0; i<100; i++) {\n",
    "            int thread_id = omp_get_thread_num() + 1;\n",
    "            int n_threads = omp_get_num_threads();\n",
    "            print_thread_iter(i, thread_id, n_threads);\n",
    "        }\n",
    "    }\n",
    "    \n",
    "    return 0;\n",
    "}\n"
   ]
  },
  {
   "cell_type": "code",
   "execution_count": 42,
   "metadata": {},
   "outputs": [],
   "source": [
    "! gcc -o omp_warming_up_b -fopenmp omp_warming_up_b.c"
   ]
  },
  {
   "cell_type": "code",
   "execution_count": 43,
   "metadata": {},
   "outputs": [
    {
     "name": "stdout",
     "output_type": "stream",
     "text": [
      "Overwriting omp_warming_up_b.run\n"
     ]
    }
   ],
   "source": [
    "%%writefile omp_warming_up_b.run\n",
    "cd $PBS_O_WORKDIR\n",
    "./omp_warming_up_b\n",
    "echo \"Bye Bye\""
   ]
  },
  {
   "cell_type": "code",
   "execution_count": 44,
   "metadata": {},
   "outputs": [
    {
     "name": "stdout",
     "output_type": "stream",
     "text": [
      "Job has been submitted to Intel(R) DevCloud and will execute soon.\n",
      "\n",
      " If you do not see result in 60 seconds, please restart the Jupyter kernel:\n",
      " Kernel -> 'Restart Kernel and Clear All Outputs...' and then try again\n",
      "\n",
      "Job ID                    Name             User            Time Use S Queue\n",
      "------------------------- ---------------- --------------- -------- - -----\n",
      "2518232.v-qsvr-1           ...ub-singleuser u219333         00:00:31 R jupyterhub     \n",
      "2518278.v-qsvr-1           ...ming_up_b.run u219333                0 Q batch          \n",
      "\n",
      "Waiting for Output ██████████"
     ]
    }
   ],
   "source": [
    "! ./q omp_warming_up_b.run"
   ]
  },
  {
   "cell_type": "code",
   "execution_count": 15,
   "metadata": {},
   "outputs": [
    {
     "name": "stdout",
     "output_type": "stream",
     "text": [
      "Overwriting omp_warming_up_c.c\n"
     ]
    }
   ],
   "source": [
    "%%writefile omp_warming_up_c.c\n",
    "#include <stdio.h>\n",
    "#include <omp.h>\n",
    "\n",
    "void print_thread_iter(int i, int thread_id, int n_threads) {\n",
    "    printf(\"T %d/%d @ %d\\n\", thread_id, n_threads, i);\n",
    "}\n",
    "\n",
    "int main(int argc, char** argv){\n",
    "\n",
    "    #pragma omp parallel for\n",
    "    for(int i=0; i<100; i++) {\n",
    "        int thread_id = omp_get_thread_num() + 1;\n",
    "        int n_threads = omp_get_num_threads();\n",
    "        print_thread_iter(i, thread_id, n_threads);\n",
    "        printf(\"hello\");\n",
    "    }\n",
    "    \n",
    "    return 0;\n",
    "}\n"
   ]
  },
  {
   "cell_type": "code",
   "execution_count": 19,
   "metadata": {},
   "outputs": [
    {
     "ename": "NameError",
     "evalue": "name 'vtune' is not defined",
     "output_type": "error",
     "traceback": [
      "\u001b[0;31m---------------------------------------------------------------------------\u001b[0m",
      "\u001b[0;31mNameError\u001b[0m                                 Traceback (most recent call last)",
      "Cell \u001b[0;32mIn[19], line 1\u001b[0m\n\u001b[0;32m----> 1\u001b[0m \u001b[43mvtune\u001b[49m\n",
      "\u001b[0;31mNameError\u001b[0m: name 'vtune' is not defined"
     ]
    }
   ],
   "source": []
  },
  {
   "cell_type": "code",
   "execution_count": 16,
   "metadata": {},
   "outputs": [],
   "source": [
    "! gcc -o omp_warming_up_c -fopenmp omp_warming_up_c.c"
   ]
  },
  {
   "cell_type": "code",
   "execution_count": 17,
   "metadata": {},
   "outputs": [
    {
     "name": "stdout",
     "output_type": "stream",
     "text": [
      "Overwriting omp_warming_up_c.run\n"
     ]
    }
   ],
   "source": [
    "%%writefile omp_warming_up_c.run\n",
    "! cd $PBS_O_WORKDIR\n",
    "! ./omp_warming_up_c\n",
    "! echo \"Bye Bye\""
   ]
  },
  {
   "cell_type": "code",
   "execution_count": 18,
   "metadata": {},
   "outputs": [
    {
     "name": "stdout",
     "output_type": "stream",
     "text": [
      "Job has been submitted to Intel(R) DevCloud and will execute soon.\n",
      "\n",
      " If you do not see result in 60 seconds, please restart the Jupyter kernel:\n",
      " Kernel -> 'Restart Kernel and Clear All Outputs...' and then try again\n",
      "\n",
      "Job ID                    Name             User            Time Use S Queue\n",
      "------------------------- ---------------- --------------- -------- - -----\n",
      "2520851.v-qsvr-1           ...ub-singleuser u219333         00:00:19 R jupyterhub     \n",
      "2520858.v-qsvr-1           ...ming_up_c.run u219333                0 Q batch          \n",
      "\n",
      "Waiting for Output ███████"
     ]
    }
   ],
   "source": [
    "! ./q omp_warming_up_c.run"
   ]
  },
  {
   "cell_type": "markdown",
   "metadata": {},
   "source": [
    "In code snippet A, each thread execute the whole for loop (10k iterations of 'do something').<br>\n",
    "In code snippet B, OpenMP splits the for loop work between the available threads, so each thread execute 10k/T iterations. Since we didn't set the number of threads, OpenMP uses the default number which is the number of (logical) cores in the system, 24 in our case.<br> \n",
    "In code snippet C, it does the same thing as B, but the code is cleaner.<br><br>\n",
    "I turned these code snippets into real code (see sections below), compiled it and run to make sure (and also just for fun). the results confirm the claims above. \n",
    "\n"
   ]
  },
  {
   "cell_type": "markdown",
   "metadata": {
    "tags": []
   },
   "source": [
    "## Problem 3: Mandelbrot area (40 points)\n",
    "The mandelbrot set is the set of complex numbers _c_ for which the function _z^2+c_ does not diverge when iterated from z=0. \n",
    "The area of the Mandelbrot set is known to be around 1.506.\n",
    "The serial program in _mandel_serial.c_ loops over a grid of points (5000x5000 points) in the complex plane which contains the Mandelbrot set, and tests each point to see whether it is inside or outside the set.\n",
    "#### In this exercise you will implement various parallel versions of the Mandelbrot program with OpenMP on a CPU node.\n",
    "#### Edit the following files to implement parallelization with CPU threads for the given serial code using OpenMP according to the following requirements:\n",
    "- **_mandel_parallel_critical.c_** - implementation using critical sections for synchronization of a single variable.\n",
    "- **_mandel_parallel_atomic.c_** - implementation using atomic operations for synchronization of a single variable.\n",
    "- **_mandel_parallel_false_sharing.c_** - implementation with global array of variables, each thread updates its own variable, creating false sharing (then a single thread reduce the results). \n",
    "- **_mandel_parallel_padding.c_** - as before, implementation with global array of variables, now using padding to prevent false sharing. \n",
    "- **_mandel_parallel_reduction.c_** - implementation with the reduction clause on a parallel loop construct.\n",
    "\n",
    "##### Hint: In class we saw similar implementations for the Monte Carlo Pi Calculation.\n",
    "##### You are required to test the parallel implementations with a varying number of compute threads. Note that we already made within the files the infrastructure to loop over varying number of threads (to make it easy to you).\n",
    "##### Pay attention you keep the timers wrapping the main loop of calculation in your parallel implementations.\n",
    "\n",
    "#### Then run the following cells, and collect the results.\n",
    "Note that the _.sh._ files include the compilation of the source file for each implementation. In this assaignment we use the _icx_ compiler.  "
   ]
  },
  {
   "cell_type": "code",
   "execution_count": 50,
   "metadata": {},
   "outputs": [
    {
     "name": "stdout",
     "output_type": "stream",
     "text": [
      "/home/u219333/dev/HW1/HW1/problem3\n"
     ]
    }
   ],
   "source": [
    "cd problem3"
   ]
  },
  {
   "cell_type": "markdown",
   "metadata": {},
   "source": [
    "### mandel_serial.c"
   ]
  },
  {
   "cell_type": "code",
   "execution_count": 52,
   "metadata": {},
   "outputs": [
    {
     "data": {
      "text/plain": [
       "\u001b[0;34m/\u001b[0m\u001b[0;34m*\u001b[0m\u001b[0;34m\u001b[0m\n",
       "\u001b[0;34m\u001b[0m\u001b[0;34m**\u001b[0m  \u001b[0mPROGRAM\u001b[0m\u001b[0;34m:\u001b[0m \u001b[0mMandelbrot\u001b[0m \u001b[0marea\u001b[0m\u001b[0;34m\u001b[0m\n",
       "\u001b[0;34m\u001b[0m\u001b[0;34m**\u001b[0m\u001b[0;34m\u001b[0m\n",
       "\u001b[0;34m\u001b[0m\u001b[0;34m**\u001b[0m  \u001b[0mPURPOSE\u001b[0m\u001b[0;34m:\u001b[0m \u001b[0mProgram\u001b[0m \u001b[0mto\u001b[0m \u001b[0mcompute\u001b[0m \u001b[0mthe\u001b[0m \u001b[0marea\u001b[0m \u001b[0mof\u001b[0m \u001b[0ma\u001b[0m  \u001b[0mMandelbrot\u001b[0m \u001b[0mset\u001b[0m\u001b[0;34m.\u001b[0m\u001b[0;34m\u001b[0m\n",
       "\u001b[0;34m\u001b[0m\u001b[0;34m**\u001b[0m           \u001b[0mCorrect\u001b[0m \u001b[0manswer\u001b[0m \u001b[0mshould\u001b[0m \u001b[0mbe\u001b[0m \u001b[0maround\u001b[0m \u001b[0;36m1.510659\u001b[0m\u001b[0;34m.\u001b[0m\u001b[0;34m\u001b[0m\n",
       "\u001b[0;34m\u001b[0m\u001b[0;34m**\u001b[0m           \u001b[0mWARNING\u001b[0m\u001b[0;34m:\u001b[0m \u001b[0mthis\u001b[0m \u001b[0mprogram\u001b[0m \u001b[0mmay\u001b[0m \u001b[0mcontain\u001b[0m \u001b[0merrors\u001b[0m\u001b[0;34m\u001b[0m\n",
       "\u001b[0;34m\u001b[0m\u001b[0;34m**\u001b[0m\u001b[0;34m\u001b[0m\n",
       "\u001b[0;34m\u001b[0m\u001b[0;34m**\u001b[0m  \u001b[0mUSAGE\u001b[0m\u001b[0;34m:\u001b[0m   \u001b[0mProgram\u001b[0m \u001b[0mruns\u001b[0m \u001b[0mwithout\u001b[0m \u001b[0minput\u001b[0m \u001b[0;34m...\u001b[0m \u001b[0mjust\u001b[0m \u001b[0mrun\u001b[0m \u001b[0mthe\u001b[0m \u001b[0mexecutable\u001b[0m\u001b[0;34m\u001b[0m\n",
       "\u001b[0;34m\u001b[0m\u001b[0;34m**\u001b[0m            \u001b[0;34m\u001b[0m\n",
       "\u001b[0;34m\u001b[0m\u001b[0;34m**\u001b[0m  \u001b[0mHISTORY\u001b[0m\u001b[0;34m:\u001b[0m \u001b[0mWritten\u001b[0m\u001b[0;34m:\u001b[0m  \u001b[0;34m(\u001b[0m\u001b[0mMark\u001b[0m \u001b[0mBull\u001b[0m\u001b[0;34m,\u001b[0m \u001b[0mAugust\u001b[0m \u001b[0;36m2011\u001b[0m\u001b[0;34m)\u001b[0m\u001b[0;34m.\u001b[0m\u001b[0;34m\u001b[0m\n",
       "\u001b[0;34m\u001b[0m\u001b[0;34m**\u001b[0m           \u001b[0mChanged\u001b[0m \u001b[0;34m\"comples\"\u001b[0m \u001b[0mto\u001b[0m \u001b[0;34m\"d_comples\"\u001b[0m \u001b[0mto\u001b[0m \u001b[0mavoid\u001b[0m \u001b[0mcollsion\u001b[0m \u001b[0;32mwith\u001b[0m \u001b[0;34m\u001b[0m\n",
       "\u001b[0;34m\u001b[0m\u001b[0;34m**\u001b[0m           \u001b[0mmath\u001b[0m\u001b[0;34m.\u001b[0m\u001b[0mh\u001b[0m \u001b[0mcomplex\u001b[0m \u001b[0mtype\u001b[0m \u001b[0;34m(\u001b[0m\u001b[0mTim\u001b[0m \u001b[0mMattson\u001b[0m\u001b[0;34m,\u001b[0m \u001b[0mSeptember\u001b[0m \u001b[0;36m2011\u001b[0m\u001b[0;34m)\u001b[0m\u001b[0;34m\u001b[0m\n",
       "\u001b[0;34m\u001b[0m\u001b[0;34m*\u001b[0m\u001b[0;34m/\u001b[0m\u001b[0;34m\u001b[0m\n",
       "\u001b[0;34m\u001b[0m\u001b[0;34m\u001b[0m\n",
       "\u001b[0;34m\u001b[0m\u001b[0;31m#include <stdio.h>\u001b[0m\u001b[0;34m\u001b[0m\n",
       "\u001b[0;34m\u001b[0m\u001b[0;31m#include <stdlib.h>\u001b[0m\u001b[0;34m\u001b[0m\n",
       "\u001b[0;34m\u001b[0m\u001b[0;31m#include <math.h>\u001b[0m\u001b[0;34m\u001b[0m\n",
       "\u001b[0;34m\u001b[0m\u001b[0;31m#include <omp.h>\u001b[0m\u001b[0;34m\u001b[0m\n",
       "\u001b[0;34m\u001b[0m\u001b[0;34m\u001b[0m\n",
       "\u001b[0;34m\u001b[0m\u001b[0;31m# define NPOINTS 5000\u001b[0m\u001b[0;34m\u001b[0m\n",
       "\u001b[0;34m\u001b[0m\u001b[0;31m# define MAXITER 5000\u001b[0m\u001b[0;34m\u001b[0m\n",
       "\u001b[0;34m\u001b[0m\u001b[0;34m\u001b[0m\n",
       "\u001b[0;34m\u001b[0m\u001b[0mvoid\u001b[0m \u001b[0mtestpoint\u001b[0m\u001b[0;34m(\u001b[0m\u001b[0mvoid\u001b[0m\u001b[0;34m)\u001b[0m\u001b[0;34m;\u001b[0m\u001b[0;34m\u001b[0m\n",
       "\u001b[0;34m\u001b[0m\u001b[0;34m\u001b[0m\n",
       "\u001b[0;34m\u001b[0m\u001b[0mstruct\u001b[0m \u001b[0md_complex\u001b[0m \u001b[0;34m{\u001b[0m\u001b[0;34m\u001b[0m\n",
       "\u001b[0;34m\u001b[0m   \u001b[0mdouble\u001b[0m \u001b[0mr\u001b[0m\u001b[0;34m;\u001b[0m\u001b[0;34m\u001b[0m\n",
       "\u001b[0;34m\u001b[0m   \u001b[0mdouble\u001b[0m \u001b[0mi\u001b[0m\u001b[0;34m;\u001b[0m\u001b[0;34m\u001b[0m\n",
       "\u001b[0;34m\u001b[0m\u001b[0;34m}\u001b[0m\u001b[0;34m;\u001b[0m\u001b[0;34m\u001b[0m\n",
       "\u001b[0;34m\u001b[0m\u001b[0;34m\u001b[0m\n",
       "\u001b[0;34m\u001b[0m\u001b[0mstruct\u001b[0m \u001b[0md_complex\u001b[0m \u001b[0mc\u001b[0m\u001b[0;34m;\u001b[0m\u001b[0;34m\u001b[0m\n",
       "\u001b[0;34m\u001b[0m\u001b[0mint\u001b[0m \u001b[0mnumoutside\u001b[0m \u001b[0;34m=\u001b[0m \u001b[0;36m0\u001b[0m\u001b[0;34m;\u001b[0m\u001b[0;34m\u001b[0m\n",
       "\u001b[0;34m\u001b[0m\u001b[0;34m\u001b[0m\n",
       "\u001b[0;34m\u001b[0m\u001b[0mint\u001b[0m \u001b[0mmain\u001b[0m\u001b[0;34m(\u001b[0m\u001b[0;34m)\u001b[0m \u001b[0;34m{\u001b[0m\u001b[0;34m\u001b[0m\n",
       "\u001b[0;34m\u001b[0m    \u001b[0;34m\u001b[0m\n",
       "\u001b[0;34m\u001b[0m   \u001b[0mint\u001b[0m \u001b[0mi\u001b[0m\u001b[0;34m,\u001b[0m \u001b[0mj\u001b[0m\u001b[0;34m;\u001b[0m\u001b[0;34m\u001b[0m\n",
       "\u001b[0;34m\u001b[0m   \u001b[0mdouble\u001b[0m \u001b[0marea\u001b[0m\u001b[0;34m,\u001b[0m \u001b[0merror\u001b[0m\u001b[0;34m,\u001b[0m \u001b[0meps\u001b[0m \u001b[0;34m=\u001b[0m \u001b[0;36m1.0e-5\u001b[0m\u001b[0;34m;\u001b[0m\u001b[0;34m\u001b[0m\n",
       "\u001b[0;34m\u001b[0m   \u001b[0mdouble\u001b[0m \u001b[0mstart_time\u001b[0m\u001b[0;34m,\u001b[0m \u001b[0mrun_time\u001b[0m\u001b[0;34m;\u001b[0m\u001b[0;34m\u001b[0m\n",
       "\u001b[0;34m\u001b[0m   \u001b[0mstart_time\u001b[0m \u001b[0;34m=\u001b[0m \u001b[0momp_get_wtime\u001b[0m\u001b[0;34m(\u001b[0m\u001b[0;34m)\u001b[0m\u001b[0;34m;\u001b[0m\u001b[0;34m\u001b[0m\n",
       "\u001b[0;34m\u001b[0m    \u001b[0;34m\u001b[0m\n",
       "\u001b[0;34m\u001b[0m   \u001b[0;34m//\u001b[0m \u001b[0mLoop\u001b[0m \u001b[0mover\u001b[0m \u001b[0mgrid\u001b[0m \u001b[0mof\u001b[0m \u001b[0mpoints\u001b[0m \u001b[0;32min\u001b[0m \u001b[0mthe\u001b[0m \u001b[0mcomplex\u001b[0m \u001b[0mplane\u001b[0m \u001b[0mwhich\u001b[0m \u001b[0mcontains\u001b[0m \u001b[0;34m\u001b[0m\n",
       "\u001b[0;34m\u001b[0m   \u001b[0;34m//\u001b[0m \u001b[0mthe\u001b[0m \u001b[0mMandelbrot\u001b[0m \u001b[0mset\u001b[0m\u001b[0;34m,\u001b[0m \u001b[0mtest\u001b[0m \u001b[0meach\u001b[0m \u001b[0mpoint\u001b[0m \u001b[0mto\u001b[0m \u001b[0msee\u001b[0m \u001b[0mwhether\u001b[0m \u001b[0mit\u001b[0m \u001b[0;32mis\u001b[0m \u001b[0;34m\u001b[0m\n",
       "\u001b[0;34m\u001b[0m   \u001b[0;34m//\u001b[0m \u001b[0minside\u001b[0m \u001b[0;32mor\u001b[0m \u001b[0moutside\u001b[0m \u001b[0mthe\u001b[0m \u001b[0mset\u001b[0m\u001b[0;34m\u001b[0m\n",
       "\u001b[0;34m\u001b[0m    \u001b[0;32mfor\u001b[0m \u001b[0;34m(\u001b[0m\u001b[0mi\u001b[0m \u001b[0;34m=\u001b[0m \u001b[0;36m0\u001b[0m\u001b[0;34m;\u001b[0m \u001b[0mi\u001b[0m \u001b[0;34m<\u001b[0m \u001b[0mNPOINTS\u001b[0m\u001b[0;34m;\u001b[0m \u001b[0mi\u001b[0m\u001b[0;34m+\u001b[0m\u001b[0;34m+\u001b[0m\u001b[0;34m)\u001b[0m \u001b[0;34m{\u001b[0m\u001b[0;34m\u001b[0m\n",
       "\u001b[0;34m\u001b[0m        \u001b[0;32mfor\u001b[0m \u001b[0;34m(\u001b[0m\u001b[0mj\u001b[0m \u001b[0;34m=\u001b[0m \u001b[0;36m0\u001b[0m\u001b[0;34m;\u001b[0m \u001b[0mj\u001b[0m \u001b[0;34m<\u001b[0m \u001b[0mNPOINTS\u001b[0m\u001b[0;34m;\u001b[0m \u001b[0mj\u001b[0m\u001b[0;34m+\u001b[0m\u001b[0;34m+\u001b[0m\u001b[0;34m)\u001b[0m \u001b[0;34m{\u001b[0m\u001b[0;34m\u001b[0m\n",
       "\u001b[0;34m\u001b[0m            \u001b[0mc\u001b[0m\u001b[0;34m.\u001b[0m\u001b[0mr\u001b[0m \u001b[0;34m=\u001b[0m \u001b[0;34m-\u001b[0m\u001b[0;36m2.0\u001b[0m \u001b[0;34m+\u001b[0m \u001b[0;36m2.5\u001b[0m \u001b[0;34m*\u001b[0m \u001b[0;34m(\u001b[0m\u001b[0mdouble\u001b[0m\u001b[0;34m)\u001b[0m\u001b[0;34m(\u001b[0m\u001b[0mi\u001b[0m\u001b[0;34m)\u001b[0m \u001b[0;34m/\u001b[0m \u001b[0;34m(\u001b[0m\u001b[0mdouble\u001b[0m\u001b[0;34m)\u001b[0m\u001b[0;34m(\u001b[0m\u001b[0mNPOINTS\u001b[0m\u001b[0;34m)\u001b[0m \u001b[0;34m+\u001b[0m \u001b[0meps\u001b[0m\u001b[0;34m;\u001b[0m\u001b[0;34m\u001b[0m\n",
       "\u001b[0;34m\u001b[0m            \u001b[0mc\u001b[0m\u001b[0;34m.\u001b[0m\u001b[0mi\u001b[0m \u001b[0;34m=\u001b[0m \u001b[0;36m1.125\u001b[0m \u001b[0;34m*\u001b[0m \u001b[0;34m(\u001b[0m\u001b[0mdouble\u001b[0m\u001b[0;34m)\u001b[0m\u001b[0;34m(\u001b[0m\u001b[0mj\u001b[0m\u001b[0;34m)\u001b[0m \u001b[0;34m/\u001b[0m \u001b[0;34m(\u001b[0m\u001b[0mdouble\u001b[0m\u001b[0;34m)\u001b[0m\u001b[0;34m(\u001b[0m\u001b[0mNPOINTS\u001b[0m\u001b[0;34m)\u001b[0m \u001b[0;34m+\u001b[0m \u001b[0meps\u001b[0m\u001b[0;34m;\u001b[0m\u001b[0;34m\u001b[0m\n",
       "\u001b[0;34m\u001b[0m            \u001b[0mtestpoint\u001b[0m\u001b[0;34m(\u001b[0m\u001b[0;34m)\u001b[0m\u001b[0;34m;\u001b[0m\u001b[0;34m\u001b[0m\n",
       "\u001b[0;34m\u001b[0m        \u001b[0;34m}\u001b[0m\u001b[0;34m\u001b[0m\n",
       "\u001b[0;34m\u001b[0m    \u001b[0;34m}\u001b[0m\u001b[0;34m\u001b[0m\n",
       "\u001b[0;34m\u001b[0m       \u001b[0;34m\u001b[0m\n",
       "\u001b[0;34m\u001b[0m       \u001b[0mrun_time\u001b[0m \u001b[0;34m=\u001b[0m \u001b[0momp_get_wtime\u001b[0m\u001b[0;34m(\u001b[0m\u001b[0;34m)\u001b[0m \u001b[0;34m-\u001b[0m \u001b[0mstart_time\u001b[0m\u001b[0;34m;\u001b[0m\u001b[0;34m\u001b[0m\n",
       "\u001b[0;34m\u001b[0m       \u001b[0;34m//\u001b[0m \u001b[0mCalculate\u001b[0m \u001b[0marea\u001b[0m \u001b[0mof\u001b[0m \u001b[0mset\u001b[0m \u001b[0;32mand\u001b[0m \u001b[0merror\u001b[0m \u001b[0mestimate\u001b[0m \u001b[0;32mand\u001b[0m \u001b[0moutput\u001b[0m \u001b[0mthe\u001b[0m \u001b[0mresults\u001b[0m\u001b[0;34m\u001b[0m\n",
       "\u001b[0;34m\u001b[0m       \u001b[0marea\u001b[0m \u001b[0;34m=\u001b[0m \u001b[0;36m2.0\u001b[0m \u001b[0;34m*\u001b[0m \u001b[0;36m2.5\u001b[0m \u001b[0;34m*\u001b[0m \u001b[0;36m1.125\u001b[0m \u001b[0;34m*\u001b[0m \u001b[0;34m(\u001b[0m\u001b[0mdouble\u001b[0m\u001b[0;34m)\u001b[0m\u001b[0;34m(\u001b[0m\u001b[0mNPOINTS\u001b[0m \u001b[0;34m*\u001b[0m \u001b[0mNPOINTS\u001b[0m \u001b[0;34m-\u001b[0m \u001b[0mnumoutside\u001b[0m\u001b[0;34m)\u001b[0m \u001b[0;34m\u001b[0m\n",
       "\u001b[0;34m\u001b[0m             \u001b[0;34m/\u001b[0m \u001b[0;34m(\u001b[0m\u001b[0mdouble\u001b[0m\u001b[0;34m)\u001b[0m\u001b[0;34m(\u001b[0m\u001b[0mNPOINTS\u001b[0m \u001b[0;34m*\u001b[0m \u001b[0mNPOINTS\u001b[0m\u001b[0;34m)\u001b[0m\u001b[0;34m;\u001b[0m\u001b[0;34m\u001b[0m\n",
       "\u001b[0;34m\u001b[0m       \u001b[0merror\u001b[0m \u001b[0;34m=\u001b[0m \u001b[0marea\u001b[0m \u001b[0;34m/\u001b[0m \u001b[0;34m(\u001b[0m\u001b[0mdouble\u001b[0m\u001b[0;34m)\u001b[0m\u001b[0mNPOINTS\u001b[0m\u001b[0;34m;\u001b[0m\u001b[0;34m\u001b[0m\n",
       "\u001b[0;34m\u001b[0m       \u001b[0mprintf\u001b[0m\u001b[0;34m(\u001b[0m\u001b[0;34m\"Area of Mandlebrot set = %12.8f +/- %12.8f\\n\"\u001b[0m\u001b[0;34m,\u001b[0m\u001b[0marea\u001b[0m\u001b[0;34m,\u001b[0m\u001b[0merror\u001b[0m\u001b[0;34m)\u001b[0m\u001b[0;34m;\u001b[0m\u001b[0;34m\u001b[0m\n",
       "\u001b[0;34m\u001b[0m       \u001b[0mprintf\u001b[0m\u001b[0;34m(\u001b[0m\u001b[0;34m\"Serial implementation - time: %f seconds\\n\"\u001b[0m\u001b[0;34m,\u001b[0m\u001b[0mrun_time\u001b[0m\u001b[0;34m)\u001b[0m\u001b[0;34m;\u001b[0m   \u001b[0;34m\u001b[0m\n",
       "\u001b[0;34m\u001b[0m       \u001b[0mprintf\u001b[0m\u001b[0;34m(\u001b[0m\u001b[0;34m\"(Correct answer should be around 1.506)\\n\"\u001b[0m\u001b[0;34m)\u001b[0m\u001b[0;34m;\u001b[0m\u001b[0;34m\u001b[0m\n",
       "\u001b[0;34m\u001b[0m\u001b[0;34m}\u001b[0m\u001b[0;34m\u001b[0m\n",
       "\u001b[0;34m\u001b[0m\u001b[0;34m\u001b[0m\n",
       "\u001b[0;34m\u001b[0m\u001b[0mvoid\u001b[0m \u001b[0mtestpoint\u001b[0m\u001b[0;34m(\u001b[0m\u001b[0mvoid\u001b[0m\u001b[0;34m)\u001b[0m \u001b[0;34m{\u001b[0m\u001b[0;34m\u001b[0m\n",
       "\u001b[0;34m\u001b[0m\u001b[0;34m\u001b[0m\n",
       "\u001b[0;34m\u001b[0m   \u001b[0;34m//\u001b[0m \u001b[0mDoes\u001b[0m \u001b[0mthe\u001b[0m \u001b[0miteration\u001b[0m \u001b[0mz\u001b[0m\u001b[0;34m=\u001b[0m\u001b[0mz\u001b[0m\u001b[0;34m*\u001b[0m\u001b[0mz\u001b[0m\u001b[0;34m+\u001b[0m\u001b[0mc\u001b[0m\u001b[0;34m,\u001b[0m \u001b[0muntil\u001b[0m \u001b[0;34m|\u001b[0m\u001b[0mz\u001b[0m\u001b[0;34m|\u001b[0m \u001b[0;34m>\u001b[0m \u001b[0;36m2\u001b[0m \u001b[0mwhen\u001b[0m \u001b[0mpoint\u001b[0m \u001b[0;32mis\u001b[0m \u001b[0mknown\u001b[0m \u001b[0mto\u001b[0m \u001b[0;34m\u001b[0m\n",
       "\u001b[0;34m\u001b[0m   \u001b[0;34m//\u001b[0m \u001b[0mbe\u001b[0m \u001b[0moutside\u001b[0m \u001b[0mset\u001b[0m\u001b[0;34m.\u001b[0m \u001b[0mIf\u001b[0m \u001b[0mloop\u001b[0m \u001b[0mcount\u001b[0m \u001b[0mreaches\u001b[0m \u001b[0mMAXITER\u001b[0m\u001b[0;34m,\u001b[0m \u001b[0mpoint\u001b[0m \u001b[0;32mis\u001b[0m \u001b[0mconsidered\u001b[0m \u001b[0;34m\u001b[0m\n",
       "\u001b[0;34m\u001b[0m   \u001b[0;34m//\u001b[0m \u001b[0mto\u001b[0m \u001b[0mbe\u001b[0m \u001b[0minside\u001b[0m \u001b[0mthe\u001b[0m \u001b[0mset\u001b[0m\u001b[0;34m.\u001b[0m\u001b[0;34m\u001b[0m\n",
       "\u001b[0;34m\u001b[0m\u001b[0;34m\u001b[0m\n",
       "\u001b[0;34m\u001b[0m   \u001b[0mstruct\u001b[0m \u001b[0md_complex\u001b[0m \u001b[0mz\u001b[0m\u001b[0;34m;\u001b[0m\u001b[0;34m\u001b[0m\n",
       "\u001b[0;34m\u001b[0m   \u001b[0mint\u001b[0m \u001b[0miter\u001b[0m\u001b[0;34m;\u001b[0m\u001b[0;34m\u001b[0m\n",
       "\u001b[0;34m\u001b[0m   \u001b[0mdouble\u001b[0m \u001b[0mtemp\u001b[0m\u001b[0;34m;\u001b[0m\u001b[0;34m\u001b[0m\n",
       "\u001b[0;34m\u001b[0m\u001b[0;34m\u001b[0m\n",
       "\u001b[0;34m\u001b[0m   \u001b[0mz\u001b[0m \u001b[0;34m=\u001b[0m \u001b[0mc\u001b[0m\u001b[0;34m;\u001b[0m\u001b[0;34m\u001b[0m\n",
       "\u001b[0;34m\u001b[0m   \u001b[0;32mfor\u001b[0m \u001b[0;34m(\u001b[0m\u001b[0miter\u001b[0m \u001b[0;34m=\u001b[0m \u001b[0;36m0\u001b[0m\u001b[0;34m;\u001b[0m \u001b[0miter\u001b[0m \u001b[0;34m<\u001b[0m \u001b[0mMAXITER\u001b[0m\u001b[0;34m;\u001b[0m \u001b[0miter\u001b[0m\u001b[0;34m+\u001b[0m\u001b[0;34m+\u001b[0m\u001b[0;34m)\u001b[0m \u001b[0;34m{\u001b[0m\u001b[0;34m\u001b[0m\n",
       "\u001b[0;34m\u001b[0m      \u001b[0mtemp\u001b[0m \u001b[0;34m=\u001b[0m \u001b[0;34m(\u001b[0m\u001b[0mz\u001b[0m\u001b[0;34m.\u001b[0m\u001b[0mr\u001b[0m \u001b[0;34m*\u001b[0m \u001b[0mz\u001b[0m\u001b[0;34m.\u001b[0m\u001b[0mr\u001b[0m\u001b[0;34m)\u001b[0m \u001b[0;34m-\u001b[0m \u001b[0;34m(\u001b[0m\u001b[0mz\u001b[0m\u001b[0;34m.\u001b[0m\u001b[0mi\u001b[0m \u001b[0;34m*\u001b[0m \u001b[0mz\u001b[0m\u001b[0;34m.\u001b[0m\u001b[0mi\u001b[0m\u001b[0;34m)\u001b[0m \u001b[0;34m+\u001b[0m \u001b[0mc\u001b[0m\u001b[0;34m.\u001b[0m\u001b[0mr\u001b[0m\u001b[0;34m;\u001b[0m\u001b[0;34m\u001b[0m\n",
       "\u001b[0;34m\u001b[0m      \u001b[0mz\u001b[0m\u001b[0;34m.\u001b[0m\u001b[0mi\u001b[0m \u001b[0;34m=\u001b[0m \u001b[0mz\u001b[0m\u001b[0;34m.\u001b[0m\u001b[0mr\u001b[0m \u001b[0;34m*\u001b[0m \u001b[0mz\u001b[0m\u001b[0;34m.\u001b[0m\u001b[0mi\u001b[0m \u001b[0;34m*\u001b[0m \u001b[0;36m2\u001b[0m \u001b[0;34m+\u001b[0m \u001b[0mc\u001b[0m\u001b[0;34m.\u001b[0m\u001b[0mi\u001b[0m\u001b[0;34m;\u001b[0m\u001b[0;34m\u001b[0m\n",
       "\u001b[0;34m\u001b[0m      \u001b[0mz\u001b[0m\u001b[0;34m.\u001b[0m\u001b[0mr\u001b[0m \u001b[0;34m=\u001b[0m \u001b[0mtemp\u001b[0m\u001b[0;34m;\u001b[0m\u001b[0;34m\u001b[0m\n",
       "\u001b[0;34m\u001b[0m      \u001b[0;32mif\u001b[0m \u001b[0;34m(\u001b[0m\u001b[0;34m(\u001b[0m\u001b[0mz\u001b[0m\u001b[0;34m.\u001b[0m\u001b[0mr\u001b[0m \u001b[0;34m*\u001b[0m \u001b[0mz\u001b[0m\u001b[0;34m.\u001b[0m\u001b[0mr\u001b[0m \u001b[0;34m+\u001b[0m \u001b[0mz\u001b[0m\u001b[0;34m.\u001b[0m\u001b[0mi\u001b[0m \u001b[0;34m*\u001b[0m \u001b[0mz\u001b[0m\u001b[0;34m.\u001b[0m\u001b[0mi\u001b[0m\u001b[0;34m)\u001b[0m \u001b[0;34m>\u001b[0m \u001b[0;36m4.0\u001b[0m\u001b[0;34m)\u001b[0m \u001b[0;34m{\u001b[0m\u001b[0;34m\u001b[0m\n",
       "\u001b[0;34m\u001b[0m         \u001b[0mnumoutside\u001b[0m\u001b[0;34m+\u001b[0m\u001b[0;34m+\u001b[0m\u001b[0;34m;\u001b[0m\u001b[0;34m\u001b[0m\n",
       "\u001b[0;34m\u001b[0m         \u001b[0;32mbreak\u001b[0m\u001b[0;34m;\u001b[0m\u001b[0;34m\u001b[0m\n",
       "\u001b[0;34m\u001b[0m      \u001b[0;34m}\u001b[0m\u001b[0;34m\u001b[0m\n",
       "\u001b[0;34m\u001b[0m   \u001b[0;34m}\u001b[0m\u001b[0;34m\u001b[0m\n",
       "\u001b[0;34m\u001b[0m\u001b[0;34m}\u001b[0m\u001b[0;34m\u001b[0m\u001b[0;34m\u001b[0m\u001b[0m\n"
      ]
     },
     "metadata": {},
     "output_type": "display_data"
    }
   ],
   "source": [
    "# Elad: this is basically montecarlo but on numbers in order\n",
    "# Run on NxN numbers in ordered fashion and check for each until either\n",
    "# 1. |z|>2 --> goes to inf\n",
    "# 2. iteration number reaches max --> assume never goes to inf (this may technically be wrong and probably gives us a thin line around the edge that would be misclassified)\n",
    "%pycat mandel_serial.c"
   ]
  },
  {
   "cell_type": "code",
   "execution_count": 68,
   "metadata": {},
   "outputs": [],
   "source": [
    "! rm run_serial.sh.e*\n",
    "! rm run_serial.sh.o*"
   ]
  },
  {
   "cell_type": "code",
   "execution_count": 69,
   "metadata": {},
   "outputs": [
    {
     "name": "stdout",
     "output_type": "stream",
     "text": [
      "chmod: cannot access 'mandel_serial.sh': No such file or directory\n",
      "Job has been submitted to Intel(R) DevCloud and will execute soon.\n",
      "\n",
      " If you do not see result in 60 seconds, please restart the Jupyter kernel:\n",
      " Kernel -> 'Restart Kernel and Clear All Outputs...' and then try again\n",
      "\n",
      "Job ID                    Name             User            Time Use S Queue\n",
      "------------------------- ---------------- --------------- -------- - -----\n",
      "2067885.v-qsvr-1           ...ub-singleuser u177183         00:00:43 R jupyterhub     \n",
      "2067998.v-qsvr-1           run_serial.sh    u177183                0 Q batch          \n",
      "\n",
      "Waiting for Output ████████████████████████████████████████████████████████████\n",
      "\n",
      "TimeOut 60 seconds: Job is still queued for execution, check for output file later (run_serial.sh.o2067998)\n",
      "\n"
     ]
    }
   ],
   "source": [
    "! chmod 755 ../q; chmod 755 mandel_serial.sh;if [ -x \"$(command -v qsub)\" ]; then ./../q run_serial.sh; else ./run_serial.sh; fi"
   ]
  },
  {
   "cell_type": "code",
   "execution_count": 95,
   "metadata": {},
   "outputs": [
    {
     "name": "stdout",
     "output_type": "stream",
     "text": [
      "\n",
      "########################################################################\n",
      "#      Date:           Thu 01 Dec 2022 11:02:16 PM PST\n",
      "#    Job ID:           2067998.v-qsvr-1.aidevcloud\n",
      "#      User:           u177183\n",
      "# Resources:           cput=35:00:00,neednodes=1:batch:ppn=2,nodes=1:batch:ppn=2,walltime=06:00:00\n",
      "########################################################################\n",
      "\n",
      "## u177183 is running HW1 Problem 1 - Calculate Mandelbrot area - serial\n",
      "########## Compiling the given serial code\n",
      "########## Executing the given serial code\n",
      "Area of Mandlebrot set =   1.50763455 +/-   0.00030153\n",
      "Serial implementation - time: 210.427680 seconds\n",
      "(Correct answer should be around 1.506)\n",
      "########## Done serial\n",
      "\n",
      "########################################################################\n",
      "# End of output for job 2067998.v-qsvr-1.aidevcloud\n",
      "# Date: Thu 01 Dec 2022 11:05:54 PM PST\n",
      "########################################################################\n",
      "\n"
     ]
    }
   ],
   "source": [
    "! cat run_serial.sh.o*"
   ]
  },
  {
   "cell_type": "markdown",
   "metadata": {
    "tags": []
   },
   "source": [
    "### mandel_parallel_critical.c"
   ]
  },
  {
   "cell_type": "code",
   "execution_count": 71,
   "metadata": {},
   "outputs": [
    {
     "data": {
      "text/plain": [
       "\u001b[0;34m/\u001b[0m\u001b[0;34m*\u001b[0m\u001b[0;34m\u001b[0m\n",
       "\u001b[0;34m\u001b[0m\u001b[0;34m**\u001b[0m  \u001b[0mPROGRAM\u001b[0m\u001b[0;34m:\u001b[0m \u001b[0mMandelbrot\u001b[0m \u001b[0marea\u001b[0m\u001b[0;34m\u001b[0m\n",
       "\u001b[0;34m\u001b[0m\u001b[0;34m**\u001b[0m\u001b[0;34m\u001b[0m\n",
       "\u001b[0;34m\u001b[0m\u001b[0;34m**\u001b[0m  \u001b[0mPURPOSE\u001b[0m\u001b[0;34m:\u001b[0m \u001b[0mProgram\u001b[0m \u001b[0mto\u001b[0m \u001b[0mcompute\u001b[0m \u001b[0mthe\u001b[0m \u001b[0marea\u001b[0m \u001b[0mof\u001b[0m \u001b[0ma\u001b[0m  \u001b[0mMandelbrot\u001b[0m \u001b[0mset\u001b[0m\u001b[0;34m.\u001b[0m\u001b[0;34m\u001b[0m\n",
       "\u001b[0;34m\u001b[0m\u001b[0;34m**\u001b[0m           \u001b[0mCorrect\u001b[0m \u001b[0manswer\u001b[0m \u001b[0mshould\u001b[0m \u001b[0mbe\u001b[0m \u001b[0maround\u001b[0m \u001b[0;36m1.510659\u001b[0m\u001b[0;34m.\u001b[0m\u001b[0;34m\u001b[0m\n",
       "\u001b[0;34m\u001b[0m\u001b[0;34m**\u001b[0m           \u001b[0mWARNING\u001b[0m\u001b[0;34m:\u001b[0m \u001b[0mthis\u001b[0m \u001b[0mprogram\u001b[0m \u001b[0mmay\u001b[0m \u001b[0mcontain\u001b[0m \u001b[0merrors\u001b[0m\u001b[0;34m\u001b[0m\n",
       "\u001b[0;34m\u001b[0m\u001b[0;34m**\u001b[0m\u001b[0;34m\u001b[0m\n",
       "\u001b[0;34m\u001b[0m\u001b[0;34m**\u001b[0m  \u001b[0mUSAGE\u001b[0m\u001b[0;34m:\u001b[0m   \u001b[0mProgram\u001b[0m \u001b[0mruns\u001b[0m \u001b[0mwithout\u001b[0m \u001b[0minput\u001b[0m \u001b[0;34m...\u001b[0m \u001b[0mjust\u001b[0m \u001b[0mrun\u001b[0m \u001b[0mthe\u001b[0m \u001b[0mexecutable\u001b[0m\u001b[0;34m\u001b[0m\n",
       "\u001b[0;34m\u001b[0m\u001b[0;34m**\u001b[0m            \u001b[0;34m\u001b[0m\n",
       "\u001b[0;34m\u001b[0m\u001b[0;34m**\u001b[0m  \u001b[0mHISTORY\u001b[0m\u001b[0;34m:\u001b[0m \u001b[0mWritten\u001b[0m\u001b[0;34m:\u001b[0m  \u001b[0;34m(\u001b[0m\u001b[0mMark\u001b[0m \u001b[0mBull\u001b[0m\u001b[0;34m,\u001b[0m \u001b[0mAugust\u001b[0m \u001b[0;36m2011\u001b[0m\u001b[0;34m)\u001b[0m\u001b[0;34m.\u001b[0m\u001b[0;34m\u001b[0m\n",
       "\u001b[0;34m\u001b[0m\u001b[0;34m**\u001b[0m           \u001b[0mChanged\u001b[0m \u001b[0;34m\"comples\"\u001b[0m \u001b[0mto\u001b[0m \u001b[0;34m\"d_comples\"\u001b[0m \u001b[0mto\u001b[0m \u001b[0mavoid\u001b[0m \u001b[0mcollsion\u001b[0m \u001b[0;32mwith\u001b[0m \u001b[0;34m\u001b[0m\n",
       "\u001b[0;34m\u001b[0m\u001b[0;34m**\u001b[0m           \u001b[0mmath\u001b[0m\u001b[0;34m.\u001b[0m\u001b[0mh\u001b[0m \u001b[0mcomplex\u001b[0m \u001b[0mtype\u001b[0m \u001b[0;34m(\u001b[0m\u001b[0mTim\u001b[0m \u001b[0mMattson\u001b[0m\u001b[0;34m,\u001b[0m \u001b[0mSeptember\u001b[0m \u001b[0;36m2011\u001b[0m\u001b[0;34m)\u001b[0m\u001b[0;34m\u001b[0m\n",
       "\u001b[0;34m\u001b[0m\u001b[0;34m*\u001b[0m\u001b[0;34m/\u001b[0m\u001b[0;34m\u001b[0m\n",
       "\u001b[0;34m\u001b[0m\u001b[0;34m\u001b[0m\n",
       "\u001b[0;34m\u001b[0m\u001b[0;31m#include <stdio.h>\u001b[0m\u001b[0;34m\u001b[0m\n",
       "\u001b[0;34m\u001b[0m\u001b[0;31m#include <stdlib.h>\u001b[0m\u001b[0;34m\u001b[0m\n",
       "\u001b[0;34m\u001b[0m\u001b[0;31m#include <math.h>\u001b[0m\u001b[0;34m\u001b[0m\n",
       "\u001b[0;34m\u001b[0m\u001b[0;31m#include <omp.h>\u001b[0m\u001b[0;34m\u001b[0m\n",
       "\u001b[0;34m\u001b[0m\u001b[0;34m\u001b[0m\n",
       "\u001b[0;34m\u001b[0m\u001b[0;31m# define NPOINTS 5000\u001b[0m\u001b[0;34m\u001b[0m\n",
       "\u001b[0;34m\u001b[0m\u001b[0;31m# define MAXITER 5000\u001b[0m\u001b[0;34m\u001b[0m\n",
       "\u001b[0;34m\u001b[0m\u001b[0;31m#define NELEMS(x)  (sizeof(x) / sizeof((x)[0]))\u001b[0m\u001b[0;34m\u001b[0m\n",
       "\u001b[0;34m\u001b[0m\u001b[0;34m\u001b[0m\n",
       "\u001b[0;34m\u001b[0m\u001b[0mvoid\u001b[0m \u001b[0mtestpoint\u001b[0m\u001b[0;34m(\u001b[0m\u001b[0mvoid\u001b[0m\u001b[0;34m)\u001b[0m\u001b[0;34m;\u001b[0m\u001b[0;34m\u001b[0m\n",
       "\u001b[0;34m\u001b[0m\u001b[0;34m\u001b[0m\n",
       "\u001b[0;34m\u001b[0m\u001b[0mstruct\u001b[0m \u001b[0md_complex\u001b[0m \u001b[0;34m{\u001b[0m\u001b[0;34m\u001b[0m\n",
       "\u001b[0;34m\u001b[0m   \u001b[0mdouble\u001b[0m \u001b[0mr\u001b[0m\u001b[0;34m;\u001b[0m\u001b[0;34m\u001b[0m\n",
       "\u001b[0;34m\u001b[0m   \u001b[0mdouble\u001b[0m \u001b[0mi\u001b[0m\u001b[0;34m;\u001b[0m\u001b[0;34m\u001b[0m\n",
       "\u001b[0;34m\u001b[0m\u001b[0;34m}\u001b[0m\u001b[0;34m;\u001b[0m\u001b[0;34m\u001b[0m\n",
       "\u001b[0;34m\u001b[0m\u001b[0;34m\u001b[0m\n",
       "\u001b[0;34m\u001b[0m\u001b[0mstruct\u001b[0m \u001b[0md_complex\u001b[0m \u001b[0mc\u001b[0m\u001b[0;34m;\u001b[0m\u001b[0;34m\u001b[0m\n",
       "\u001b[0;34m\u001b[0m\u001b[0mint\u001b[0m \u001b[0mnumoutside\u001b[0m \u001b[0;34m=\u001b[0m \u001b[0;36m0\u001b[0m\u001b[0;34m;\u001b[0m\u001b[0;34m\u001b[0m\n",
       "\u001b[0;34m\u001b[0m\u001b[0;34m\u001b[0m\n",
       "\u001b[0;34m\u001b[0m\u001b[0mint\u001b[0m \u001b[0mmain\u001b[0m\u001b[0;34m(\u001b[0m\u001b[0;34m)\u001b[0m \u001b[0;34m{\u001b[0m\u001b[0;34m\u001b[0m\n",
       "\u001b[0;34m\u001b[0m    \u001b[0;34m\u001b[0m\n",
       "\u001b[0;34m\u001b[0m    \u001b[0mint\u001b[0m \u001b[0mthreads\u001b[0m\u001b[0;34m[\u001b[0m\u001b[0;36m6\u001b[0m\u001b[0;34m]\u001b[0m \u001b[0;34m=\u001b[0m \u001b[0;34m{\u001b[0m\u001b[0;36m1\u001b[0m\u001b[0;34m,\u001b[0m\u001b[0;36m2\u001b[0m\u001b[0;34m,\u001b[0m\u001b[0;36m4\u001b[0m\u001b[0;34m,\u001b[0m\u001b[0;36m8\u001b[0m\u001b[0;34m,\u001b[0m\u001b[0;36m16\u001b[0m\u001b[0;34m,\u001b[0m\u001b[0;36m24\u001b[0m\u001b[0;34m}\u001b[0m\u001b[0;34m;\u001b[0m  \u001b[0;34m\u001b[0m\n",
       "\u001b[0;34m\u001b[0m    \u001b[0mint\u001b[0m \u001b[0mi\u001b[0m\u001b[0;34m,\u001b[0m \u001b[0mj\u001b[0m\u001b[0;34m;\u001b[0m\u001b[0;34m\u001b[0m\n",
       "\u001b[0;34m\u001b[0m    \u001b[0mdouble\u001b[0m \u001b[0marea\u001b[0m\u001b[0;34m,\u001b[0m \u001b[0merror\u001b[0m\u001b[0;34m,\u001b[0m \u001b[0meps\u001b[0m \u001b[0;34m=\u001b[0m \u001b[0;36m1.0e-5\u001b[0m\u001b[0;34m;\u001b[0m\u001b[0;34m\u001b[0m\n",
       "\u001b[0;34m\u001b[0m    \u001b[0mdouble\u001b[0m \u001b[0mstart_time\u001b[0m\u001b[0;34m,\u001b[0m \u001b[0mrun_time\u001b[0m\u001b[0;34m;\u001b[0m\u001b[0;34m\u001b[0m\n",
       "\u001b[0;34m\u001b[0m\u001b[0;34m\u001b[0m\n",
       "\u001b[0;34m\u001b[0m    \u001b[0;34m//\u001b[0m \u001b[0mTest\u001b[0m \u001b[0mvarying\u001b[0m \u001b[0mnumber\u001b[0m \u001b[0mof\u001b[0m \u001b[0mthreads\u001b[0m\u001b[0;34m:\u001b[0m \u001b[0;36m1\u001b[0m\u001b[0;34m,\u001b[0m\u001b[0;36m2\u001b[0m\u001b[0;34m,\u001b[0m\u001b[0;36m4\u001b[0m\u001b[0;34m,\u001b[0m\u001b[0;36m8\u001b[0m\u001b[0;34m,\u001b[0m\u001b[0;36m16\u001b[0m \u001b[0;32mand\u001b[0m \u001b[0;36m24\u001b[0m \u001b[0mthreads\u001b[0m\u001b[0;34m\u001b[0m\n",
       "\u001b[0;34m\u001b[0m    \u001b[0;32mfor\u001b[0m \u001b[0;34m(\u001b[0m\u001b[0mint\u001b[0m \u001b[0mk\u001b[0m\u001b[0;34m=\u001b[0m\u001b[0;36m0\u001b[0m\u001b[0;34m;\u001b[0m \u001b[0mk\u001b[0m\u001b[0;34m<\u001b[0m \u001b[0mNELEMS\u001b[0m\u001b[0;34m(\u001b[0m\u001b[0mthreads\u001b[0m\u001b[0;34m)\u001b[0m\u001b[0;34m;\u001b[0m \u001b[0mk\u001b[0m\u001b[0;34m+\u001b[0m\u001b[0;34m+\u001b[0m\u001b[0;34m)\u001b[0m \u001b[0;34m{\u001b[0m\u001b[0;34m\u001b[0m\n",
       "\u001b[0;34m\u001b[0m        \u001b[0mnumoutside\u001b[0m \u001b[0;34m=\u001b[0m \u001b[0;36m0\u001b[0m\u001b[0;34m;\u001b[0m\u001b[0;34m\u001b[0m\n",
       "\u001b[0;34m\u001b[0m        \u001b[0mint\u001b[0m \u001b[0mnum_of_threads\u001b[0m \u001b[0;34m=\u001b[0m \u001b[0mthreads\u001b[0m\u001b[0;34m[\u001b[0m\u001b[0mk\u001b[0m\u001b[0;34m]\u001b[0m\u001b[0;34m;\u001b[0m\u001b[0;34m\u001b[0m\n",
       "\u001b[0;34m\u001b[0m        \u001b[0momp_set_num_threads\u001b[0m\u001b[0;34m(\u001b[0m\u001b[0mnum_of_threads\u001b[0m\u001b[0;34m)\u001b[0m\u001b[0;34m;\u001b[0m\u001b[0;34m\u001b[0m\n",
       "\u001b[0;34m\u001b[0m        \u001b[0mstart_time\u001b[0m \u001b[0;34m=\u001b[0m \u001b[0momp_get_wtime\u001b[0m\u001b[0;34m(\u001b[0m\u001b[0;34m)\u001b[0m\u001b[0;34m;\u001b[0m\u001b[0;34m\u001b[0m\n",
       "\u001b[0;34m\u001b[0m       \u001b[0;34m\u001b[0m\n",
       "\u001b[0;34m\u001b[0m        \u001b[0;34m//\u001b[0m \u001b[0mLoop\u001b[0m \u001b[0mover\u001b[0m \u001b[0mgrid\u001b[0m \u001b[0mof\u001b[0m \u001b[0mpoints\u001b[0m \u001b[0;32min\u001b[0m \u001b[0mthe\u001b[0m \u001b[0mcomplex\u001b[0m \u001b[0mplane\u001b[0m \u001b[0mwhich\u001b[0m \u001b[0mcontains\u001b[0m \u001b[0;34m\u001b[0m\n",
       "\u001b[0;34m\u001b[0m        \u001b[0;34m//\u001b[0m \u001b[0mthe\u001b[0m \u001b[0mMandelbrot\u001b[0m \u001b[0mset\u001b[0m\u001b[0;34m,\u001b[0m \u001b[0mtest\u001b[0m \u001b[0meach\u001b[0m \u001b[0mpoint\u001b[0m \u001b[0mto\u001b[0m \u001b[0msee\u001b[0m \u001b[0mwhether\u001b[0m \u001b[0mit\u001b[0m \u001b[0;32mis\u001b[0m \u001b[0;34m\u001b[0m\n",
       "\u001b[0;34m\u001b[0m        \u001b[0;34m//\u001b[0m \u001b[0minside\u001b[0m \u001b[0;32mor\u001b[0m \u001b[0moutside\u001b[0m \u001b[0mthe\u001b[0m \u001b[0mset\u001b[0m\u001b[0;34m\u001b[0m\n",
       "\u001b[0;34m\u001b[0m        \u001b[0;31m#pragma omp parallel for collapse(2) private(i,j)\u001b[0m\u001b[0;34m\u001b[0m\n",
       "\u001b[0;34m\u001b[0m        \u001b[0;32mfor\u001b[0m \u001b[0;34m(\u001b[0m\u001b[0mi\u001b[0m \u001b[0;34m=\u001b[0m \u001b[0;36m0\u001b[0m\u001b[0;34m;\u001b[0m \u001b[0mi\u001b[0m \u001b[0;34m<\u001b[0m \u001b[0mNPOINTS\u001b[0m\u001b[0;34m;\u001b[0m \u001b[0mi\u001b[0m\u001b[0;34m+\u001b[0m\u001b[0;34m+\u001b[0m\u001b[0;34m)\u001b[0m \u001b[0;34m{\u001b[0m\u001b[0;34m\u001b[0m\n",
       "\u001b[0;34m\u001b[0m            \u001b[0;32mfor\u001b[0m \u001b[0;34m(\u001b[0m\u001b[0mj\u001b[0m \u001b[0;34m=\u001b[0m \u001b[0;36m0\u001b[0m\u001b[0;34m;\u001b[0m \u001b[0mj\u001b[0m \u001b[0;34m<\u001b[0m \u001b[0mNPOINTS\u001b[0m\u001b[0;34m;\u001b[0m \u001b[0mj\u001b[0m\u001b[0;34m+\u001b[0m\u001b[0;34m+\u001b[0m\u001b[0;34m)\u001b[0m \u001b[0;34m{\u001b[0m\u001b[0;34m\u001b[0m\n",
       "\u001b[0;34m\u001b[0m                \u001b[0mc\u001b[0m\u001b[0;34m.\u001b[0m\u001b[0mr\u001b[0m \u001b[0;34m=\u001b[0m \u001b[0;34m-\u001b[0m\u001b[0;36m2.0\u001b[0m \u001b[0;34m+\u001b[0m \u001b[0;36m2.5\u001b[0m \u001b[0;34m*\u001b[0m \u001b[0;34m(\u001b[0m\u001b[0mdouble\u001b[0m\u001b[0;34m)\u001b[0m\u001b[0;34m(\u001b[0m\u001b[0mi\u001b[0m\u001b[0;34m)\u001b[0m \u001b[0;34m/\u001b[0m \u001b[0;34m(\u001b[0m\u001b[0mdouble\u001b[0m\u001b[0;34m)\u001b[0m\u001b[0;34m(\u001b[0m\u001b[0mNPOINTS\u001b[0m\u001b[0;34m)\u001b[0m \u001b[0;34m+\u001b[0m \u001b[0meps\u001b[0m\u001b[0;34m;\u001b[0m\u001b[0;34m\u001b[0m\n",
       "\u001b[0;34m\u001b[0m                \u001b[0mc\u001b[0m\u001b[0;34m.\u001b[0m\u001b[0mi\u001b[0m \u001b[0;34m=\u001b[0m \u001b[0;36m1.125\u001b[0m \u001b[0;34m*\u001b[0m \u001b[0;34m(\u001b[0m\u001b[0mdouble\u001b[0m\u001b[0;34m)\u001b[0m\u001b[0;34m(\u001b[0m\u001b[0mj\u001b[0m\u001b[0;34m)\u001b[0m \u001b[0;34m/\u001b[0m \u001b[0;34m(\u001b[0m\u001b[0mdouble\u001b[0m\u001b[0;34m)\u001b[0m\u001b[0;34m(\u001b[0m\u001b[0mNPOINTS\u001b[0m\u001b[0;34m)\u001b[0m \u001b[0;34m+\u001b[0m \u001b[0meps\u001b[0m\u001b[0;34m;\u001b[0m\u001b[0;34m\u001b[0m\n",
       "\u001b[0;34m\u001b[0m                \u001b[0mtestpoint\u001b[0m\u001b[0;34m(\u001b[0m\u001b[0;34m)\u001b[0m\u001b[0;34m;\u001b[0m\u001b[0;34m\u001b[0m\n",
       "\u001b[0;34m\u001b[0m            \u001b[0;34m}\u001b[0m\u001b[0;34m\u001b[0m\n",
       "\u001b[0;34m\u001b[0m        \u001b[0;34m}\u001b[0m\u001b[0;34m\u001b[0m\n",
       "\u001b[0;34m\u001b[0m       \u001b[0;34m\u001b[0m\n",
       "\u001b[0;34m\u001b[0m        \u001b[0mrun_time\u001b[0m \u001b[0;34m=\u001b[0m \u001b[0momp_get_wtime\u001b[0m\u001b[0;34m(\u001b[0m\u001b[0;34m)\u001b[0m \u001b[0;34m-\u001b[0m \u001b[0mstart_time\u001b[0m\u001b[0;34m;\u001b[0m\u001b[0;34m\u001b[0m\n",
       "\u001b[0;34m\u001b[0m        \u001b[0;34m//\u001b[0m \u001b[0mCalculate\u001b[0m \u001b[0marea\u001b[0m \u001b[0mof\u001b[0m \u001b[0mset\u001b[0m \u001b[0;32mand\u001b[0m \u001b[0merror\u001b[0m \u001b[0mestimate\u001b[0m \u001b[0;32mand\u001b[0m \u001b[0moutput\u001b[0m \u001b[0mthe\u001b[0m \u001b[0mresults\u001b[0m\u001b[0;34m\u001b[0m\n",
       "\u001b[0;34m\u001b[0m        \u001b[0marea\u001b[0m \u001b[0;34m=\u001b[0m \u001b[0;36m2.0\u001b[0m \u001b[0;34m*\u001b[0m \u001b[0;36m2.5\u001b[0m \u001b[0;34m*\u001b[0m \u001b[0;36m1.125\u001b[0m \u001b[0;34m*\u001b[0m \u001b[0;34m(\u001b[0m\u001b[0mdouble\u001b[0m\u001b[0;34m)\u001b[0m\u001b[0;34m(\u001b[0m\u001b[0mNPOINTS\u001b[0m \u001b[0;34m*\u001b[0m \u001b[0mNPOINTS\u001b[0m \u001b[0;34m-\u001b[0m \u001b[0mnumoutside\u001b[0m\u001b[0;34m)\u001b[0m \u001b[0;34m\u001b[0m\n",
       "\u001b[0;34m\u001b[0m             \u001b[0;34m/\u001b[0m \u001b[0;34m(\u001b[0m\u001b[0mdouble\u001b[0m\u001b[0;34m)\u001b[0m\u001b[0;34m(\u001b[0m\u001b[0mNPOINTS\u001b[0m \u001b[0;34m*\u001b[0m \u001b[0mNPOINTS\u001b[0m\u001b[0;34m)\u001b[0m\u001b[0;34m;\u001b[0m\u001b[0;34m\u001b[0m\n",
       "\u001b[0;34m\u001b[0m        \u001b[0merror\u001b[0m \u001b[0;34m=\u001b[0m \u001b[0marea\u001b[0m \u001b[0;34m/\u001b[0m \u001b[0;34m(\u001b[0m\u001b[0mdouble\u001b[0m\u001b[0;34m)\u001b[0m\u001b[0mNPOINTS\u001b[0m\u001b[0;34m;\u001b[0m\u001b[0;34m\u001b[0m\n",
       "\u001b[0;34m\u001b[0m        \u001b[0mprintf\u001b[0m\u001b[0;34m(\u001b[0m\u001b[0;34m\"Area of Mandlebrot set = %12.8f +/- %12.8f\\n\"\u001b[0m\u001b[0;34m,\u001b[0m\u001b[0marea\u001b[0m\u001b[0;34m,\u001b[0m\u001b[0merror\u001b[0m\u001b[0;34m)\u001b[0m\u001b[0;34m;\u001b[0m\u001b[0;34m\u001b[0m\n",
       "\u001b[0;34m\u001b[0m        \u001b[0mprintf\u001b[0m\u001b[0;34m(\u001b[0m\u001b[0;34m\"Parallel-Critical implementation - time: %f seconds, with %d threads\\n\\n\"\u001b[0m\u001b[0;34m,\u001b[0m\u001b[0mrun_time\u001b[0m\u001b[0;34m,\u001b[0m \u001b[0mnum_of_threads\u001b[0m\u001b[0;34m)\u001b[0m\u001b[0;34m;\u001b[0m\u001b[0;34m\u001b[0m\n",
       "\u001b[0;34m\u001b[0m    \u001b[0;34m}\u001b[0m\u001b[0;34m\u001b[0m\n",
       "\u001b[0;34m\u001b[0m    \u001b[0mprintf\u001b[0m\u001b[0;34m(\u001b[0m\u001b[0;34m\"(Correct answer should be around 1.506)\\n\"\u001b[0m\u001b[0;34m)\u001b[0m\u001b[0;34m;\u001b[0m\u001b[0;34m\u001b[0m\n",
       "\u001b[0;34m\u001b[0m\u001b[0;34m}\u001b[0m\u001b[0;34m\u001b[0m\n",
       "\u001b[0;34m\u001b[0m\u001b[0;34m\u001b[0m\n",
       "\u001b[0;34m\u001b[0m\u001b[0mvoid\u001b[0m \u001b[0mtestpoint\u001b[0m\u001b[0;34m(\u001b[0m\u001b[0mvoid\u001b[0m\u001b[0;34m)\u001b[0m \u001b[0;34m{\u001b[0m\u001b[0;34m\u001b[0m\n",
       "\u001b[0;34m\u001b[0m\u001b[0;34m\u001b[0m\n",
       "\u001b[0;34m\u001b[0m   \u001b[0;34m//\u001b[0m \u001b[0mDoes\u001b[0m \u001b[0mthe\u001b[0m \u001b[0miteration\u001b[0m \u001b[0mz\u001b[0m\u001b[0;34m=\u001b[0m\u001b[0mz\u001b[0m\u001b[0;34m*\u001b[0m\u001b[0mz\u001b[0m\u001b[0;34m+\u001b[0m\u001b[0mc\u001b[0m\u001b[0;34m,\u001b[0m \u001b[0muntil\u001b[0m \u001b[0;34m|\u001b[0m\u001b[0mz\u001b[0m\u001b[0;34m|\u001b[0m \u001b[0;34m>\u001b[0m \u001b[0;36m2\u001b[0m \u001b[0mwhen\u001b[0m \u001b[0mpoint\u001b[0m \u001b[0;32mis\u001b[0m \u001b[0mknown\u001b[0m \u001b[0mto\u001b[0m \u001b[0;34m\u001b[0m\n",
       "\u001b[0;34m\u001b[0m   \u001b[0;34m//\u001b[0m \u001b[0mbe\u001b[0m \u001b[0moutside\u001b[0m \u001b[0mset\u001b[0m\u001b[0;34m.\u001b[0m \u001b[0mIf\u001b[0m \u001b[0mloop\u001b[0m \u001b[0mcount\u001b[0m \u001b[0mreaches\u001b[0m \u001b[0mMAXITER\u001b[0m\u001b[0;34m,\u001b[0m \u001b[0mpoint\u001b[0m \u001b[0;32mis\u001b[0m \u001b[0mconsidered\u001b[0m \u001b[0;34m\u001b[0m\n",
       "\u001b[0;34m\u001b[0m   \u001b[0;34m//\u001b[0m \u001b[0mto\u001b[0m \u001b[0mbe\u001b[0m \u001b[0minside\u001b[0m \u001b[0mthe\u001b[0m \u001b[0mset\u001b[0m\u001b[0;34m.\u001b[0m\u001b[0;34m\u001b[0m\n",
       "\u001b[0;34m\u001b[0m\u001b[0;34m\u001b[0m\n",
       "\u001b[0;34m\u001b[0m   \u001b[0mstruct\u001b[0m \u001b[0md_complex\u001b[0m \u001b[0mz\u001b[0m\u001b[0;34m;\u001b[0m\u001b[0;34m\u001b[0m\n",
       "\u001b[0;34m\u001b[0m   \u001b[0mint\u001b[0m \u001b[0miter\u001b[0m\u001b[0;34m;\u001b[0m\u001b[0;34m\u001b[0m\n",
       "\u001b[0;34m\u001b[0m   \u001b[0mdouble\u001b[0m \u001b[0mtemp\u001b[0m\u001b[0;34m;\u001b[0m\u001b[0;34m\u001b[0m\n",
       "\u001b[0;34m\u001b[0m\u001b[0;34m\u001b[0m\n",
       "\u001b[0;34m\u001b[0m   \u001b[0mz\u001b[0m \u001b[0;34m=\u001b[0m \u001b[0mc\u001b[0m\u001b[0;34m;\u001b[0m\u001b[0;34m\u001b[0m\n",
       "\u001b[0;34m\u001b[0m   \u001b[0;32mfor\u001b[0m \u001b[0;34m(\u001b[0m\u001b[0miter\u001b[0m \u001b[0;34m=\u001b[0m \u001b[0;36m0\u001b[0m\u001b[0;34m;\u001b[0m \u001b[0miter\u001b[0m \u001b[0;34m<\u001b[0m \u001b[0mMAXITER\u001b[0m\u001b[0;34m;\u001b[0m \u001b[0miter\u001b[0m\u001b[0;34m+\u001b[0m\u001b[0;34m+\u001b[0m\u001b[0;34m)\u001b[0m \u001b[0;34m{\u001b[0m\u001b[0;34m\u001b[0m\n",
       "\u001b[0;34m\u001b[0m      \u001b[0mtemp\u001b[0m \u001b[0;34m=\u001b[0m \u001b[0;34m(\u001b[0m\u001b[0mz\u001b[0m\u001b[0;34m.\u001b[0m\u001b[0mr\u001b[0m \u001b[0;34m*\u001b[0m \u001b[0mz\u001b[0m\u001b[0;34m.\u001b[0m\u001b[0mr\u001b[0m\u001b[0;34m)\u001b[0m \u001b[0;34m-\u001b[0m \u001b[0;34m(\u001b[0m\u001b[0mz\u001b[0m\u001b[0;34m.\u001b[0m\u001b[0mi\u001b[0m \u001b[0;34m*\u001b[0m \u001b[0mz\u001b[0m\u001b[0;34m.\u001b[0m\u001b[0mi\u001b[0m\u001b[0;34m)\u001b[0m \u001b[0;34m+\u001b[0m \u001b[0mc\u001b[0m\u001b[0;34m.\u001b[0m\u001b[0mr\u001b[0m\u001b[0;34m;\u001b[0m\u001b[0;34m\u001b[0m\n",
       "\u001b[0;34m\u001b[0m      \u001b[0mz\u001b[0m\u001b[0;34m.\u001b[0m\u001b[0mi\u001b[0m \u001b[0;34m=\u001b[0m \u001b[0mz\u001b[0m\u001b[0;34m.\u001b[0m\u001b[0mr\u001b[0m \u001b[0;34m*\u001b[0m \u001b[0mz\u001b[0m\u001b[0;34m.\u001b[0m\u001b[0mi\u001b[0m \u001b[0;34m*\u001b[0m \u001b[0;36m2\u001b[0m \u001b[0;34m+\u001b[0m \u001b[0mc\u001b[0m\u001b[0;34m.\u001b[0m\u001b[0mi\u001b[0m\u001b[0;34m;\u001b[0m\u001b[0;34m\u001b[0m\n",
       "\u001b[0;34m\u001b[0m      \u001b[0mz\u001b[0m\u001b[0;34m.\u001b[0m\u001b[0mr\u001b[0m \u001b[0;34m=\u001b[0m \u001b[0mtemp\u001b[0m\u001b[0;34m;\u001b[0m\u001b[0;34m\u001b[0m\n",
       "\u001b[0;34m\u001b[0m      \u001b[0;34m\u001b[0m\n",
       "\u001b[0;34m\u001b[0m      \u001b[0;34m{\u001b[0m\u001b[0;34m\u001b[0m\n",
       "\u001b[0;34m\u001b[0m      \u001b[0;32mif\u001b[0m \u001b[0;34m(\u001b[0m\u001b[0;34m(\u001b[0m\u001b[0mz\u001b[0m\u001b[0;34m.\u001b[0m\u001b[0mr\u001b[0m \u001b[0;34m*\u001b[0m \u001b[0mz\u001b[0m\u001b[0;34m.\u001b[0m\u001b[0mr\u001b[0m \u001b[0;34m+\u001b[0m \u001b[0mz\u001b[0m\u001b[0;34m.\u001b[0m\u001b[0mi\u001b[0m \u001b[0;34m*\u001b[0m \u001b[0mz\u001b[0m\u001b[0;34m.\u001b[0m\u001b[0mi\u001b[0m\u001b[0;34m)\u001b[0m \u001b[0;34m>\u001b[0m \u001b[0;36m4.0\u001b[0m\u001b[0;34m)\u001b[0m \u001b[0;34m{\u001b[0m\u001b[0;34m\u001b[0m\n",
       "\u001b[0;34m\u001b[0m         \u001b[0;31m#pragma omp critical\u001b[0m\u001b[0;34m\u001b[0m\n",
       "\u001b[0;34m\u001b[0m         \u001b[0mnumoutside\u001b[0m\u001b[0;34m+\u001b[0m\u001b[0;34m+\u001b[0m\u001b[0;34m;\u001b[0m\u001b[0;34m\u001b[0m\n",
       "\u001b[0;34m\u001b[0m         \u001b[0;32mbreak\u001b[0m\u001b[0;34m;\u001b[0m\u001b[0;34m\u001b[0m\n",
       "\u001b[0;34m\u001b[0m      \u001b[0;34m}\u001b[0m\u001b[0;34m\u001b[0m\n",
       "\u001b[0;34m\u001b[0m      \u001b[0;34m}\u001b[0m\u001b[0;34m\u001b[0m\n",
       "\u001b[0;34m\u001b[0m   \u001b[0;34m}\u001b[0m\u001b[0;34m\u001b[0m\n",
       "\u001b[0;34m\u001b[0m\u001b[0;34m}\u001b[0m\u001b[0;34m\u001b[0m\u001b[0;34m\u001b[0m\u001b[0m\n"
      ]
     },
     "metadata": {},
     "output_type": "display_data"
    }
   ],
   "source": [
    "%pycat mandel_parallel_critical.c"
   ]
  },
  {
   "cell_type": "code",
   "execution_count": 72,
   "metadata": {},
   "outputs": [],
   "source": [
    "! rm run_parallel_critical.sh.e*\n",
    "! rm run_parallel_critical.sh.o*"
   ]
  },
  {
   "cell_type": "code",
   "execution_count": 73,
   "metadata": {},
   "outputs": [
    {
     "name": "stdout",
     "output_type": "stream",
     "text": [
      "Job has been submitted to Intel(R) DevCloud and will execute soon.\n",
      "\n",
      " If you do not see result in 60 seconds, please restart the Jupyter kernel:\n",
      " Kernel -> 'Restart Kernel and Clear All Outputs...' and then try again\n",
      "\n",
      "Job ID                    Name             User            Time Use S Queue\n",
      "------------------------- ---------------- --------------- -------- - -----\n",
      "2067885.v-qsvr-1           ...ub-singleuser u177183         00:00:43 R jupyterhub     \n",
      "2067998.v-qsvr-1           run_serial.sh    u177183                0 R batch          \n",
      "2068004.v-qsvr-1           ...l_critical.sh u177183                0 Q batch          \n",
      "\n",
      "Waiting for Output ████████████████████████████████████████████████████████████\n",
      "\n",
      "TimeOut 60 seconds: Job is still queued for execution, check for output file later (run_parallel_critical.sh.o2068004)\n",
      "\n"
     ]
    }
   ],
   "source": [
    "! chmod 755 run_parallel_critical.sh;if [ -x \"$(command -v qsub)\" ]; then ./../q run_parallel_critical.sh; else ./run_parallel_critical.sh; fi"
   ]
  },
  {
   "cell_type": "code",
   "execution_count": 96,
   "metadata": {},
   "outputs": [
    {
     "name": "stdout",
     "output_type": "stream",
     "text": [
      "\n",
      "########################################################################\n",
      "#      Date:           Thu 01 Dec 2022 11:03:17 PM PST\n",
      "#    Job ID:           2068004.v-qsvr-1.aidevcloud\n",
      "#      User:           u177183\n",
      "# Resources:           cput=35:00:00,neednodes=1:batch:ppn=2,nodes=1:batch:ppn=2,walltime=06:00:00\n",
      "########################################################################\n",
      "\n",
      "## u177183 is running HW1 Problem 1 - Calculate Mandelbrot area - parallel critical\n",
      "########## Compiling your parallel critical code\n",
      "########## Executing your parallel critical code\n",
      "Area of Mandlebrot set =   1.50763455 +/-   0.00030153\n",
      "Parallel-Critical implementation - time: 210.903886 seconds, with 1 threads\n",
      "\n",
      "Area of Mandlebrot set =   0.63859657 +/-   0.00012772\n",
      "Parallel-Critical implementation - time: 79.393531 seconds, with 2 threads\n",
      "\n",
      "Area of Mandlebrot set =   0.11384280 +/-   0.00002277\n",
      "Parallel-Critical implementation - time: 27.014714 seconds, with 4 threads\n",
      "\n",
      "Area of Mandlebrot set =   0.06012000 +/-   0.00001202\n",
      "Parallel-Critical implementation - time: 17.066906 seconds, with 8 threads\n",
      "\n",
      "Area of Mandlebrot set =   0.01639845 +/-   0.00000328\n",
      "Parallel-Critical implementation - time: 14.030010 seconds, with 16 threads\n",
      "\n",
      "Area of Mandlebrot set =   0.00791685 +/-   0.00000158\n",
      "Parallel-Critical implementation - time: 14.423721 seconds, with 24 threads\n",
      "\n",
      "(Correct answer should be around 1.506)\n",
      "########## Done parallel critical\n",
      "\n",
      "########################################################################\n",
      "# End of output for job 2068004.v-qsvr-1.aidevcloud\n",
      "# Date: Thu 01 Dec 2022 11:09:26 PM PST\n",
      "########################################################################\n",
      "\n"
     ]
    }
   ],
   "source": [
    "! cat run_parallel_critical.sh.o*"
   ]
  },
  {
   "cell_type": "markdown",
   "metadata": {
    "tags": []
   },
   "source": [
    "### mandel_parallel_atomic.c"
   ]
  },
  {
   "cell_type": "code",
   "execution_count": 75,
   "metadata": {},
   "outputs": [
    {
     "data": {
      "text/plain": [
       "\u001b[0;34m/\u001b[0m\u001b[0;34m*\u001b[0m\u001b[0;34m\u001b[0m\n",
       "\u001b[0;34m\u001b[0m\u001b[0;34m**\u001b[0m  \u001b[0mPROGRAM\u001b[0m\u001b[0;34m:\u001b[0m \u001b[0mMandelbrot\u001b[0m \u001b[0marea\u001b[0m\u001b[0;34m\u001b[0m\n",
       "\u001b[0;34m\u001b[0m\u001b[0;34m**\u001b[0m\u001b[0;34m\u001b[0m\n",
       "\u001b[0;34m\u001b[0m\u001b[0;34m**\u001b[0m  \u001b[0mPURPOSE\u001b[0m\u001b[0;34m:\u001b[0m \u001b[0mProgram\u001b[0m \u001b[0mto\u001b[0m \u001b[0mcompute\u001b[0m \u001b[0mthe\u001b[0m \u001b[0marea\u001b[0m \u001b[0mof\u001b[0m \u001b[0ma\u001b[0m  \u001b[0mMandelbrot\u001b[0m \u001b[0mset\u001b[0m\u001b[0;34m.\u001b[0m\u001b[0;34m\u001b[0m\n",
       "\u001b[0;34m\u001b[0m\u001b[0;34m**\u001b[0m           \u001b[0mCorrect\u001b[0m \u001b[0manswer\u001b[0m \u001b[0mshould\u001b[0m \u001b[0mbe\u001b[0m \u001b[0maround\u001b[0m \u001b[0;36m1.510659\u001b[0m\u001b[0;34m.\u001b[0m\u001b[0;34m\u001b[0m\n",
       "\u001b[0;34m\u001b[0m\u001b[0;34m**\u001b[0m           \u001b[0mWARNING\u001b[0m\u001b[0;34m:\u001b[0m \u001b[0mthis\u001b[0m \u001b[0mprogram\u001b[0m \u001b[0mmay\u001b[0m \u001b[0mcontain\u001b[0m \u001b[0merrors\u001b[0m\u001b[0;34m\u001b[0m\n",
       "\u001b[0;34m\u001b[0m\u001b[0;34m**\u001b[0m\u001b[0;34m\u001b[0m\n",
       "\u001b[0;34m\u001b[0m\u001b[0;34m**\u001b[0m  \u001b[0mUSAGE\u001b[0m\u001b[0;34m:\u001b[0m   \u001b[0mProgram\u001b[0m \u001b[0mruns\u001b[0m \u001b[0mwithout\u001b[0m \u001b[0minput\u001b[0m \u001b[0;34m...\u001b[0m \u001b[0mjust\u001b[0m \u001b[0mrun\u001b[0m \u001b[0mthe\u001b[0m \u001b[0mexecutable\u001b[0m\u001b[0;34m\u001b[0m\n",
       "\u001b[0;34m\u001b[0m\u001b[0;34m**\u001b[0m            \u001b[0;34m\u001b[0m\n",
       "\u001b[0;34m\u001b[0m\u001b[0;34m**\u001b[0m  \u001b[0mHISTORY\u001b[0m\u001b[0;34m:\u001b[0m \u001b[0mWritten\u001b[0m\u001b[0;34m:\u001b[0m  \u001b[0;34m(\u001b[0m\u001b[0mMark\u001b[0m \u001b[0mBull\u001b[0m\u001b[0;34m,\u001b[0m \u001b[0mAugust\u001b[0m \u001b[0;36m2011\u001b[0m\u001b[0;34m)\u001b[0m\u001b[0;34m.\u001b[0m\u001b[0;34m\u001b[0m\n",
       "\u001b[0;34m\u001b[0m\u001b[0;34m**\u001b[0m           \u001b[0mChanged\u001b[0m \u001b[0;34m\"comples\"\u001b[0m \u001b[0mto\u001b[0m \u001b[0;34m\"d_comples\"\u001b[0m \u001b[0mto\u001b[0m \u001b[0mavoid\u001b[0m \u001b[0mcollsion\u001b[0m \u001b[0;32mwith\u001b[0m \u001b[0;34m\u001b[0m\n",
       "\u001b[0;34m\u001b[0m\u001b[0;34m**\u001b[0m           \u001b[0mmath\u001b[0m\u001b[0;34m.\u001b[0m\u001b[0mh\u001b[0m \u001b[0mcomplex\u001b[0m \u001b[0mtype\u001b[0m \u001b[0;34m(\u001b[0m\u001b[0mTim\u001b[0m \u001b[0mMattson\u001b[0m\u001b[0;34m,\u001b[0m \u001b[0mSeptember\u001b[0m \u001b[0;36m2011\u001b[0m\u001b[0;34m)\u001b[0m\u001b[0;34m\u001b[0m\n",
       "\u001b[0;34m\u001b[0m\u001b[0;34m*\u001b[0m\u001b[0;34m/\u001b[0m\u001b[0;34m\u001b[0m\n",
       "\u001b[0;34m\u001b[0m\u001b[0;34m\u001b[0m\n",
       "\u001b[0;34m\u001b[0m\u001b[0;31m#include <stdio.h>\u001b[0m\u001b[0;34m\u001b[0m\n",
       "\u001b[0;34m\u001b[0m\u001b[0;31m#include <stdlib.h>\u001b[0m\u001b[0;34m\u001b[0m\n",
       "\u001b[0;34m\u001b[0m\u001b[0;31m#include <math.h>\u001b[0m\u001b[0;34m\u001b[0m\n",
       "\u001b[0;34m\u001b[0m\u001b[0;31m#include <omp.h>\u001b[0m\u001b[0;34m\u001b[0m\n",
       "\u001b[0;34m\u001b[0m\u001b[0;34m\u001b[0m\n",
       "\u001b[0;34m\u001b[0m\u001b[0;31m# define NPOINTS 5000\u001b[0m\u001b[0;34m\u001b[0m\n",
       "\u001b[0;34m\u001b[0m\u001b[0;31m# define MAXITER 5000\u001b[0m\u001b[0;34m\u001b[0m\n",
       "\u001b[0;34m\u001b[0m\u001b[0;31m#define NELEMS(x)  (sizeof(x) / sizeof((x)[0]))\u001b[0m\u001b[0;34m\u001b[0m\n",
       "\u001b[0;34m\u001b[0m\u001b[0;34m\u001b[0m\n",
       "\u001b[0;34m\u001b[0m\u001b[0mvoid\u001b[0m \u001b[0mtestpoint\u001b[0m\u001b[0;34m(\u001b[0m\u001b[0mvoid\u001b[0m\u001b[0;34m)\u001b[0m\u001b[0;34m;\u001b[0m\u001b[0;34m\u001b[0m\n",
       "\u001b[0;34m\u001b[0m\u001b[0;34m\u001b[0m\n",
       "\u001b[0;34m\u001b[0m\u001b[0mstruct\u001b[0m \u001b[0md_complex\u001b[0m \u001b[0;34m{\u001b[0m\u001b[0;34m\u001b[0m\n",
       "\u001b[0;34m\u001b[0m   \u001b[0mdouble\u001b[0m \u001b[0mr\u001b[0m\u001b[0;34m;\u001b[0m\u001b[0;34m\u001b[0m\n",
       "\u001b[0;34m\u001b[0m   \u001b[0mdouble\u001b[0m \u001b[0mi\u001b[0m\u001b[0;34m;\u001b[0m\u001b[0;34m\u001b[0m\n",
       "\u001b[0;34m\u001b[0m\u001b[0;34m}\u001b[0m\u001b[0;34m;\u001b[0m\u001b[0;34m\u001b[0m\n",
       "\u001b[0;34m\u001b[0m\u001b[0;34m\u001b[0m\n",
       "\u001b[0;34m\u001b[0m\u001b[0mstruct\u001b[0m \u001b[0md_complex\u001b[0m \u001b[0mc\u001b[0m\u001b[0;34m;\u001b[0m\u001b[0;34m\u001b[0m\n",
       "\u001b[0;34m\u001b[0m\u001b[0mint\u001b[0m \u001b[0mnumoutside\u001b[0m \u001b[0;34m=\u001b[0m \u001b[0;36m0\u001b[0m\u001b[0;34m;\u001b[0m\u001b[0;34m\u001b[0m\n",
       "\u001b[0;34m\u001b[0m\u001b[0;34m\u001b[0m\n",
       "\u001b[0;34m\u001b[0m\u001b[0mint\u001b[0m \u001b[0mmain\u001b[0m\u001b[0;34m(\u001b[0m\u001b[0;34m)\u001b[0m \u001b[0;34m{\u001b[0m\u001b[0;34m\u001b[0m\n",
       "\u001b[0;34m\u001b[0m    \u001b[0;34m\u001b[0m\n",
       "\u001b[0;34m\u001b[0m    \u001b[0mint\u001b[0m \u001b[0mthreads\u001b[0m\u001b[0;34m[\u001b[0m\u001b[0;36m6\u001b[0m\u001b[0;34m]\u001b[0m \u001b[0;34m=\u001b[0m \u001b[0;34m{\u001b[0m\u001b[0;36m1\u001b[0m\u001b[0;34m,\u001b[0m\u001b[0;36m2\u001b[0m\u001b[0;34m,\u001b[0m\u001b[0;36m4\u001b[0m\u001b[0;34m,\u001b[0m\u001b[0;36m8\u001b[0m\u001b[0;34m,\u001b[0m\u001b[0;36m16\u001b[0m\u001b[0;34m,\u001b[0m\u001b[0;36m24\u001b[0m\u001b[0;34m}\u001b[0m\u001b[0;34m;\u001b[0m  \u001b[0;34m\u001b[0m\n",
       "\u001b[0;34m\u001b[0m    \u001b[0mint\u001b[0m \u001b[0mi\u001b[0m\u001b[0;34m,\u001b[0m \u001b[0mj\u001b[0m\u001b[0;34m;\u001b[0m\u001b[0;34m\u001b[0m\n",
       "\u001b[0;34m\u001b[0m    \u001b[0mdouble\u001b[0m \u001b[0marea\u001b[0m\u001b[0;34m,\u001b[0m \u001b[0merror\u001b[0m\u001b[0;34m,\u001b[0m \u001b[0meps\u001b[0m \u001b[0;34m=\u001b[0m \u001b[0;36m1.0e-5\u001b[0m\u001b[0;34m;\u001b[0m\u001b[0;34m\u001b[0m\n",
       "\u001b[0;34m\u001b[0m    \u001b[0mdouble\u001b[0m \u001b[0mstart_time\u001b[0m\u001b[0;34m,\u001b[0m \u001b[0mrun_time\u001b[0m\u001b[0;34m;\u001b[0m\u001b[0;34m\u001b[0m\n",
       "\u001b[0;34m\u001b[0m\u001b[0;34m\u001b[0m\n",
       "\u001b[0;34m\u001b[0m    \u001b[0;34m//\u001b[0m \u001b[0mTest\u001b[0m \u001b[0mvarying\u001b[0m \u001b[0mnumber\u001b[0m \u001b[0mof\u001b[0m \u001b[0mthreads\u001b[0m\u001b[0;34m:\u001b[0m \u001b[0;36m1\u001b[0m\u001b[0;34m,\u001b[0m\u001b[0;36m2\u001b[0m\u001b[0;34m,\u001b[0m\u001b[0;36m4\u001b[0m\u001b[0;34m,\u001b[0m\u001b[0;36m8\u001b[0m\u001b[0;34m,\u001b[0m\u001b[0;36m16\u001b[0m \u001b[0;32mand\u001b[0m \u001b[0;36m24\u001b[0m \u001b[0mthreads\u001b[0m\u001b[0;34m\u001b[0m\n",
       "\u001b[0;34m\u001b[0m    \u001b[0;32mfor\u001b[0m \u001b[0;34m(\u001b[0m\u001b[0mint\u001b[0m \u001b[0mk\u001b[0m\u001b[0;34m=\u001b[0m\u001b[0;36m0\u001b[0m\u001b[0;34m;\u001b[0m \u001b[0mk\u001b[0m\u001b[0;34m<\u001b[0m \u001b[0mNELEMS\u001b[0m\u001b[0;34m(\u001b[0m\u001b[0mthreads\u001b[0m\u001b[0;34m)\u001b[0m\u001b[0;34m;\u001b[0m \u001b[0mk\u001b[0m\u001b[0;34m+\u001b[0m\u001b[0;34m+\u001b[0m\u001b[0;34m)\u001b[0m \u001b[0;34m{\u001b[0m\u001b[0;34m\u001b[0m\n",
       "\u001b[0;34m\u001b[0m        \u001b[0mnumoutside\u001b[0m \u001b[0;34m=\u001b[0m \u001b[0;36m0\u001b[0m\u001b[0;34m;\u001b[0m\u001b[0;34m\u001b[0m\n",
       "\u001b[0;34m\u001b[0m        \u001b[0mint\u001b[0m \u001b[0mnum_of_threads\u001b[0m \u001b[0;34m=\u001b[0m \u001b[0mthreads\u001b[0m\u001b[0;34m[\u001b[0m\u001b[0mk\u001b[0m\u001b[0;34m]\u001b[0m\u001b[0;34m;\u001b[0m\u001b[0;34m\u001b[0m\n",
       "\u001b[0;34m\u001b[0m        \u001b[0momp_set_num_threads\u001b[0m\u001b[0;34m(\u001b[0m\u001b[0mnum_of_threads\u001b[0m\u001b[0;34m)\u001b[0m\u001b[0;34m;\u001b[0m\u001b[0;34m\u001b[0m\n",
       "\u001b[0;34m\u001b[0m        \u001b[0mstart_time\u001b[0m \u001b[0;34m=\u001b[0m \u001b[0momp_get_wtime\u001b[0m\u001b[0;34m(\u001b[0m\u001b[0;34m)\u001b[0m\u001b[0;34m;\u001b[0m\u001b[0;34m\u001b[0m\n",
       "\u001b[0;34m\u001b[0m       \u001b[0;34m\u001b[0m\n",
       "\u001b[0;34m\u001b[0m        \u001b[0;34m//\u001b[0m \u001b[0mLoop\u001b[0m \u001b[0mover\u001b[0m \u001b[0mgrid\u001b[0m \u001b[0mof\u001b[0m \u001b[0mpoints\u001b[0m \u001b[0;32min\u001b[0m \u001b[0mthe\u001b[0m \u001b[0mcomplex\u001b[0m \u001b[0mplane\u001b[0m \u001b[0mwhich\u001b[0m \u001b[0mcontains\u001b[0m \u001b[0;34m\u001b[0m\n",
       "\u001b[0;34m\u001b[0m        \u001b[0;34m//\u001b[0m \u001b[0mthe\u001b[0m \u001b[0mMandelbrot\u001b[0m \u001b[0mset\u001b[0m\u001b[0;34m,\u001b[0m \u001b[0mtest\u001b[0m \u001b[0meach\u001b[0m \u001b[0mpoint\u001b[0m \u001b[0mto\u001b[0m \u001b[0msee\u001b[0m \u001b[0mwhether\u001b[0m \u001b[0mit\u001b[0m \u001b[0;32mis\u001b[0m \u001b[0;34m\u001b[0m\n",
       "\u001b[0;34m\u001b[0m        \u001b[0;34m//\u001b[0m \u001b[0minside\u001b[0m \u001b[0;32mor\u001b[0m \u001b[0moutside\u001b[0m \u001b[0mthe\u001b[0m \u001b[0mset\u001b[0m\u001b[0;34m\u001b[0m\n",
       "\u001b[0;34m\u001b[0m        \u001b[0;31m#pragma omp parallel for collapse(2)\u001b[0m\u001b[0;34m\u001b[0m\n",
       "\u001b[0;34m\u001b[0m        \u001b[0;32mfor\u001b[0m \u001b[0;34m(\u001b[0m\u001b[0mi\u001b[0m \u001b[0;34m=\u001b[0m \u001b[0;36m0\u001b[0m\u001b[0;34m;\u001b[0m \u001b[0mi\u001b[0m \u001b[0;34m<\u001b[0m \u001b[0mNPOINTS\u001b[0m\u001b[0;34m;\u001b[0m \u001b[0mi\u001b[0m\u001b[0;34m+\u001b[0m\u001b[0;34m+\u001b[0m\u001b[0;34m)\u001b[0m \u001b[0;34m{\u001b[0m\u001b[0;34m\u001b[0m\n",
       "\u001b[0;34m\u001b[0m            \u001b[0;32mfor\u001b[0m \u001b[0;34m(\u001b[0m\u001b[0mj\u001b[0m \u001b[0;34m=\u001b[0m \u001b[0;36m0\u001b[0m\u001b[0;34m;\u001b[0m \u001b[0mj\u001b[0m \u001b[0;34m<\u001b[0m \u001b[0mNPOINTS\u001b[0m\u001b[0;34m;\u001b[0m \u001b[0mj\u001b[0m\u001b[0;34m+\u001b[0m\u001b[0;34m+\u001b[0m\u001b[0;34m)\u001b[0m \u001b[0;34m{\u001b[0m\u001b[0;34m\u001b[0m\n",
       "\u001b[0;34m\u001b[0m                \u001b[0mc\u001b[0m\u001b[0;34m.\u001b[0m\u001b[0mr\u001b[0m \u001b[0;34m=\u001b[0m \u001b[0;34m-\u001b[0m\u001b[0;36m2.0\u001b[0m \u001b[0;34m+\u001b[0m \u001b[0;36m2.5\u001b[0m \u001b[0;34m*\u001b[0m \u001b[0;34m(\u001b[0m\u001b[0mdouble\u001b[0m\u001b[0;34m)\u001b[0m\u001b[0;34m(\u001b[0m\u001b[0mi\u001b[0m\u001b[0;34m)\u001b[0m \u001b[0;34m/\u001b[0m \u001b[0;34m(\u001b[0m\u001b[0mdouble\u001b[0m\u001b[0;34m)\u001b[0m\u001b[0;34m(\u001b[0m\u001b[0mNPOINTS\u001b[0m\u001b[0;34m)\u001b[0m \u001b[0;34m+\u001b[0m \u001b[0meps\u001b[0m\u001b[0;34m;\u001b[0m\u001b[0;34m\u001b[0m\n",
       "\u001b[0;34m\u001b[0m                \u001b[0mc\u001b[0m\u001b[0;34m.\u001b[0m\u001b[0mi\u001b[0m \u001b[0;34m=\u001b[0m \u001b[0;36m1.125\u001b[0m \u001b[0;34m*\u001b[0m \u001b[0;34m(\u001b[0m\u001b[0mdouble\u001b[0m\u001b[0;34m)\u001b[0m\u001b[0;34m(\u001b[0m\u001b[0mj\u001b[0m\u001b[0;34m)\u001b[0m \u001b[0;34m/\u001b[0m \u001b[0;34m(\u001b[0m\u001b[0mdouble\u001b[0m\u001b[0;34m)\u001b[0m\u001b[0;34m(\u001b[0m\u001b[0mNPOINTS\u001b[0m\u001b[0;34m)\u001b[0m \u001b[0;34m+\u001b[0m \u001b[0meps\u001b[0m\u001b[0;34m;\u001b[0m\u001b[0;34m\u001b[0m\n",
       "\u001b[0;34m\u001b[0m                \u001b[0mtestpoint\u001b[0m\u001b[0;34m(\u001b[0m\u001b[0;34m)\u001b[0m\u001b[0;34m;\u001b[0m\u001b[0;34m\u001b[0m\n",
       "\u001b[0;34m\u001b[0m            \u001b[0;34m}\u001b[0m\u001b[0;34m\u001b[0m\n",
       "\u001b[0;34m\u001b[0m        \u001b[0;34m}\u001b[0m\u001b[0;34m\u001b[0m\n",
       "\u001b[0;34m\u001b[0m       \u001b[0;34m\u001b[0m\n",
       "\u001b[0;34m\u001b[0m        \u001b[0mrun_time\u001b[0m \u001b[0;34m=\u001b[0m \u001b[0momp_get_wtime\u001b[0m\u001b[0;34m(\u001b[0m\u001b[0;34m)\u001b[0m \u001b[0;34m-\u001b[0m \u001b[0mstart_time\u001b[0m\u001b[0;34m;\u001b[0m\u001b[0;34m\u001b[0m\n",
       "\u001b[0;34m\u001b[0m        \u001b[0;34m//\u001b[0m \u001b[0mCalculate\u001b[0m \u001b[0marea\u001b[0m \u001b[0mof\u001b[0m \u001b[0mset\u001b[0m \u001b[0;32mand\u001b[0m \u001b[0merror\u001b[0m \u001b[0mestimate\u001b[0m \u001b[0;32mand\u001b[0m \u001b[0moutput\u001b[0m \u001b[0mthe\u001b[0m \u001b[0mresults\u001b[0m\u001b[0;34m\u001b[0m\n",
       "\u001b[0;34m\u001b[0m        \u001b[0marea\u001b[0m \u001b[0;34m=\u001b[0m \u001b[0;36m2.0\u001b[0m \u001b[0;34m*\u001b[0m \u001b[0;36m2.5\u001b[0m \u001b[0;34m*\u001b[0m \u001b[0;36m1.125\u001b[0m \u001b[0;34m*\u001b[0m \u001b[0;34m(\u001b[0m\u001b[0mdouble\u001b[0m\u001b[0;34m)\u001b[0m\u001b[0;34m(\u001b[0m\u001b[0mNPOINTS\u001b[0m \u001b[0;34m*\u001b[0m \u001b[0mNPOINTS\u001b[0m \u001b[0;34m-\u001b[0m \u001b[0mnumoutside\u001b[0m\u001b[0;34m)\u001b[0m \u001b[0;34m\u001b[0m\n",
       "\u001b[0;34m\u001b[0m             \u001b[0;34m/\u001b[0m \u001b[0;34m(\u001b[0m\u001b[0mdouble\u001b[0m\u001b[0;34m)\u001b[0m\u001b[0;34m(\u001b[0m\u001b[0mNPOINTS\u001b[0m \u001b[0;34m*\u001b[0m \u001b[0mNPOINTS\u001b[0m\u001b[0;34m)\u001b[0m\u001b[0;34m;\u001b[0m\u001b[0;34m\u001b[0m\n",
       "\u001b[0;34m\u001b[0m        \u001b[0merror\u001b[0m \u001b[0;34m=\u001b[0m \u001b[0marea\u001b[0m \u001b[0;34m/\u001b[0m \u001b[0;34m(\u001b[0m\u001b[0mdouble\u001b[0m\u001b[0;34m)\u001b[0m\u001b[0mNPOINTS\u001b[0m\u001b[0;34m;\u001b[0m\u001b[0;34m\u001b[0m\n",
       "\u001b[0;34m\u001b[0m        \u001b[0mprintf\u001b[0m\u001b[0;34m(\u001b[0m\u001b[0;34m\"Area of Mandlebrot set = %12.8f +/- %12.8f\\n\"\u001b[0m\u001b[0;34m,\u001b[0m\u001b[0marea\u001b[0m\u001b[0;34m,\u001b[0m\u001b[0merror\u001b[0m\u001b[0;34m)\u001b[0m\u001b[0;34m;\u001b[0m\u001b[0;34m\u001b[0m\n",
       "\u001b[0;34m\u001b[0m        \u001b[0mprintf\u001b[0m\u001b[0;34m(\u001b[0m\u001b[0;34m\"Parallel-Atomic implementation - time: %f seconds, with %d threads\\n\\n\"\u001b[0m\u001b[0;34m,\u001b[0m\u001b[0mrun_time\u001b[0m\u001b[0;34m,\u001b[0m \u001b[0mnum_of_threads\u001b[0m\u001b[0;34m)\u001b[0m\u001b[0;34m;\u001b[0m\u001b[0;34m\u001b[0m\n",
       "\u001b[0;34m\u001b[0m    \u001b[0;34m}\u001b[0m\u001b[0;34m\u001b[0m\n",
       "\u001b[0;34m\u001b[0m    \u001b[0mprintf\u001b[0m\u001b[0;34m(\u001b[0m\u001b[0;34m\"(Correct answer should be around 1.506)\\n\"\u001b[0m\u001b[0;34m)\u001b[0m\u001b[0;34m;\u001b[0m\u001b[0;34m\u001b[0m\n",
       "\u001b[0;34m\u001b[0m\u001b[0;34m}\u001b[0m\u001b[0;34m\u001b[0m\n",
       "\u001b[0;34m\u001b[0m\u001b[0;34m\u001b[0m\n",
       "\u001b[0;34m\u001b[0m\u001b[0mvoid\u001b[0m \u001b[0mtestpoint\u001b[0m\u001b[0;34m(\u001b[0m\u001b[0mvoid\u001b[0m\u001b[0;34m)\u001b[0m \u001b[0;34m{\u001b[0m\u001b[0;34m\u001b[0m\n",
       "\u001b[0;34m\u001b[0m\u001b[0;34m\u001b[0m\n",
       "\u001b[0;34m\u001b[0m   \u001b[0;34m//\u001b[0m \u001b[0mDoes\u001b[0m \u001b[0mthe\u001b[0m \u001b[0miteration\u001b[0m \u001b[0mz\u001b[0m\u001b[0;34m=\u001b[0m\u001b[0mz\u001b[0m\u001b[0;34m*\u001b[0m\u001b[0mz\u001b[0m\u001b[0;34m+\u001b[0m\u001b[0mc\u001b[0m\u001b[0;34m,\u001b[0m \u001b[0muntil\u001b[0m \u001b[0;34m|\u001b[0m\u001b[0mz\u001b[0m\u001b[0;34m|\u001b[0m \u001b[0;34m>\u001b[0m \u001b[0;36m2\u001b[0m \u001b[0mwhen\u001b[0m \u001b[0mpoint\u001b[0m \u001b[0;32mis\u001b[0m \u001b[0mknown\u001b[0m \u001b[0mto\u001b[0m \u001b[0;34m\u001b[0m\n",
       "\u001b[0;34m\u001b[0m   \u001b[0;34m//\u001b[0m \u001b[0mbe\u001b[0m \u001b[0moutside\u001b[0m \u001b[0mset\u001b[0m\u001b[0;34m.\u001b[0m \u001b[0mIf\u001b[0m \u001b[0mloop\u001b[0m \u001b[0mcount\u001b[0m \u001b[0mreaches\u001b[0m \u001b[0mMAXITER\u001b[0m\u001b[0;34m,\u001b[0m \u001b[0mpoint\u001b[0m \u001b[0;32mis\u001b[0m \u001b[0mconsidered\u001b[0m \u001b[0;34m\u001b[0m\n",
       "\u001b[0;34m\u001b[0m   \u001b[0;34m//\u001b[0m \u001b[0mto\u001b[0m \u001b[0mbe\u001b[0m \u001b[0minside\u001b[0m \u001b[0mthe\u001b[0m \u001b[0mset\u001b[0m\u001b[0;34m.\u001b[0m\u001b[0;34m\u001b[0m\n",
       "\u001b[0;34m\u001b[0m\u001b[0;34m\u001b[0m\n",
       "\u001b[0;34m\u001b[0m   \u001b[0mstruct\u001b[0m \u001b[0md_complex\u001b[0m \u001b[0mz\u001b[0m\u001b[0;34m;\u001b[0m\u001b[0;34m\u001b[0m\n",
       "\u001b[0;34m\u001b[0m   \u001b[0mint\u001b[0m \u001b[0miter\u001b[0m\u001b[0;34m;\u001b[0m\u001b[0;34m\u001b[0m\n",
       "\u001b[0;34m\u001b[0m   \u001b[0mdouble\u001b[0m \u001b[0mtemp\u001b[0m\u001b[0;34m;\u001b[0m\u001b[0;34m\u001b[0m\n",
       "\u001b[0;34m\u001b[0m\u001b[0;34m\u001b[0m\n",
       "\u001b[0;34m\u001b[0m   \u001b[0mz\u001b[0m \u001b[0;34m=\u001b[0m \u001b[0mc\u001b[0m\u001b[0;34m;\u001b[0m\u001b[0;34m\u001b[0m\n",
       "\u001b[0;34m\u001b[0m   \u001b[0;32mfor\u001b[0m \u001b[0;34m(\u001b[0m\u001b[0miter\u001b[0m \u001b[0;34m=\u001b[0m \u001b[0;36m0\u001b[0m\u001b[0;34m;\u001b[0m \u001b[0miter\u001b[0m \u001b[0;34m<\u001b[0m \u001b[0mMAXITER\u001b[0m\u001b[0;34m;\u001b[0m \u001b[0miter\u001b[0m\u001b[0;34m+\u001b[0m\u001b[0;34m+\u001b[0m\u001b[0;34m)\u001b[0m \u001b[0;34m{\u001b[0m\u001b[0;34m\u001b[0m\n",
       "\u001b[0;34m\u001b[0m      \u001b[0mtemp\u001b[0m \u001b[0;34m=\u001b[0m \u001b[0;34m(\u001b[0m\u001b[0mz\u001b[0m\u001b[0;34m.\u001b[0m\u001b[0mr\u001b[0m \u001b[0;34m*\u001b[0m \u001b[0mz\u001b[0m\u001b[0;34m.\u001b[0m\u001b[0mr\u001b[0m\u001b[0;34m)\u001b[0m \u001b[0;34m-\u001b[0m \u001b[0;34m(\u001b[0m\u001b[0mz\u001b[0m\u001b[0;34m.\u001b[0m\u001b[0mi\u001b[0m \u001b[0;34m*\u001b[0m \u001b[0mz\u001b[0m\u001b[0;34m.\u001b[0m\u001b[0mi\u001b[0m\u001b[0;34m)\u001b[0m \u001b[0;34m+\u001b[0m \u001b[0mc\u001b[0m\u001b[0;34m.\u001b[0m\u001b[0mr\u001b[0m\u001b[0;34m;\u001b[0m\u001b[0;34m\u001b[0m\n",
       "\u001b[0;34m\u001b[0m      \u001b[0mz\u001b[0m\u001b[0;34m.\u001b[0m\u001b[0mi\u001b[0m \u001b[0;34m=\u001b[0m \u001b[0mz\u001b[0m\u001b[0;34m.\u001b[0m\u001b[0mr\u001b[0m \u001b[0;34m*\u001b[0m \u001b[0mz\u001b[0m\u001b[0;34m.\u001b[0m\u001b[0mi\u001b[0m \u001b[0;34m*\u001b[0m \u001b[0;36m2\u001b[0m \u001b[0;34m+\u001b[0m \u001b[0mc\u001b[0m\u001b[0;34m.\u001b[0m\u001b[0mi\u001b[0m\u001b[0;34m;\u001b[0m\u001b[0;34m\u001b[0m\n",
       "\u001b[0;34m\u001b[0m      \u001b[0mz\u001b[0m\u001b[0;34m.\u001b[0m\u001b[0mr\u001b[0m \u001b[0;34m=\u001b[0m \u001b[0mtemp\u001b[0m\u001b[0;34m;\u001b[0m\u001b[0;34m\u001b[0m\n",
       "\u001b[0;34m\u001b[0m      \u001b[0;32mif\u001b[0m \u001b[0;34m(\u001b[0m\u001b[0;34m(\u001b[0m\u001b[0mz\u001b[0m\u001b[0;34m.\u001b[0m\u001b[0mr\u001b[0m \u001b[0;34m*\u001b[0m \u001b[0mz\u001b[0m\u001b[0;34m.\u001b[0m\u001b[0mr\u001b[0m \u001b[0;34m+\u001b[0m \u001b[0mz\u001b[0m\u001b[0;34m.\u001b[0m\u001b[0mi\u001b[0m \u001b[0;34m*\u001b[0m \u001b[0mz\u001b[0m\u001b[0;34m.\u001b[0m\u001b[0mi\u001b[0m\u001b[0;34m)\u001b[0m \u001b[0;34m>\u001b[0m \u001b[0;36m4.0\u001b[0m\u001b[0;34m)\u001b[0m \u001b[0;34m{\u001b[0m\u001b[0;34m\u001b[0m\n",
       "\u001b[0;34m\u001b[0m         \u001b[0;31m#pragma omp atomic\u001b[0m\u001b[0;34m\u001b[0m\n",
       "\u001b[0;34m\u001b[0m         \u001b[0mnumoutside\u001b[0m\u001b[0;34m+\u001b[0m\u001b[0;34m+\u001b[0m\u001b[0;34m;\u001b[0m\u001b[0;34m\u001b[0m\n",
       "\u001b[0;34m\u001b[0m         \u001b[0;32mbreak\u001b[0m\u001b[0;34m;\u001b[0m\u001b[0;34m\u001b[0m\n",
       "\u001b[0;34m\u001b[0m      \u001b[0;34m}\u001b[0m\u001b[0;34m\u001b[0m\n",
       "\u001b[0;34m\u001b[0m   \u001b[0;34m}\u001b[0m\u001b[0;34m\u001b[0m\n",
       "\u001b[0;34m\u001b[0m\u001b[0;34m}\u001b[0m\u001b[0;34m\u001b[0m\u001b[0;34m\u001b[0m\u001b[0m\n"
      ]
     },
     "metadata": {},
     "output_type": "display_data"
    }
   ],
   "source": [
    "%pycat mandel_parallel_atomic.c"
   ]
  },
  {
   "cell_type": "code",
   "execution_count": 76,
   "metadata": {},
   "outputs": [],
   "source": [
    "! rm run_parallel_atomic.sh.e*\n",
    "! rm run_parallel_atomic.sh.o*"
   ]
  },
  {
   "cell_type": "code",
   "execution_count": 77,
   "metadata": {},
   "outputs": [
    {
     "name": "stdout",
     "output_type": "stream",
     "text": [
      "Job has been submitted to Intel(R) DevCloud and will execute soon.\n",
      "\n",
      " If you do not see result in 60 seconds, please restart the Jupyter kernel:\n",
      " Kernel -> 'Restart Kernel and Clear All Outputs...' and then try again\n",
      "\n",
      "Job ID                    Name             User            Time Use S Queue\n",
      "------------------------- ---------------- --------------- -------- - -----\n",
      "2067885.v-qsvr-1           ...ub-singleuser u177183         00:00:46 R jupyterhub     \n",
      "2067998.v-qsvr-1           run_serial.sh    u177183         00:01:08 R batch          \n",
      "2068004.v-qsvr-1           ...l_critical.sh u177183                0 R batch          \n",
      "2068009.v-qsvr-1           ...lel_atomic.sh u177183                0 Q batch          \n",
      "\n",
      "Waiting for Output ████████████████████████████████████████████████████████████\n",
      "\n",
      "TimeOut 60 seconds: Job is still queued for execution, check for output file later (run_parallel_atomic.sh.o2068009)\n",
      "\n"
     ]
    }
   ],
   "source": [
    "! chmod 755 run_parallel_atomic.sh;if [ -x \"$(command -v qsub)\" ]; then ./../q run_parallel_atomic.sh; else ./run_parallel_atomic.sh; fi"
   ]
  },
  {
   "cell_type": "code",
   "execution_count": 97,
   "metadata": {},
   "outputs": [
    {
     "name": "stdout",
     "output_type": "stream",
     "text": [
      "\n",
      "########################################################################\n",
      "#      Date:           Thu 01 Dec 2022 11:04:18 PM PST\n",
      "#    Job ID:           2068009.v-qsvr-1.aidevcloud\n",
      "#      User:           u177183\n",
      "# Resources:           cput=35:00:00,neednodes=1:batch:ppn=2,nodes=1:batch:ppn=2,walltime=06:00:00\n",
      "########################################################################\n",
      "\n",
      "## u177183 is running HW1 Problem 1 - Calculate Mandelbrot area - parallel atomic\n",
      "########## Compiling your parallel atomic code\n",
      "########## Executing your parallel atomic code\n",
      "Area of Mandlebrot set =   1.50763455 +/-   0.00030153\n",
      "Parallel-Atomic implementation - time: 210.494148 seconds, with 1 threads\n",
      "\n",
      "Area of Mandlebrot set =   0.91389668 +/-   0.00018278\n",
      "Parallel-Atomic implementation - time: 101.990545 seconds, with 2 threads\n",
      "\n",
      "Area of Mandlebrot set =   0.30653663 +/-   0.00006131\n",
      "Parallel-Atomic implementation - time: 27.692255 seconds, with 4 threads\n",
      "\n",
      "Area of Mandlebrot set =   0.19804815 +/-   0.00003961\n",
      "Parallel-Atomic implementation - time: 15.751827 seconds, with 8 threads\n",
      "\n",
      "Area of Mandlebrot set =   0.15159712 +/-   0.00003032\n",
      "Parallel-Atomic implementation - time: 12.620567 seconds, with 16 threads\n",
      "\n",
      "Area of Mandlebrot set =   0.12873038 +/-   0.00002575\n",
      "Parallel-Atomic implementation - time: 9.021836 seconds, with 24 threads\n",
      "\n",
      "(Correct answer should be around 1.506)\n",
      "########## Done parallel atomic\n",
      "\n",
      "########################################################################\n",
      "# End of output for job 2068009.v-qsvr-1.aidevcloud\n",
      "# Date: Thu 01 Dec 2022 11:10:42 PM PST\n",
      "########################################################################\n",
      "\n"
     ]
    }
   ],
   "source": [
    "! cat run_parallel_atomic.sh.o*"
   ]
  },
  {
   "cell_type": "markdown",
   "metadata": {
    "tags": []
   },
   "source": [
    "### mandel_parallel_false_sharing.c"
   ]
  },
  {
   "cell_type": "code",
   "execution_count": 79,
   "metadata": {},
   "outputs": [
    {
     "data": {
      "text/plain": [
       "\u001b[0;34m/\u001b[0m\u001b[0;34m*\u001b[0m\u001b[0;34m\u001b[0m\n",
       "\u001b[0;34m\u001b[0m\u001b[0;34m**\u001b[0m  \u001b[0mPROGRAM\u001b[0m\u001b[0;34m:\u001b[0m \u001b[0mMandelbrot\u001b[0m \u001b[0marea\u001b[0m\u001b[0;34m\u001b[0m\n",
       "\u001b[0;34m\u001b[0m\u001b[0;34m**\u001b[0m\u001b[0;34m\u001b[0m\n",
       "\u001b[0;34m\u001b[0m\u001b[0;34m**\u001b[0m  \u001b[0mPURPOSE\u001b[0m\u001b[0;34m:\u001b[0m \u001b[0mProgram\u001b[0m \u001b[0mto\u001b[0m \u001b[0mcompute\u001b[0m \u001b[0mthe\u001b[0m \u001b[0marea\u001b[0m \u001b[0mof\u001b[0m \u001b[0ma\u001b[0m  \u001b[0mMandelbrot\u001b[0m \u001b[0mset\u001b[0m\u001b[0;34m.\u001b[0m\u001b[0;34m\u001b[0m\n",
       "\u001b[0;34m\u001b[0m\u001b[0;34m**\u001b[0m           \u001b[0mCorrect\u001b[0m \u001b[0manswer\u001b[0m \u001b[0mshould\u001b[0m \u001b[0mbe\u001b[0m \u001b[0maround\u001b[0m \u001b[0;36m1.510659\u001b[0m\u001b[0;34m.\u001b[0m\u001b[0;34m\u001b[0m\n",
       "\u001b[0;34m\u001b[0m\u001b[0;34m**\u001b[0m           \u001b[0mWARNING\u001b[0m\u001b[0;34m:\u001b[0m \u001b[0mthis\u001b[0m \u001b[0mprogram\u001b[0m \u001b[0mmay\u001b[0m \u001b[0mcontain\u001b[0m \u001b[0merrors\u001b[0m\u001b[0;34m\u001b[0m\n",
       "\u001b[0;34m\u001b[0m\u001b[0;34m**\u001b[0m\u001b[0;34m\u001b[0m\n",
       "\u001b[0;34m\u001b[0m\u001b[0;34m**\u001b[0m  \u001b[0mUSAGE\u001b[0m\u001b[0;34m:\u001b[0m   \u001b[0mProgram\u001b[0m \u001b[0mruns\u001b[0m \u001b[0mwithout\u001b[0m \u001b[0minput\u001b[0m \u001b[0;34m...\u001b[0m \u001b[0mjust\u001b[0m \u001b[0mrun\u001b[0m \u001b[0mthe\u001b[0m \u001b[0mexecutable\u001b[0m\u001b[0;34m\u001b[0m\n",
       "\u001b[0;34m\u001b[0m\u001b[0;34m**\u001b[0m            \u001b[0;34m\u001b[0m\n",
       "\u001b[0;34m\u001b[0m\u001b[0;34m**\u001b[0m  \u001b[0mHISTORY\u001b[0m\u001b[0;34m:\u001b[0m \u001b[0mWritten\u001b[0m\u001b[0;34m:\u001b[0m  \u001b[0;34m(\u001b[0m\u001b[0mMark\u001b[0m \u001b[0mBull\u001b[0m\u001b[0;34m,\u001b[0m \u001b[0mAugust\u001b[0m \u001b[0;36m2011\u001b[0m\u001b[0;34m)\u001b[0m\u001b[0;34m.\u001b[0m\u001b[0;34m\u001b[0m\n",
       "\u001b[0;34m\u001b[0m\u001b[0;34m**\u001b[0m           \u001b[0mChanged\u001b[0m \u001b[0;34m\"comples\"\u001b[0m \u001b[0mto\u001b[0m \u001b[0;34m\"d_comples\"\u001b[0m \u001b[0mto\u001b[0m \u001b[0mavoid\u001b[0m \u001b[0mcollsion\u001b[0m \u001b[0;32mwith\u001b[0m \u001b[0;34m\u001b[0m\n",
       "\u001b[0;34m\u001b[0m\u001b[0;34m**\u001b[0m           \u001b[0mmath\u001b[0m\u001b[0;34m.\u001b[0m\u001b[0mh\u001b[0m \u001b[0mcomplex\u001b[0m \u001b[0mtype\u001b[0m \u001b[0;34m(\u001b[0m\u001b[0mTim\u001b[0m \u001b[0mMattson\u001b[0m\u001b[0;34m,\u001b[0m \u001b[0mSeptember\u001b[0m \u001b[0;36m2011\u001b[0m\u001b[0;34m)\u001b[0m\u001b[0;34m\u001b[0m\n",
       "\u001b[0;34m\u001b[0m\u001b[0;34m*\u001b[0m\u001b[0;34m/\u001b[0m\u001b[0;34m\u001b[0m\n",
       "\u001b[0;34m\u001b[0m\u001b[0;34m\u001b[0m\n",
       "\u001b[0;34m\u001b[0m\u001b[0;31m#include <stdio.h>\u001b[0m\u001b[0;34m\u001b[0m\n",
       "\u001b[0;34m\u001b[0m\u001b[0;31m#include <stdlib.h>\u001b[0m\u001b[0;34m\u001b[0m\n",
       "\u001b[0;34m\u001b[0m\u001b[0;31m#include <math.h>\u001b[0m\u001b[0;34m\u001b[0m\n",
       "\u001b[0;34m\u001b[0m\u001b[0;31m#include <omp.h>\u001b[0m\u001b[0;34m\u001b[0m\n",
       "\u001b[0;34m\u001b[0m\u001b[0;34m\u001b[0m\n",
       "\u001b[0;34m\u001b[0m\u001b[0;31m# define NPOINTS 5000\u001b[0m\u001b[0;34m\u001b[0m\n",
       "\u001b[0;34m\u001b[0m\u001b[0;31m# define MAXITER 5000\u001b[0m\u001b[0;34m\u001b[0m\n",
       "\u001b[0;34m\u001b[0m\u001b[0;31m#define NELEMS(x)  (sizeof(x) / sizeof((x)[0]))\u001b[0m\u001b[0;34m\u001b[0m\n",
       "\u001b[0;34m\u001b[0m\u001b[0;34m\u001b[0m\n",
       "\u001b[0;34m\u001b[0m\u001b[0mvoid\u001b[0m \u001b[0mtestpoint\u001b[0m\u001b[0;34m(\u001b[0m\u001b[0mint\u001b[0m\u001b[0;34m)\u001b[0m\u001b[0;34m;\u001b[0m\u001b[0;34m\u001b[0m\n",
       "\u001b[0;34m\u001b[0m\u001b[0;34m\u001b[0m\n",
       "\u001b[0;34m\u001b[0m\u001b[0mstruct\u001b[0m \u001b[0md_complex\u001b[0m \u001b[0;34m{\u001b[0m\u001b[0;34m\u001b[0m\n",
       "\u001b[0;34m\u001b[0m   \u001b[0mdouble\u001b[0m \u001b[0mr\u001b[0m\u001b[0;34m;\u001b[0m\u001b[0;34m\u001b[0m\n",
       "\u001b[0;34m\u001b[0m   \u001b[0mdouble\u001b[0m \u001b[0mi\u001b[0m\u001b[0;34m;\u001b[0m\u001b[0;34m\u001b[0m\n",
       "\u001b[0;34m\u001b[0m\u001b[0;34m}\u001b[0m\u001b[0;34m;\u001b[0m\u001b[0;34m\u001b[0m\n",
       "\u001b[0;34m\u001b[0m\u001b[0;34m\u001b[0m\n",
       "\u001b[0;34m\u001b[0m\u001b[0mstruct\u001b[0m \u001b[0md_complex\u001b[0m \u001b[0mc\u001b[0m\u001b[0;34m;\u001b[0m\u001b[0;34m\u001b[0m\n",
       "\u001b[0;34m\u001b[0m\u001b[0;34m//\u001b[0m\u001b[0mint\u001b[0m \u001b[0mthreads\u001b[0m\u001b[0;34m[\u001b[0m\u001b[0;36m6\u001b[0m\u001b[0;34m]\u001b[0m \u001b[0;34m=\u001b[0m \u001b[0;34m{\u001b[0m\u001b[0;36m1\u001b[0m\u001b[0;34m,\u001b[0m\u001b[0;36m2\u001b[0m\u001b[0;34m,\u001b[0m\u001b[0;36m4\u001b[0m\u001b[0;34m,\u001b[0m\u001b[0;36m8\u001b[0m\u001b[0;34m,\u001b[0m\u001b[0;36m16\u001b[0m\u001b[0;34m,\u001b[0m\u001b[0;36m24\u001b[0m\u001b[0;34m}\u001b[0m\u001b[0;34m;\u001b[0m\u001b[0;34m\u001b[0m\n",
       "\u001b[0;34m\u001b[0m\u001b[0mint\u001b[0m \u001b[0mnumoutside\u001b[0m \u001b[0;34m=\u001b[0m \u001b[0;36m0\u001b[0m\u001b[0;34m;\u001b[0m\u001b[0;34m\u001b[0m\n",
       "\u001b[0;34m\u001b[0m\u001b[0mint\u001b[0m \u001b[0mnumoutside_per_thread\u001b[0m\u001b[0;34m[\u001b[0m\u001b[0;36m24\u001b[0m\u001b[0;34m]\u001b[0m \u001b[0;34m=\u001b[0m \u001b[0;34m{\u001b[0m\u001b[0;36m0\u001b[0m\u001b[0;34m}\u001b[0m\u001b[0;34m;\u001b[0m\u001b[0;34m\u001b[0m\n",
       "\u001b[0;34m\u001b[0m\u001b[0;34m\u001b[0m\n",
       "\u001b[0;34m\u001b[0m\u001b[0mint\u001b[0m \u001b[0mmain\u001b[0m\u001b[0;34m(\u001b[0m\u001b[0;34m)\u001b[0m \u001b[0;34m{\u001b[0m\u001b[0;34m\u001b[0m\n",
       "\u001b[0;34m\u001b[0m    \u001b[0;34m\u001b[0m\n",
       "\u001b[0;34m\u001b[0m   \u001b[0mint\u001b[0m \u001b[0mthreads\u001b[0m\u001b[0;34m[\u001b[0m\u001b[0;36m6\u001b[0m\u001b[0;34m]\u001b[0m \u001b[0;34m=\u001b[0m \u001b[0;34m{\u001b[0m\u001b[0;36m1\u001b[0m\u001b[0;34m,\u001b[0m\u001b[0;36m2\u001b[0m\u001b[0;34m,\u001b[0m\u001b[0;36m4\u001b[0m\u001b[0;34m,\u001b[0m\u001b[0;36m8\u001b[0m\u001b[0;34m,\u001b[0m\u001b[0;36m16\u001b[0m\u001b[0;34m,\u001b[0m\u001b[0;36m24\u001b[0m\u001b[0;34m}\u001b[0m\u001b[0;34m;\u001b[0m  \u001b[0;34m\u001b[0m\n",
       "\u001b[0;34m\u001b[0m   \u001b[0mint\u001b[0m \u001b[0mi\u001b[0m\u001b[0;34m,\u001b[0m \u001b[0mj\u001b[0m\u001b[0;34m;\u001b[0m\u001b[0;34m\u001b[0m\n",
       "\u001b[0;34m\u001b[0m   \u001b[0mdouble\u001b[0m \u001b[0marea\u001b[0m\u001b[0;34m,\u001b[0m \u001b[0merror\u001b[0m\u001b[0;34m,\u001b[0m \u001b[0meps\u001b[0m \u001b[0;34m=\u001b[0m \u001b[0;36m1.0e-5\u001b[0m\u001b[0;34m;\u001b[0m\u001b[0;34m\u001b[0m\n",
       "\u001b[0;34m\u001b[0m   \u001b[0mdouble\u001b[0m \u001b[0mstart_time\u001b[0m\u001b[0;34m,\u001b[0m \u001b[0mrun_time\u001b[0m\u001b[0;34m;\u001b[0m\u001b[0;34m\u001b[0m\n",
       "\u001b[0;34m\u001b[0m\u001b[0;34m\u001b[0m\n",
       "\u001b[0;34m\u001b[0m   \u001b[0;34m//\u001b[0m \u001b[0mTest\u001b[0m \u001b[0mvarying\u001b[0m \u001b[0mnumber\u001b[0m \u001b[0mof\u001b[0m \u001b[0mthreads\u001b[0m\u001b[0;34m:\u001b[0m \u001b[0;36m1\u001b[0m\u001b[0;34m,\u001b[0m\u001b[0;36m2\u001b[0m\u001b[0;34m,\u001b[0m\u001b[0;36m4\u001b[0m\u001b[0;34m,\u001b[0m\u001b[0;36m8\u001b[0m\u001b[0;34m,\u001b[0m\u001b[0;36m16\u001b[0m \u001b[0;32mand\u001b[0m \u001b[0;36m24\u001b[0m \u001b[0mthreads\u001b[0m\u001b[0;34m\u001b[0m\n",
       "\u001b[0;34m\u001b[0m   \u001b[0;32mfor\u001b[0m \u001b[0;34m(\u001b[0m\u001b[0mint\u001b[0m \u001b[0mk\u001b[0m\u001b[0;34m=\u001b[0m\u001b[0;36m0\u001b[0m\u001b[0;34m;\u001b[0m \u001b[0mk\u001b[0m\u001b[0;34m<\u001b[0m \u001b[0mNELEMS\u001b[0m\u001b[0;34m(\u001b[0m\u001b[0mthreads\u001b[0m\u001b[0;34m)\u001b[0m\u001b[0;34m;\u001b[0m \u001b[0mk\u001b[0m\u001b[0;34m+\u001b[0m\u001b[0;34m+\u001b[0m\u001b[0;34m)\u001b[0m \u001b[0;34m{\u001b[0m\u001b[0;34m\u001b[0m\n",
       "\u001b[0;34m\u001b[0m        \u001b[0mnumoutside\u001b[0m \u001b[0;34m=\u001b[0m \u001b[0;36m0\u001b[0m\u001b[0;34m;\u001b[0m\u001b[0;34m\u001b[0m\n",
       "\u001b[0;34m\u001b[0m        \u001b[0mint\u001b[0m \u001b[0mnum_of_threads\u001b[0m \u001b[0;34m=\u001b[0m \u001b[0mthreads\u001b[0m\u001b[0;34m[\u001b[0m\u001b[0mk\u001b[0m\u001b[0;34m]\u001b[0m\u001b[0;34m;\u001b[0m\u001b[0;34m\u001b[0m\n",
       "\u001b[0;34m\u001b[0m        \u001b[0;34m\u001b[0m\n",
       "\u001b[0;34m\u001b[0m        \u001b[0;32mfor\u001b[0m \u001b[0;34m(\u001b[0m\u001b[0mint\u001b[0m \u001b[0mkk\u001b[0m \u001b[0;34m=\u001b[0m \u001b[0;36m0\u001b[0m \u001b[0;34m;\u001b[0m \u001b[0mkk\u001b[0m \u001b[0;34m<\u001b[0m \u001b[0mnum_of_threads\u001b[0m \u001b[0;34m;\u001b[0m \u001b[0mkk\u001b[0m\u001b[0;34m+\u001b[0m\u001b[0;34m+\u001b[0m\u001b[0;34m)\u001b[0m\u001b[0;34m\u001b[0m\n",
       "\u001b[0;34m\u001b[0m            \u001b[0mnumoutside_per_thread\u001b[0m\u001b[0;34m[\u001b[0m\u001b[0mkk\u001b[0m\u001b[0;34m]\u001b[0m \u001b[0;34m=\u001b[0m \u001b[0;36m0\u001b[0m\u001b[0;34m;\u001b[0m\u001b[0;34m\u001b[0m\n",
       "\u001b[0;34m\u001b[0m        \u001b[0;34m\u001b[0m\n",
       "\u001b[0;34m\u001b[0m        \u001b[0momp_set_num_threads\u001b[0m\u001b[0;34m(\u001b[0m\u001b[0mnum_of_threads\u001b[0m\u001b[0;34m)\u001b[0m\u001b[0;34m;\u001b[0m\u001b[0;34m\u001b[0m\n",
       "\u001b[0;34m\u001b[0m        \u001b[0mstart_time\u001b[0m \u001b[0;34m=\u001b[0m \u001b[0momp_get_wtime\u001b[0m\u001b[0;34m(\u001b[0m\u001b[0;34m)\u001b[0m\u001b[0;34m;\u001b[0m\u001b[0;34m\u001b[0m\n",
       "\u001b[0;34m\u001b[0m       \u001b[0;34m\u001b[0m\n",
       "\u001b[0;34m\u001b[0m       \u001b[0;34m//\u001b[0m \u001b[0mLoop\u001b[0m \u001b[0mover\u001b[0m \u001b[0mgrid\u001b[0m \u001b[0mof\u001b[0m \u001b[0mpoints\u001b[0m \u001b[0;32min\u001b[0m \u001b[0mthe\u001b[0m \u001b[0mcomplex\u001b[0m \u001b[0mplane\u001b[0m \u001b[0mwhich\u001b[0m \u001b[0mcontains\u001b[0m \u001b[0;34m\u001b[0m\n",
       "\u001b[0;34m\u001b[0m       \u001b[0;34m//\u001b[0m \u001b[0mthe\u001b[0m \u001b[0mMandelbrot\u001b[0m \u001b[0mset\u001b[0m\u001b[0;34m,\u001b[0m \u001b[0mtest\u001b[0m \u001b[0meach\u001b[0m \u001b[0mpoint\u001b[0m \u001b[0mto\u001b[0m \u001b[0msee\u001b[0m \u001b[0mwhether\u001b[0m \u001b[0mit\u001b[0m \u001b[0;32mis\u001b[0m \u001b[0;34m\u001b[0m\n",
       "\u001b[0;34m\u001b[0m       \u001b[0;34m//\u001b[0m \u001b[0minside\u001b[0m \u001b[0;32mor\u001b[0m \u001b[0moutside\u001b[0m \u001b[0mthe\u001b[0m \u001b[0mset\u001b[0m\u001b[0;34m\u001b[0m\n",
       "\u001b[0;34m\u001b[0m       \u001b[0;31m#pragma omp parallel for collapse(2)\u001b[0m\u001b[0;34m\u001b[0m\n",
       "\u001b[0;34m\u001b[0m       \u001b[0;32mfor\u001b[0m \u001b[0;34m(\u001b[0m\u001b[0mi\u001b[0m \u001b[0;34m=\u001b[0m \u001b[0;36m0\u001b[0m\u001b[0;34m;\u001b[0m \u001b[0mi\u001b[0m \u001b[0;34m<\u001b[0m \u001b[0mNPOINTS\u001b[0m\u001b[0;34m;\u001b[0m \u001b[0mi\u001b[0m\u001b[0;34m+\u001b[0m\u001b[0;34m+\u001b[0m\u001b[0;34m)\u001b[0m \u001b[0;34m{\u001b[0m\u001b[0;34m\u001b[0m\n",
       "\u001b[0;34m\u001b[0m          \u001b[0;32mfor\u001b[0m \u001b[0;34m(\u001b[0m\u001b[0mj\u001b[0m \u001b[0;34m=\u001b[0m \u001b[0;36m0\u001b[0m\u001b[0;34m;\u001b[0m \u001b[0mj\u001b[0m \u001b[0;34m<\u001b[0m \u001b[0mNPOINTS\u001b[0m\u001b[0;34m;\u001b[0m \u001b[0mj\u001b[0m\u001b[0;34m+\u001b[0m\u001b[0;34m+\u001b[0m\u001b[0;34m)\u001b[0m \u001b[0;34m{\u001b[0m\u001b[0;34m\u001b[0m\n",
       "\u001b[0;34m\u001b[0m             \u001b[0mc\u001b[0m\u001b[0;34m.\u001b[0m\u001b[0mr\u001b[0m \u001b[0;34m=\u001b[0m \u001b[0;34m-\u001b[0m\u001b[0;36m2.0\u001b[0m \u001b[0;34m+\u001b[0m \u001b[0;36m2.5\u001b[0m \u001b[0;34m*\u001b[0m \u001b[0;34m(\u001b[0m\u001b[0mdouble\u001b[0m\u001b[0;34m)\u001b[0m\u001b[0;34m(\u001b[0m\u001b[0mi\u001b[0m\u001b[0;34m)\u001b[0m \u001b[0;34m/\u001b[0m \u001b[0;34m(\u001b[0m\u001b[0mdouble\u001b[0m\u001b[0;34m)\u001b[0m\u001b[0;34m(\u001b[0m\u001b[0mNPOINTS\u001b[0m\u001b[0;34m)\u001b[0m \u001b[0;34m+\u001b[0m \u001b[0meps\u001b[0m\u001b[0;34m;\u001b[0m\u001b[0;34m\u001b[0m\n",
       "\u001b[0;34m\u001b[0m             \u001b[0mc\u001b[0m\u001b[0;34m.\u001b[0m\u001b[0mi\u001b[0m \u001b[0;34m=\u001b[0m \u001b[0;36m1.125\u001b[0m \u001b[0;34m*\u001b[0m \u001b[0;34m(\u001b[0m\u001b[0mdouble\u001b[0m\u001b[0;34m)\u001b[0m\u001b[0;34m(\u001b[0m\u001b[0mj\u001b[0m\u001b[0;34m)\u001b[0m \u001b[0;34m/\u001b[0m \u001b[0;34m(\u001b[0m\u001b[0mdouble\u001b[0m\u001b[0;34m)\u001b[0m\u001b[0;34m(\u001b[0m\u001b[0mNPOINTS\u001b[0m\u001b[0;34m)\u001b[0m \u001b[0;34m+\u001b[0m \u001b[0meps\u001b[0m\u001b[0;34m;\u001b[0m\u001b[0;34m\u001b[0m\n",
       "\u001b[0;34m\u001b[0m             \u001b[0mint\u001b[0m \u001b[0mthread_id\u001b[0m \u001b[0;34m=\u001b[0m \u001b[0momp_get_thread_num\u001b[0m\u001b[0;34m(\u001b[0m\u001b[0;34m)\u001b[0m\u001b[0;34m;\u001b[0m\u001b[0;34m\u001b[0m\n",
       "\u001b[0;34m\u001b[0m             \u001b[0mtestpoint\u001b[0m\u001b[0;34m(\u001b[0m\u001b[0mthread_id\u001b[0m\u001b[0;34m)\u001b[0m\u001b[0;34m;\u001b[0m\u001b[0;34m\u001b[0m\n",
       "\u001b[0;34m\u001b[0m          \u001b[0;34m}\u001b[0m\u001b[0;34m\u001b[0m\n",
       "\u001b[0;34m\u001b[0m       \u001b[0;34m}\u001b[0m\u001b[0;34m\u001b[0m\n",
       "\u001b[0;34m\u001b[0m       \u001b[0;34m\u001b[0m\n",
       "\u001b[0;34m\u001b[0m       \u001b[0;32mfor\u001b[0m \u001b[0;34m(\u001b[0m\u001b[0mint\u001b[0m \u001b[0mkk\u001b[0m \u001b[0;34m=\u001b[0m \u001b[0;36m0\u001b[0m \u001b[0;34m;\u001b[0m \u001b[0mkk\u001b[0m \u001b[0;34m<\u001b[0m \u001b[0mnum_of_threads\u001b[0m \u001b[0;34m;\u001b[0m \u001b[0mkk\u001b[0m\u001b[0;34m+\u001b[0m\u001b[0;34m+\u001b[0m\u001b[0;34m)\u001b[0m\u001b[0;34m\u001b[0m\n",
       "\u001b[0;34m\u001b[0m            \u001b[0mnumoutside\u001b[0m \u001b[0;34m+=\u001b[0m \u001b[0mnumoutside_per_thread\u001b[0m\u001b[0;34m[\u001b[0m\u001b[0mkk\u001b[0m\u001b[0;34m]\u001b[0m\u001b[0;34m;\u001b[0m\u001b[0;34m\u001b[0m\n",
       "\u001b[0;34m\u001b[0m       \u001b[0;34m\u001b[0m\n",
       "\u001b[0;34m\u001b[0m       \u001b[0mrun_time\u001b[0m \u001b[0;34m=\u001b[0m \u001b[0momp_get_wtime\u001b[0m\u001b[0;34m(\u001b[0m\u001b[0;34m)\u001b[0m \u001b[0;34m-\u001b[0m \u001b[0mstart_time\u001b[0m\u001b[0;34m;\u001b[0m\u001b[0;34m\u001b[0m\n",
       "\u001b[0;34m\u001b[0m       \u001b[0;34m//\u001b[0m \u001b[0mCalculate\u001b[0m \u001b[0marea\u001b[0m \u001b[0mof\u001b[0m \u001b[0mset\u001b[0m \u001b[0;32mand\u001b[0m \u001b[0merror\u001b[0m \u001b[0mestimate\u001b[0m \u001b[0;32mand\u001b[0m \u001b[0moutput\u001b[0m \u001b[0mthe\u001b[0m \u001b[0mresults\u001b[0m\u001b[0;34m\u001b[0m\n",
       "\u001b[0;34m\u001b[0m       \u001b[0marea\u001b[0m \u001b[0;34m=\u001b[0m \u001b[0;36m2.0\u001b[0m \u001b[0;34m*\u001b[0m \u001b[0;36m2.5\u001b[0m \u001b[0;34m*\u001b[0m \u001b[0;36m1.125\u001b[0m \u001b[0;34m*\u001b[0m \u001b[0;34m(\u001b[0m\u001b[0mdouble\u001b[0m\u001b[0;34m)\u001b[0m\u001b[0;34m(\u001b[0m\u001b[0mNPOINTS\u001b[0m \u001b[0;34m*\u001b[0m \u001b[0mNPOINTS\u001b[0m \u001b[0;34m-\u001b[0m \u001b[0mnumoutside\u001b[0m\u001b[0;34m)\u001b[0m \u001b[0;34m\u001b[0m\n",
       "\u001b[0;34m\u001b[0m             \u001b[0;34m/\u001b[0m \u001b[0;34m(\u001b[0m\u001b[0mdouble\u001b[0m\u001b[0;34m)\u001b[0m\u001b[0;34m(\u001b[0m\u001b[0mNPOINTS\u001b[0m \u001b[0;34m*\u001b[0m \u001b[0mNPOINTS\u001b[0m\u001b[0;34m)\u001b[0m\u001b[0;34m;\u001b[0m\u001b[0;34m\u001b[0m\n",
       "\u001b[0;34m\u001b[0m       \u001b[0merror\u001b[0m \u001b[0;34m=\u001b[0m \u001b[0marea\u001b[0m \u001b[0;34m/\u001b[0m \u001b[0;34m(\u001b[0m\u001b[0mdouble\u001b[0m\u001b[0;34m)\u001b[0m\u001b[0mNPOINTS\u001b[0m\u001b[0;34m;\u001b[0m\u001b[0;34m\u001b[0m\n",
       "\u001b[0;34m\u001b[0m       \u001b[0mprintf\u001b[0m\u001b[0;34m(\u001b[0m\u001b[0;34m\"Area of Mandlebrot set = %12.8f +/- %12.8f\\n\"\u001b[0m\u001b[0;34m,\u001b[0m\u001b[0marea\u001b[0m\u001b[0;34m,\u001b[0m\u001b[0merror\u001b[0m\u001b[0;34m)\u001b[0m\u001b[0;34m;\u001b[0m\u001b[0;34m\u001b[0m\n",
       "\u001b[0;34m\u001b[0m       \u001b[0mprintf\u001b[0m\u001b[0;34m(\u001b[0m\u001b[0;34m\"Parallel-False-Sharing implementation - time: %f seconds, with %d threads\\n\\n\"\u001b[0m\u001b[0;34m,\u001b[0m\u001b[0mrun_time\u001b[0m\u001b[0;34m,\u001b[0m \u001b[0mnum_of_threads\u001b[0m\u001b[0;34m)\u001b[0m\u001b[0;34m;\u001b[0m\u001b[0;34m\u001b[0m\n",
       "\u001b[0;34m\u001b[0m   \u001b[0;34m}\u001b[0m\u001b[0;34m\u001b[0m\n",
       "\u001b[0;34m\u001b[0m   \u001b[0mprintf\u001b[0m\u001b[0;34m(\u001b[0m\u001b[0;34m\"(Correct answer should be around 1.506)\\n\"\u001b[0m\u001b[0;34m)\u001b[0m\u001b[0;34m;\u001b[0m\u001b[0;34m\u001b[0m\n",
       "\u001b[0;34m\u001b[0m\u001b[0;34m}\u001b[0m\u001b[0;34m\u001b[0m\n",
       "\u001b[0;34m\u001b[0m\u001b[0;34m\u001b[0m\n",
       "\u001b[0;34m\u001b[0m\u001b[0mvoid\u001b[0m \u001b[0mtestpoint\u001b[0m\u001b[0;34m(\u001b[0m\u001b[0mint\u001b[0m \u001b[0mthread_id\u001b[0m\u001b[0;34m)\u001b[0m \u001b[0;34m{\u001b[0m\u001b[0;34m\u001b[0m\n",
       "\u001b[0;34m\u001b[0m\u001b[0;34m\u001b[0m\n",
       "\u001b[0;34m\u001b[0m   \u001b[0;34m//\u001b[0m \u001b[0mDoes\u001b[0m \u001b[0mthe\u001b[0m \u001b[0miteration\u001b[0m \u001b[0mz\u001b[0m\u001b[0;34m=\u001b[0m\u001b[0mz\u001b[0m\u001b[0;34m*\u001b[0m\u001b[0mz\u001b[0m\u001b[0;34m+\u001b[0m\u001b[0mc\u001b[0m\u001b[0;34m,\u001b[0m \u001b[0muntil\u001b[0m \u001b[0;34m|\u001b[0m\u001b[0mz\u001b[0m\u001b[0;34m|\u001b[0m \u001b[0;34m>\u001b[0m \u001b[0;36m2\u001b[0m \u001b[0mwhen\u001b[0m \u001b[0mpoint\u001b[0m \u001b[0;32mis\u001b[0m \u001b[0mknown\u001b[0m \u001b[0mto\u001b[0m \u001b[0;34m\u001b[0m\n",
       "\u001b[0;34m\u001b[0m   \u001b[0;34m//\u001b[0m \u001b[0mbe\u001b[0m \u001b[0moutside\u001b[0m \u001b[0mset\u001b[0m\u001b[0;34m.\u001b[0m \u001b[0mIf\u001b[0m \u001b[0mloop\u001b[0m \u001b[0mcount\u001b[0m \u001b[0mreaches\u001b[0m \u001b[0mMAXITER\u001b[0m\u001b[0;34m,\u001b[0m \u001b[0mpoint\u001b[0m \u001b[0;32mis\u001b[0m \u001b[0mconsidered\u001b[0m \u001b[0;34m\u001b[0m\n",
       "\u001b[0;34m\u001b[0m   \u001b[0;34m//\u001b[0m \u001b[0mto\u001b[0m \u001b[0mbe\u001b[0m \u001b[0minside\u001b[0m \u001b[0mthe\u001b[0m \u001b[0mset\u001b[0m\u001b[0;34m.\u001b[0m\u001b[0;34m\u001b[0m\n",
       "\u001b[0;34m\u001b[0m\u001b[0;34m\u001b[0m\n",
       "\u001b[0;34m\u001b[0m   \u001b[0mstruct\u001b[0m \u001b[0md_complex\u001b[0m \u001b[0mz\u001b[0m\u001b[0;34m;\u001b[0m\u001b[0;34m\u001b[0m\n",
       "\u001b[0;34m\u001b[0m   \u001b[0mint\u001b[0m \u001b[0miter\u001b[0m\u001b[0;34m;\u001b[0m\u001b[0;34m\u001b[0m\n",
       "\u001b[0;34m\u001b[0m   \u001b[0mdouble\u001b[0m \u001b[0mtemp\u001b[0m\u001b[0;34m;\u001b[0m\u001b[0;34m\u001b[0m\n",
       "\u001b[0;34m\u001b[0m\u001b[0;34m\u001b[0m\n",
       "\u001b[0;34m\u001b[0m   \u001b[0mz\u001b[0m \u001b[0;34m=\u001b[0m \u001b[0mc\u001b[0m\u001b[0;34m;\u001b[0m\u001b[0;34m\u001b[0m\n",
       "\u001b[0;34m\u001b[0m   \u001b[0;32mfor\u001b[0m \u001b[0;34m(\u001b[0m\u001b[0miter\u001b[0m \u001b[0;34m=\u001b[0m \u001b[0;36m0\u001b[0m\u001b[0;34m;\u001b[0m \u001b[0miter\u001b[0m \u001b[0;34m<\u001b[0m \u001b[0mMAXITER\u001b[0m\u001b[0;34m;\u001b[0m \u001b[0miter\u001b[0m\u001b[0;34m+\u001b[0m\u001b[0;34m+\u001b[0m\u001b[0;34m)\u001b[0m \u001b[0;34m{\u001b[0m\u001b[0;34m\u001b[0m\n",
       "\u001b[0;34m\u001b[0m      \u001b[0mtemp\u001b[0m \u001b[0;34m=\u001b[0m \u001b[0;34m(\u001b[0m\u001b[0mz\u001b[0m\u001b[0;34m.\u001b[0m\u001b[0mr\u001b[0m \u001b[0;34m*\u001b[0m \u001b[0mz\u001b[0m\u001b[0;34m.\u001b[0m\u001b[0mr\u001b[0m\u001b[0;34m)\u001b[0m \u001b[0;34m-\u001b[0m \u001b[0;34m(\u001b[0m\u001b[0mz\u001b[0m\u001b[0;34m.\u001b[0m\u001b[0mi\u001b[0m \u001b[0;34m*\u001b[0m \u001b[0mz\u001b[0m\u001b[0;34m.\u001b[0m\u001b[0mi\u001b[0m\u001b[0;34m)\u001b[0m \u001b[0;34m+\u001b[0m \u001b[0mc\u001b[0m\u001b[0;34m.\u001b[0m\u001b[0mr\u001b[0m\u001b[0;34m;\u001b[0m\u001b[0;34m\u001b[0m\n",
       "\u001b[0;34m\u001b[0m      \u001b[0mz\u001b[0m\u001b[0;34m.\u001b[0m\u001b[0mi\u001b[0m \u001b[0;34m=\u001b[0m \u001b[0mz\u001b[0m\u001b[0;34m.\u001b[0m\u001b[0mr\u001b[0m \u001b[0;34m*\u001b[0m \u001b[0mz\u001b[0m\u001b[0;34m.\u001b[0m\u001b[0mi\u001b[0m \u001b[0;34m*\u001b[0m \u001b[0;36m2\u001b[0m \u001b[0;34m+\u001b[0m \u001b[0mc\u001b[0m\u001b[0;34m.\u001b[0m\u001b[0mi\u001b[0m\u001b[0;34m;\u001b[0m\u001b[0;34m\u001b[0m\n",
       "\u001b[0;34m\u001b[0m      \u001b[0mz\u001b[0m\u001b[0;34m.\u001b[0m\u001b[0mr\u001b[0m \u001b[0;34m=\u001b[0m \u001b[0mtemp\u001b[0m\u001b[0;34m;\u001b[0m\u001b[0;34m\u001b[0m\n",
       "\u001b[0;34m\u001b[0m      \u001b[0;32mif\u001b[0m \u001b[0;34m(\u001b[0m\u001b[0;34m(\u001b[0m\u001b[0mz\u001b[0m\u001b[0;34m.\u001b[0m\u001b[0mr\u001b[0m \u001b[0;34m*\u001b[0m \u001b[0mz\u001b[0m\u001b[0;34m.\u001b[0m\u001b[0mr\u001b[0m \u001b[0;34m+\u001b[0m \u001b[0mz\u001b[0m\u001b[0;34m.\u001b[0m\u001b[0mi\u001b[0m \u001b[0;34m*\u001b[0m \u001b[0mz\u001b[0m\u001b[0;34m.\u001b[0m\u001b[0mi\u001b[0m\u001b[0;34m)\u001b[0m \u001b[0;34m>\u001b[0m \u001b[0;36m4.0\u001b[0m\u001b[0;34m)\u001b[0m \u001b[0;34m{\u001b[0m\u001b[0;34m\u001b[0m\n",
       "\u001b[0;34m\u001b[0m         \u001b[0;34m//\u001b[0m\u001b[0mnumoutside\u001b[0m\u001b[0;34m+\u001b[0m\u001b[0;34m+\u001b[0m\u001b[0;34m;\u001b[0m\u001b[0;34m\u001b[0m\n",
       "\u001b[0;34m\u001b[0m         \u001b[0mnumoutside_per_thread\u001b[0m\u001b[0;34m[\u001b[0m\u001b[0mthread_id\u001b[0m\u001b[0;34m]\u001b[0m\u001b[0;34m+\u001b[0m\u001b[0;34m+\u001b[0m\u001b[0;34m;\u001b[0m\u001b[0;34m\u001b[0m\n",
       "\u001b[0;34m\u001b[0m         \u001b[0;32mbreak\u001b[0m\u001b[0;34m;\u001b[0m\u001b[0;34m\u001b[0m\n",
       "\u001b[0;34m\u001b[0m      \u001b[0;34m}\u001b[0m\u001b[0;34m\u001b[0m\n",
       "\u001b[0;34m\u001b[0m   \u001b[0;34m}\u001b[0m\u001b[0;34m\u001b[0m\n",
       "\u001b[0;34m\u001b[0m\u001b[0;34m}\u001b[0m\u001b[0;34m\u001b[0m\u001b[0;34m\u001b[0m\u001b[0m\n"
      ]
     },
     "metadata": {},
     "output_type": "display_data"
    }
   ],
   "source": [
    "%pycat mandel_parallel_false_sharing.c"
   ]
  },
  {
   "cell_type": "code",
   "execution_count": 80,
   "metadata": {},
   "outputs": [],
   "source": [
    "! rm run_parallel_false_sharing.sh.e*\n",
    "! rm run_parallel_false_sharing.sh.o*"
   ]
  },
  {
   "cell_type": "code",
   "execution_count": 81,
   "metadata": {},
   "outputs": [
    {
     "name": "stdout",
     "output_type": "stream",
     "text": [
      "Job has been submitted to Intel(R) DevCloud and will execute soon.\n",
      "\n",
      " If you do not see result in 60 seconds, please restart the Jupyter kernel:\n",
      " Kernel -> 'Restart Kernel and Clear All Outputs...' and then try again\n",
      "\n",
      "Job ID                    Name             User            Time Use S Queue\n",
      "------------------------- ---------------- --------------- -------- - -----\n",
      "2067885.v-qsvr-1           ...ub-singleuser u177183         00:00:48 R jupyterhub     \n",
      "2067998.v-qsvr-1           run_serial.sh    u177183         00:01:54 R batch          \n",
      "2068004.v-qsvr-1           ...l_critical.sh u177183         00:00:45 R batch          \n",
      "2068009.v-qsvr-1           ...lel_atomic.sh u177183         00:00:06 R batch          \n",
      "2068019.v-qsvr-1           ...se_sharing.sh u177183                0 Q batch          \n",
      "\n",
      "Waiting for Output ████████████████████████████████████████████████████████████\n",
      "\n",
      "TimeOut 60 seconds: Job is still queued for execution, check for output file later (run_parallel_false_sharing.sh.o2068019)\n",
      "\n"
     ]
    }
   ],
   "source": [
    "! chmod 755 run_parallel_false_sharing.sh;if [ -x \"$(command -v qsub)\" ]; then ./../q run_parallel_false_sharing.sh; else ./run_parallel_false_sharing.sh; fi"
   ]
  },
  {
   "cell_type": "code",
   "execution_count": 102,
   "metadata": {},
   "outputs": [
    {
     "name": "stdout",
     "output_type": "stream",
     "text": [
      "\n",
      "########################################################################\n",
      "#      Date:           Thu 01 Dec 2022 11:05:20 PM PST\n",
      "#    Job ID:           2068019.v-qsvr-1.aidevcloud\n",
      "#      User:           u177183\n",
      "# Resources:           cput=35:00:00,neednodes=1:batch:ppn=2,nodes=1:batch:ppn=2,walltime=06:00:00\n",
      "########################################################################\n",
      "\n",
      "## u177183 is running HW1 Problem 1 - Calculate Mandelbrot area - parallel false_sharing\n",
      "########## Compiling your parallel false_sharing code\n",
      "########## Executing your parallel false_sharing code\n",
      "Area of Mandlebrot set =   1.50763455 +/-   0.00030153\n",
      "Parallel-False-Sharing implementation - time: 210.445212 seconds, with 1 threads\n",
      "\n",
      "Area of Mandlebrot set =   0.82361228 +/-   0.00016472\n",
      "Parallel-False-Sharing implementation - time: 92.709365 seconds, with 2 threads\n",
      "\n",
      "Area of Mandlebrot set =   0.35176208 +/-   0.00007035\n",
      "Parallel-False-Sharing implementation - time: 31.740090 seconds, with 4 threads\n",
      "\n",
      "Area of Mandlebrot set =   0.21616178 +/-   0.00004323\n",
      "Parallel-False-Sharing implementation - time: 17.184248 seconds, with 8 threads\n",
      "\n",
      "Area of Mandlebrot set =   0.12513398 +/-   0.00002503\n",
      "Parallel-False-Sharing implementation - time: 10.108167 seconds, with 16 threads\n",
      "\n",
      "Area of Mandlebrot set =   0.07908390 +/-   0.00001582\n",
      "Parallel-False-Sharing implementation - time: 5.597405 seconds, with 24 threads\n",
      "\n",
      "(Correct answer should be around 1.506)\n",
      "########## Done parallel false_sharing\n",
      "\n",
      "########################################################################\n",
      "# End of output for job 2068019.v-qsvr-1.aidevcloud\n",
      "# Date: Thu 01 Dec 2022 11:11:34 PM PST\n",
      "########################################################################\n",
      "\n"
     ]
    }
   ],
   "source": [
    "! cat run_parallel_false_sharing.sh.o*"
   ]
  },
  {
   "cell_type": "markdown",
   "metadata": {
    "tags": []
   },
   "source": [
    "### mandel_parallel_padding.c"
   ]
  },
  {
   "cell_type": "code",
   "execution_count": 83,
   "metadata": {},
   "outputs": [
    {
     "data": {
      "text/plain": [
       "\u001b[0;34m/\u001b[0m\u001b[0;34m*\u001b[0m\u001b[0;34m\u001b[0m\n",
       "\u001b[0;34m\u001b[0m\u001b[0;34m**\u001b[0m  \u001b[0mPROGRAM\u001b[0m\u001b[0;34m:\u001b[0m \u001b[0mMandelbrot\u001b[0m \u001b[0marea\u001b[0m\u001b[0;34m\u001b[0m\n",
       "\u001b[0;34m\u001b[0m\u001b[0;34m**\u001b[0m\u001b[0;34m\u001b[0m\n",
       "\u001b[0;34m\u001b[0m\u001b[0;34m**\u001b[0m  \u001b[0mPURPOSE\u001b[0m\u001b[0;34m:\u001b[0m \u001b[0mProgram\u001b[0m \u001b[0mto\u001b[0m \u001b[0mcompute\u001b[0m \u001b[0mthe\u001b[0m \u001b[0marea\u001b[0m \u001b[0mof\u001b[0m \u001b[0ma\u001b[0m  \u001b[0mMandelbrot\u001b[0m \u001b[0mset\u001b[0m\u001b[0;34m.\u001b[0m\u001b[0;34m\u001b[0m\n",
       "\u001b[0;34m\u001b[0m\u001b[0;34m**\u001b[0m           \u001b[0mCorrect\u001b[0m \u001b[0manswer\u001b[0m \u001b[0mshould\u001b[0m \u001b[0mbe\u001b[0m \u001b[0maround\u001b[0m \u001b[0;36m1.510659\u001b[0m\u001b[0;34m.\u001b[0m\u001b[0;34m\u001b[0m\n",
       "\u001b[0;34m\u001b[0m\u001b[0;34m**\u001b[0m           \u001b[0mWARNING\u001b[0m\u001b[0;34m:\u001b[0m \u001b[0mthis\u001b[0m \u001b[0mprogram\u001b[0m \u001b[0mmay\u001b[0m \u001b[0mcontain\u001b[0m \u001b[0merrors\u001b[0m\u001b[0;34m\u001b[0m\n",
       "\u001b[0;34m\u001b[0m\u001b[0;34m**\u001b[0m\u001b[0;34m\u001b[0m\n",
       "\u001b[0;34m\u001b[0m\u001b[0;34m**\u001b[0m  \u001b[0mUSAGE\u001b[0m\u001b[0;34m:\u001b[0m   \u001b[0mProgram\u001b[0m \u001b[0mruns\u001b[0m \u001b[0mwithout\u001b[0m \u001b[0minput\u001b[0m \u001b[0;34m...\u001b[0m \u001b[0mjust\u001b[0m \u001b[0mrun\u001b[0m \u001b[0mthe\u001b[0m \u001b[0mexecutable\u001b[0m\u001b[0;34m\u001b[0m\n",
       "\u001b[0;34m\u001b[0m\u001b[0;34m**\u001b[0m            \u001b[0;34m\u001b[0m\n",
       "\u001b[0;34m\u001b[0m\u001b[0;34m**\u001b[0m  \u001b[0mHISTORY\u001b[0m\u001b[0;34m:\u001b[0m \u001b[0mWritten\u001b[0m\u001b[0;34m:\u001b[0m  \u001b[0;34m(\u001b[0m\u001b[0mMark\u001b[0m \u001b[0mBull\u001b[0m\u001b[0;34m,\u001b[0m \u001b[0mAugust\u001b[0m \u001b[0;36m2011\u001b[0m\u001b[0;34m)\u001b[0m\u001b[0;34m.\u001b[0m\u001b[0;34m\u001b[0m\n",
       "\u001b[0;34m\u001b[0m\u001b[0;34m**\u001b[0m           \u001b[0mChanged\u001b[0m \u001b[0;34m\"comples\"\u001b[0m \u001b[0mto\u001b[0m \u001b[0;34m\"d_comples\"\u001b[0m \u001b[0mto\u001b[0m \u001b[0mavoid\u001b[0m \u001b[0mcollsion\u001b[0m \u001b[0;32mwith\u001b[0m \u001b[0;34m\u001b[0m\n",
       "\u001b[0;34m\u001b[0m\u001b[0;34m**\u001b[0m           \u001b[0mmath\u001b[0m\u001b[0;34m.\u001b[0m\u001b[0mh\u001b[0m \u001b[0mcomplex\u001b[0m \u001b[0mtype\u001b[0m \u001b[0;34m(\u001b[0m\u001b[0mTim\u001b[0m \u001b[0mMattson\u001b[0m\u001b[0;34m,\u001b[0m \u001b[0mSeptember\u001b[0m \u001b[0;36m2011\u001b[0m\u001b[0;34m)\u001b[0m\u001b[0;34m\u001b[0m\n",
       "\u001b[0;34m\u001b[0m\u001b[0;34m*\u001b[0m\u001b[0;34m/\u001b[0m\u001b[0;34m\u001b[0m\n",
       "\u001b[0;34m\u001b[0m\u001b[0;34m\u001b[0m\n",
       "\u001b[0;34m\u001b[0m\u001b[0;31m#include <stdio.h>\u001b[0m\u001b[0;34m\u001b[0m\n",
       "\u001b[0;34m\u001b[0m\u001b[0;31m#include <stdlib.h>\u001b[0m\u001b[0;34m\u001b[0m\n",
       "\u001b[0;34m\u001b[0m\u001b[0;31m#include <math.h>\u001b[0m\u001b[0;34m\u001b[0m\n",
       "\u001b[0;34m\u001b[0m\u001b[0;31m#include <omp.h>\u001b[0m\u001b[0;34m\u001b[0m\n",
       "\u001b[0;34m\u001b[0m\u001b[0;34m\u001b[0m\n",
       "\u001b[0;34m\u001b[0m\u001b[0;31m# define NPOINTS 5000\u001b[0m\u001b[0;34m\u001b[0m\n",
       "\u001b[0;34m\u001b[0m\u001b[0;31m# define MAXITER 5000\u001b[0m\u001b[0;34m\u001b[0m\n",
       "\u001b[0;34m\u001b[0m\u001b[0;31m#define NELEMS(x)  (sizeof(x) / sizeof((x)[0]))\u001b[0m\u001b[0;34m\u001b[0m\n",
       "\u001b[0;34m\u001b[0m\u001b[0;31m# define PAD 8\u001b[0m\u001b[0;34m\u001b[0m\n",
       "\u001b[0;34m\u001b[0m\u001b[0;34m\u001b[0m\n",
       "\u001b[0;34m\u001b[0m\u001b[0mvoid\u001b[0m \u001b[0mtestpoint\u001b[0m\u001b[0;34m(\u001b[0m\u001b[0mint\u001b[0m\u001b[0;34m)\u001b[0m\u001b[0;34m;\u001b[0m\u001b[0;34m\u001b[0m\n",
       "\u001b[0;34m\u001b[0m\u001b[0;34m\u001b[0m\n",
       "\u001b[0;34m\u001b[0m\u001b[0mstruct\u001b[0m \u001b[0md_complex\u001b[0m \u001b[0;34m{\u001b[0m\u001b[0;34m\u001b[0m\n",
       "\u001b[0;34m\u001b[0m   \u001b[0mdouble\u001b[0m \u001b[0mr\u001b[0m\u001b[0;34m;\u001b[0m\u001b[0;34m\u001b[0m\n",
       "\u001b[0;34m\u001b[0m   \u001b[0mdouble\u001b[0m \u001b[0mi\u001b[0m\u001b[0;34m;\u001b[0m\u001b[0;34m\u001b[0m\n",
       "\u001b[0;34m\u001b[0m\u001b[0;34m}\u001b[0m\u001b[0;34m;\u001b[0m\u001b[0;34m\u001b[0m\n",
       "\u001b[0;34m\u001b[0m\u001b[0;34m\u001b[0m\n",
       "\u001b[0;34m\u001b[0m\u001b[0mstruct\u001b[0m \u001b[0md_complex\u001b[0m \u001b[0mc\u001b[0m\u001b[0;34m;\u001b[0m\u001b[0;34m\u001b[0m\n",
       "\u001b[0;34m\u001b[0m\u001b[0mint\u001b[0m \u001b[0mnumoutside\u001b[0m \u001b[0;34m=\u001b[0m \u001b[0;36m0\u001b[0m\u001b[0;34m;\u001b[0m\u001b[0;34m\u001b[0m\n",
       "\u001b[0;34m\u001b[0m\u001b[0mint\u001b[0m \u001b[0mnumoutside_per_thread\u001b[0m\u001b[0;34m[\u001b[0m\u001b[0;36m24\u001b[0m\u001b[0;34m]\u001b[0m\u001b[0;34m[\u001b[0m\u001b[0mPAD\u001b[0m\u001b[0;34m]\u001b[0m \u001b[0;34m=\u001b[0m \u001b[0;34m{\u001b[0m\u001b[0;36m0\u001b[0m\u001b[0;34m}\u001b[0m\u001b[0;34m;\u001b[0m\u001b[0;34m\u001b[0m\n",
       "\u001b[0;34m\u001b[0m\u001b[0;34m\u001b[0m\n",
       "\u001b[0;34m\u001b[0m\u001b[0mint\u001b[0m \u001b[0mmain\u001b[0m\u001b[0;34m(\u001b[0m\u001b[0;34m)\u001b[0m \u001b[0;34m{\u001b[0m\u001b[0;34m\u001b[0m\n",
       "\u001b[0;34m\u001b[0m    \u001b[0;34m\u001b[0m\n",
       "\u001b[0;34m\u001b[0m   \u001b[0mprintf\u001b[0m\u001b[0;34m(\u001b[0m\u001b[0;34m\"sizeof(numoutside_per_thread[0][0]) = %lu\\n\"\u001b[0m\u001b[0;34m,\u001b[0m \u001b[0msizeof\u001b[0m\u001b[0;34m(\u001b[0m\u001b[0mnumoutside_per_thread\u001b[0m\u001b[0;34m[\u001b[0m\u001b[0;36m0\u001b[0m\u001b[0;34m]\u001b[0m\u001b[0;34m[\u001b[0m\u001b[0;36m0\u001b[0m\u001b[0;34m]\u001b[0m\u001b[0;34m)\u001b[0m\u001b[0;34m)\u001b[0m\u001b[0;34m;\u001b[0m\u001b[0;34m\u001b[0m\n",
       "\u001b[0;34m\u001b[0m    \u001b[0;34m\u001b[0m\n",
       "\u001b[0;34m\u001b[0m   \u001b[0mint\u001b[0m \u001b[0mthreads\u001b[0m\u001b[0;34m[\u001b[0m\u001b[0;36m6\u001b[0m\u001b[0;34m]\u001b[0m \u001b[0;34m=\u001b[0m \u001b[0;34m{\u001b[0m\u001b[0;36m1\u001b[0m\u001b[0;34m,\u001b[0m\u001b[0;36m2\u001b[0m\u001b[0;34m,\u001b[0m\u001b[0;36m4\u001b[0m\u001b[0;34m,\u001b[0m\u001b[0;36m8\u001b[0m\u001b[0;34m,\u001b[0m\u001b[0;36m16\u001b[0m\u001b[0;34m,\u001b[0m\u001b[0;36m24\u001b[0m\u001b[0;34m}\u001b[0m\u001b[0;34m;\u001b[0m  \u001b[0;34m\u001b[0m\n",
       "\u001b[0;34m\u001b[0m   \u001b[0mint\u001b[0m \u001b[0mi\u001b[0m\u001b[0;34m,\u001b[0m \u001b[0mj\u001b[0m\u001b[0;34m;\u001b[0m\u001b[0;34m\u001b[0m\n",
       "\u001b[0;34m\u001b[0m   \u001b[0mdouble\u001b[0m \u001b[0marea\u001b[0m\u001b[0;34m,\u001b[0m \u001b[0merror\u001b[0m\u001b[0;34m,\u001b[0m \u001b[0meps\u001b[0m \u001b[0;34m=\u001b[0m \u001b[0;36m1.0e-5\u001b[0m\u001b[0;34m;\u001b[0m\u001b[0;34m\u001b[0m\n",
       "\u001b[0;34m\u001b[0m   \u001b[0mdouble\u001b[0m \u001b[0mstart_time\u001b[0m\u001b[0;34m,\u001b[0m \u001b[0mrun_time\u001b[0m\u001b[0;34m;\u001b[0m\u001b[0;34m\u001b[0m\n",
       "\u001b[0;34m\u001b[0m\u001b[0;34m\u001b[0m\n",
       "\u001b[0;34m\u001b[0m   \u001b[0;34m//\u001b[0m \u001b[0mTest\u001b[0m \u001b[0mvarying\u001b[0m \u001b[0mnumber\u001b[0m \u001b[0mof\u001b[0m \u001b[0mthreads\u001b[0m\u001b[0;34m:\u001b[0m \u001b[0;36m1\u001b[0m\u001b[0;34m,\u001b[0m\u001b[0;36m2\u001b[0m\u001b[0;34m,\u001b[0m\u001b[0;36m4\u001b[0m\u001b[0;34m,\u001b[0m\u001b[0;36m8\u001b[0m\u001b[0;34m,\u001b[0m\u001b[0;36m16\u001b[0m \u001b[0;32mand\u001b[0m \u001b[0;36m24\u001b[0m \u001b[0mthreads\u001b[0m\u001b[0;34m\u001b[0m\n",
       "\u001b[0;34m\u001b[0m   \u001b[0;32mfor\u001b[0m \u001b[0;34m(\u001b[0m\u001b[0mint\u001b[0m \u001b[0mk\u001b[0m\u001b[0;34m=\u001b[0m\u001b[0;36m0\u001b[0m\u001b[0;34m;\u001b[0m \u001b[0mk\u001b[0m\u001b[0;34m<\u001b[0m \u001b[0mNELEMS\u001b[0m\u001b[0;34m(\u001b[0m\u001b[0mthreads\u001b[0m\u001b[0;34m)\u001b[0m\u001b[0;34m;\u001b[0m \u001b[0mk\u001b[0m\u001b[0;34m+\u001b[0m\u001b[0;34m+\u001b[0m\u001b[0;34m)\u001b[0m \u001b[0;34m{\u001b[0m\u001b[0;34m\u001b[0m\n",
       "\u001b[0;34m\u001b[0m        \u001b[0mnumoutside\u001b[0m \u001b[0;34m=\u001b[0m \u001b[0;36m0\u001b[0m\u001b[0;34m;\u001b[0m\u001b[0;34m\u001b[0m\n",
       "\u001b[0;34m\u001b[0m        \u001b[0mint\u001b[0m \u001b[0mnum_of_threads\u001b[0m \u001b[0;34m=\u001b[0m \u001b[0mthreads\u001b[0m\u001b[0;34m[\u001b[0m\u001b[0mk\u001b[0m\u001b[0;34m]\u001b[0m\u001b[0;34m;\u001b[0m\u001b[0;34m\u001b[0m\n",
       "\u001b[0;34m\u001b[0m       \u001b[0;34m\u001b[0m\n",
       "\u001b[0;34m\u001b[0m        \u001b[0;32mfor\u001b[0m \u001b[0;34m(\u001b[0m\u001b[0mint\u001b[0m \u001b[0mkk\u001b[0m \u001b[0;34m=\u001b[0m \u001b[0;36m0\u001b[0m \u001b[0;34m;\u001b[0m \u001b[0mkk\u001b[0m \u001b[0;34m<\u001b[0m \u001b[0mnum_of_threads\u001b[0m \u001b[0;34m;\u001b[0m \u001b[0mkk\u001b[0m\u001b[0;34m+\u001b[0m\u001b[0;34m+\u001b[0m\u001b[0;34m)\u001b[0m\u001b[0;34m\u001b[0m\n",
       "\u001b[0;34m\u001b[0m            \u001b[0mnumoutside_per_thread\u001b[0m\u001b[0;34m[\u001b[0m\u001b[0mkk\u001b[0m\u001b[0;34m]\u001b[0m\u001b[0;34m[\u001b[0m\u001b[0;36m0\u001b[0m\u001b[0;34m]\u001b[0m \u001b[0;34m=\u001b[0m \u001b[0;36m0\u001b[0m\u001b[0;34m;\u001b[0m\u001b[0;34m\u001b[0m\n",
       "\u001b[0;34m\u001b[0m        \u001b[0;34m\u001b[0m\n",
       "\u001b[0;34m\u001b[0m        \u001b[0momp_set_num_threads\u001b[0m\u001b[0;34m(\u001b[0m\u001b[0mnum_of_threads\u001b[0m\u001b[0;34m)\u001b[0m\u001b[0;34m;\u001b[0m\u001b[0;34m\u001b[0m\n",
       "\u001b[0;34m\u001b[0m        \u001b[0mstart_time\u001b[0m \u001b[0;34m=\u001b[0m \u001b[0momp_get_wtime\u001b[0m\u001b[0;34m(\u001b[0m\u001b[0;34m)\u001b[0m\u001b[0;34m;\u001b[0m\u001b[0;34m\u001b[0m\n",
       "\u001b[0;34m\u001b[0m       \u001b[0;34m\u001b[0m\n",
       "\u001b[0;34m\u001b[0m       \u001b[0;34m//\u001b[0m \u001b[0mLoop\u001b[0m \u001b[0mover\u001b[0m \u001b[0mgrid\u001b[0m \u001b[0mof\u001b[0m \u001b[0mpoints\u001b[0m \u001b[0;32min\u001b[0m \u001b[0mthe\u001b[0m \u001b[0mcomplex\u001b[0m \u001b[0mplane\u001b[0m \u001b[0mwhich\u001b[0m \u001b[0mcontains\u001b[0m \u001b[0;34m\u001b[0m\n",
       "\u001b[0;34m\u001b[0m       \u001b[0;34m//\u001b[0m \u001b[0mthe\u001b[0m \u001b[0mMandelbrot\u001b[0m \u001b[0mset\u001b[0m\u001b[0;34m,\u001b[0m \u001b[0mtest\u001b[0m \u001b[0meach\u001b[0m \u001b[0mpoint\u001b[0m \u001b[0mto\u001b[0m \u001b[0msee\u001b[0m \u001b[0mwhether\u001b[0m \u001b[0mit\u001b[0m \u001b[0;32mis\u001b[0m \u001b[0;34m\u001b[0m\n",
       "\u001b[0;34m\u001b[0m       \u001b[0;34m//\u001b[0m \u001b[0minside\u001b[0m \u001b[0;32mor\u001b[0m \u001b[0moutside\u001b[0m \u001b[0mthe\u001b[0m \u001b[0mset\u001b[0m\u001b[0;34m\u001b[0m\n",
       "\u001b[0;34m\u001b[0m       \u001b[0;31m#pragma omp parallel for collapse(2)\u001b[0m\u001b[0;34m\u001b[0m\n",
       "\u001b[0;34m\u001b[0m       \u001b[0;32mfor\u001b[0m \u001b[0;34m(\u001b[0m\u001b[0mi\u001b[0m \u001b[0;34m=\u001b[0m \u001b[0;36m0\u001b[0m\u001b[0;34m;\u001b[0m \u001b[0mi\u001b[0m \u001b[0;34m<\u001b[0m \u001b[0mNPOINTS\u001b[0m\u001b[0;34m;\u001b[0m \u001b[0mi\u001b[0m\u001b[0;34m+\u001b[0m\u001b[0;34m+\u001b[0m\u001b[0;34m)\u001b[0m \u001b[0;34m{\u001b[0m\u001b[0;34m\u001b[0m\n",
       "\u001b[0;34m\u001b[0m          \u001b[0;32mfor\u001b[0m \u001b[0;34m(\u001b[0m\u001b[0mj\u001b[0m \u001b[0;34m=\u001b[0m \u001b[0;36m0\u001b[0m\u001b[0;34m;\u001b[0m \u001b[0mj\u001b[0m \u001b[0;34m<\u001b[0m \u001b[0mNPOINTS\u001b[0m\u001b[0;34m;\u001b[0m \u001b[0mj\u001b[0m\u001b[0;34m+\u001b[0m\u001b[0;34m+\u001b[0m\u001b[0;34m)\u001b[0m \u001b[0;34m{\u001b[0m\u001b[0;34m\u001b[0m\n",
       "\u001b[0;34m\u001b[0m             \u001b[0mc\u001b[0m\u001b[0;34m.\u001b[0m\u001b[0mr\u001b[0m \u001b[0;34m=\u001b[0m \u001b[0;34m-\u001b[0m\u001b[0;36m2.0\u001b[0m \u001b[0;34m+\u001b[0m \u001b[0;36m2.5\u001b[0m \u001b[0;34m*\u001b[0m \u001b[0;34m(\u001b[0m\u001b[0mdouble\u001b[0m\u001b[0;34m)\u001b[0m\u001b[0;34m(\u001b[0m\u001b[0mi\u001b[0m\u001b[0;34m)\u001b[0m \u001b[0;34m/\u001b[0m \u001b[0;34m(\u001b[0m\u001b[0mdouble\u001b[0m\u001b[0;34m)\u001b[0m\u001b[0;34m(\u001b[0m\u001b[0mNPOINTS\u001b[0m\u001b[0;34m)\u001b[0m \u001b[0;34m+\u001b[0m \u001b[0meps\u001b[0m\u001b[0;34m;\u001b[0m\u001b[0;34m\u001b[0m\n",
       "\u001b[0;34m\u001b[0m             \u001b[0mc\u001b[0m\u001b[0;34m.\u001b[0m\u001b[0mi\u001b[0m \u001b[0;34m=\u001b[0m \u001b[0;36m1.125\u001b[0m \u001b[0;34m*\u001b[0m \u001b[0;34m(\u001b[0m\u001b[0mdouble\u001b[0m\u001b[0;34m)\u001b[0m\u001b[0;34m(\u001b[0m\u001b[0mj\u001b[0m\u001b[0;34m)\u001b[0m \u001b[0;34m/\u001b[0m \u001b[0;34m(\u001b[0m\u001b[0mdouble\u001b[0m\u001b[0;34m)\u001b[0m\u001b[0;34m(\u001b[0m\u001b[0mNPOINTS\u001b[0m\u001b[0;34m)\u001b[0m \u001b[0;34m+\u001b[0m \u001b[0meps\u001b[0m\u001b[0;34m;\u001b[0m\u001b[0;34m\u001b[0m\n",
       "\u001b[0;34m\u001b[0m             \u001b[0mint\u001b[0m \u001b[0mthread_id\u001b[0m \u001b[0;34m=\u001b[0m \u001b[0momp_get_thread_num\u001b[0m\u001b[0;34m(\u001b[0m\u001b[0;34m)\u001b[0m\u001b[0;34m;\u001b[0m\u001b[0;34m\u001b[0m\n",
       "\u001b[0;34m\u001b[0m             \u001b[0mtestpoint\u001b[0m\u001b[0;34m(\u001b[0m\u001b[0mthread_id\u001b[0m\u001b[0;34m)\u001b[0m\u001b[0;34m;\u001b[0m\u001b[0;34m\u001b[0m\n",
       "\u001b[0;34m\u001b[0m          \u001b[0;34m}\u001b[0m\u001b[0;34m\u001b[0m\n",
       "\u001b[0;34m\u001b[0m       \u001b[0;34m}\u001b[0m\u001b[0;34m\u001b[0m\n",
       "\u001b[0;34m\u001b[0m       \u001b[0;34m\u001b[0m\n",
       "\u001b[0;34m\u001b[0m       \u001b[0;32mfor\u001b[0m \u001b[0;34m(\u001b[0m\u001b[0mint\u001b[0m \u001b[0mkk\u001b[0m \u001b[0;34m=\u001b[0m \u001b[0;36m0\u001b[0m \u001b[0;34m;\u001b[0m \u001b[0mkk\u001b[0m \u001b[0;34m<\u001b[0m \u001b[0mnum_of_threads\u001b[0m \u001b[0;34m;\u001b[0m \u001b[0mkk\u001b[0m\u001b[0;34m+\u001b[0m\u001b[0;34m+\u001b[0m\u001b[0;34m)\u001b[0m\u001b[0;34m\u001b[0m\n",
       "\u001b[0;34m\u001b[0m            \u001b[0mnumoutside\u001b[0m \u001b[0;34m+=\u001b[0m \u001b[0mnumoutside_per_thread\u001b[0m\u001b[0;34m[\u001b[0m\u001b[0mkk\u001b[0m\u001b[0;34m]\u001b[0m\u001b[0;34m[\u001b[0m\u001b[0;36m0\u001b[0m\u001b[0;34m]\u001b[0m\u001b[0;34m;\u001b[0m\u001b[0;34m\u001b[0m\n",
       "\u001b[0;34m\u001b[0m       \u001b[0;34m\u001b[0m\n",
       "\u001b[0;34m\u001b[0m       \u001b[0mrun_time\u001b[0m \u001b[0;34m=\u001b[0m \u001b[0momp_get_wtime\u001b[0m\u001b[0;34m(\u001b[0m\u001b[0;34m)\u001b[0m \u001b[0;34m-\u001b[0m \u001b[0mstart_time\u001b[0m\u001b[0;34m;\u001b[0m\u001b[0;34m\u001b[0m\n",
       "\u001b[0;34m\u001b[0m       \u001b[0;34m//\u001b[0m \u001b[0mCalculate\u001b[0m \u001b[0marea\u001b[0m \u001b[0mof\u001b[0m \u001b[0mset\u001b[0m \u001b[0;32mand\u001b[0m \u001b[0merror\u001b[0m \u001b[0mestimate\u001b[0m \u001b[0;32mand\u001b[0m \u001b[0moutput\u001b[0m \u001b[0mthe\u001b[0m \u001b[0mresults\u001b[0m\u001b[0;34m\u001b[0m\n",
       "\u001b[0;34m\u001b[0m       \u001b[0marea\u001b[0m \u001b[0;34m=\u001b[0m \u001b[0;36m2.0\u001b[0m \u001b[0;34m*\u001b[0m \u001b[0;36m2.5\u001b[0m \u001b[0;34m*\u001b[0m \u001b[0;36m1.125\u001b[0m \u001b[0;34m*\u001b[0m \u001b[0;34m(\u001b[0m\u001b[0mdouble\u001b[0m\u001b[0;34m)\u001b[0m\u001b[0;34m(\u001b[0m\u001b[0mNPOINTS\u001b[0m \u001b[0;34m*\u001b[0m \u001b[0mNPOINTS\u001b[0m \u001b[0;34m-\u001b[0m \u001b[0mnumoutside\u001b[0m\u001b[0;34m)\u001b[0m \u001b[0;34m\u001b[0m\n",
       "\u001b[0;34m\u001b[0m             \u001b[0;34m/\u001b[0m \u001b[0;34m(\u001b[0m\u001b[0mdouble\u001b[0m\u001b[0;34m)\u001b[0m\u001b[0;34m(\u001b[0m\u001b[0mNPOINTS\u001b[0m \u001b[0;34m*\u001b[0m \u001b[0mNPOINTS\u001b[0m\u001b[0;34m)\u001b[0m\u001b[0;34m;\u001b[0m\u001b[0;34m\u001b[0m\n",
       "\u001b[0;34m\u001b[0m       \u001b[0merror\u001b[0m \u001b[0;34m=\u001b[0m \u001b[0marea\u001b[0m \u001b[0;34m/\u001b[0m \u001b[0;34m(\u001b[0m\u001b[0mdouble\u001b[0m\u001b[0;34m)\u001b[0m\u001b[0mNPOINTS\u001b[0m\u001b[0;34m;\u001b[0m\u001b[0;34m\u001b[0m\n",
       "\u001b[0;34m\u001b[0m       \u001b[0mprintf\u001b[0m\u001b[0;34m(\u001b[0m\u001b[0;34m\"Area of Mandlebrot set = %12.8f +/- %12.8f\\n\"\u001b[0m\u001b[0;34m,\u001b[0m\u001b[0marea\u001b[0m\u001b[0;34m,\u001b[0m\u001b[0merror\u001b[0m\u001b[0;34m)\u001b[0m\u001b[0;34m;\u001b[0m\u001b[0;34m\u001b[0m\n",
       "\u001b[0;34m\u001b[0m       \u001b[0mprintf\u001b[0m\u001b[0;34m(\u001b[0m\u001b[0;34m\"Parallel-08-Padding implementation - time: %f seconds, with %d threads\\n\\n\"\u001b[0m\u001b[0;34m,\u001b[0m\u001b[0mrun_time\u001b[0m\u001b[0;34m,\u001b[0m \u001b[0mnum_of_threads\u001b[0m\u001b[0;34m)\u001b[0m\u001b[0;34m;\u001b[0m\u001b[0;34m\u001b[0m\n",
       "\u001b[0;34m\u001b[0m   \u001b[0;34m}\u001b[0m\u001b[0;34m\u001b[0m\n",
       "\u001b[0;34m\u001b[0m   \u001b[0mprintf\u001b[0m\u001b[0;34m(\u001b[0m\u001b[0;34m\"(Correct answer should be around 1.506)\\n\"\u001b[0m\u001b[0;34m)\u001b[0m\u001b[0;34m;\u001b[0m\u001b[0;34m\u001b[0m\n",
       "\u001b[0;34m\u001b[0m\u001b[0;34m}\u001b[0m\u001b[0;34m\u001b[0m\n",
       "\u001b[0;34m\u001b[0m\u001b[0;34m\u001b[0m\n",
       "\u001b[0;34m\u001b[0m\u001b[0mvoid\u001b[0m \u001b[0mtestpoint\u001b[0m\u001b[0;34m(\u001b[0m\u001b[0mint\u001b[0m \u001b[0mthread_id\u001b[0m\u001b[0;34m)\u001b[0m \u001b[0;34m{\u001b[0m\u001b[0;34m\u001b[0m\n",
       "\u001b[0;34m\u001b[0m\u001b[0;34m\u001b[0m\n",
       "\u001b[0;34m\u001b[0m   \u001b[0;34m//\u001b[0m \u001b[0mDoes\u001b[0m \u001b[0mthe\u001b[0m \u001b[0miteration\u001b[0m \u001b[0mz\u001b[0m\u001b[0;34m=\u001b[0m\u001b[0mz\u001b[0m\u001b[0;34m*\u001b[0m\u001b[0mz\u001b[0m\u001b[0;34m+\u001b[0m\u001b[0mc\u001b[0m\u001b[0;34m,\u001b[0m \u001b[0muntil\u001b[0m \u001b[0;34m|\u001b[0m\u001b[0mz\u001b[0m\u001b[0;34m|\u001b[0m \u001b[0;34m>\u001b[0m \u001b[0;36m2\u001b[0m \u001b[0mwhen\u001b[0m \u001b[0mpoint\u001b[0m \u001b[0;32mis\u001b[0m \u001b[0mknown\u001b[0m \u001b[0mto\u001b[0m \u001b[0;34m\u001b[0m\n",
       "\u001b[0;34m\u001b[0m   \u001b[0;34m//\u001b[0m \u001b[0mbe\u001b[0m \u001b[0moutside\u001b[0m \u001b[0mset\u001b[0m\u001b[0;34m.\u001b[0m \u001b[0mIf\u001b[0m \u001b[0mloop\u001b[0m \u001b[0mcount\u001b[0m \u001b[0mreaches\u001b[0m \u001b[0mMAXITER\u001b[0m\u001b[0;34m,\u001b[0m \u001b[0mpoint\u001b[0m \u001b[0;32mis\u001b[0m \u001b[0mconsidered\u001b[0m \u001b[0;34m\u001b[0m\n",
       "\u001b[0;34m\u001b[0m   \u001b[0;34m//\u001b[0m \u001b[0mto\u001b[0m \u001b[0mbe\u001b[0m \u001b[0minside\u001b[0m \u001b[0mthe\u001b[0m \u001b[0mset\u001b[0m\u001b[0;34m.\u001b[0m\u001b[0;34m\u001b[0m\n",
       "\u001b[0;34m\u001b[0m\u001b[0;34m\u001b[0m\n",
       "\u001b[0;34m\u001b[0m   \u001b[0mstruct\u001b[0m \u001b[0md_complex\u001b[0m \u001b[0mz\u001b[0m\u001b[0;34m;\u001b[0m\u001b[0;34m\u001b[0m\n",
       "\u001b[0;34m\u001b[0m   \u001b[0mint\u001b[0m \u001b[0miter\u001b[0m\u001b[0;34m;\u001b[0m\u001b[0;34m\u001b[0m\n",
       "\u001b[0;34m\u001b[0m   \u001b[0mdouble\u001b[0m \u001b[0mtemp\u001b[0m\u001b[0;34m;\u001b[0m\u001b[0;34m\u001b[0m\n",
       "\u001b[0;34m\u001b[0m\u001b[0;34m\u001b[0m\n",
       "\u001b[0;34m\u001b[0m   \u001b[0mz\u001b[0m \u001b[0;34m=\u001b[0m \u001b[0mc\u001b[0m\u001b[0;34m;\u001b[0m\u001b[0;34m\u001b[0m\n",
       "\u001b[0;34m\u001b[0m   \u001b[0;32mfor\u001b[0m \u001b[0;34m(\u001b[0m\u001b[0miter\u001b[0m \u001b[0;34m=\u001b[0m \u001b[0;36m0\u001b[0m\u001b[0;34m;\u001b[0m \u001b[0miter\u001b[0m \u001b[0;34m<\u001b[0m \u001b[0mMAXITER\u001b[0m\u001b[0;34m;\u001b[0m \u001b[0miter\u001b[0m\u001b[0;34m+\u001b[0m\u001b[0;34m+\u001b[0m\u001b[0;34m)\u001b[0m \u001b[0;34m{\u001b[0m\u001b[0;34m\u001b[0m\n",
       "\u001b[0;34m\u001b[0m      \u001b[0mtemp\u001b[0m \u001b[0;34m=\u001b[0m \u001b[0;34m(\u001b[0m\u001b[0mz\u001b[0m\u001b[0;34m.\u001b[0m\u001b[0mr\u001b[0m \u001b[0;34m*\u001b[0m \u001b[0mz\u001b[0m\u001b[0;34m.\u001b[0m\u001b[0mr\u001b[0m\u001b[0;34m)\u001b[0m \u001b[0;34m-\u001b[0m \u001b[0;34m(\u001b[0m\u001b[0mz\u001b[0m\u001b[0;34m.\u001b[0m\u001b[0mi\u001b[0m \u001b[0;34m*\u001b[0m \u001b[0mz\u001b[0m\u001b[0;34m.\u001b[0m\u001b[0mi\u001b[0m\u001b[0;34m)\u001b[0m \u001b[0;34m+\u001b[0m \u001b[0mc\u001b[0m\u001b[0;34m.\u001b[0m\u001b[0mr\u001b[0m\u001b[0;34m;\u001b[0m\u001b[0;34m\u001b[0m\n",
       "\u001b[0;34m\u001b[0m      \u001b[0mz\u001b[0m\u001b[0;34m.\u001b[0m\u001b[0mi\u001b[0m \u001b[0;34m=\u001b[0m \u001b[0mz\u001b[0m\u001b[0;34m.\u001b[0m\u001b[0mr\u001b[0m \u001b[0;34m*\u001b[0m \u001b[0mz\u001b[0m\u001b[0;34m.\u001b[0m\u001b[0mi\u001b[0m \u001b[0;34m*\u001b[0m \u001b[0;36m2\u001b[0m \u001b[0;34m+\u001b[0m \u001b[0mc\u001b[0m\u001b[0;34m.\u001b[0m\u001b[0mi\u001b[0m\u001b[0;34m;\u001b[0m\u001b[0;34m\u001b[0m\n",
       "\u001b[0;34m\u001b[0m      \u001b[0mz\u001b[0m\u001b[0;34m.\u001b[0m\u001b[0mr\u001b[0m \u001b[0;34m=\u001b[0m \u001b[0mtemp\u001b[0m\u001b[0;34m;\u001b[0m\u001b[0;34m\u001b[0m\n",
       "\u001b[0;34m\u001b[0m      \u001b[0;32mif\u001b[0m \u001b[0;34m(\u001b[0m\u001b[0;34m(\u001b[0m\u001b[0mz\u001b[0m\u001b[0;34m.\u001b[0m\u001b[0mr\u001b[0m \u001b[0;34m*\u001b[0m \u001b[0mz\u001b[0m\u001b[0;34m.\u001b[0m\u001b[0mr\u001b[0m \u001b[0;34m+\u001b[0m \u001b[0mz\u001b[0m\u001b[0;34m.\u001b[0m\u001b[0mi\u001b[0m \u001b[0;34m*\u001b[0m \u001b[0mz\u001b[0m\u001b[0;34m.\u001b[0m\u001b[0mi\u001b[0m\u001b[0;34m)\u001b[0m \u001b[0;34m>\u001b[0m \u001b[0;36m4.0\u001b[0m\u001b[0;34m)\u001b[0m \u001b[0;34m{\u001b[0m\u001b[0;34m\u001b[0m\n",
       "\u001b[0;34m\u001b[0m         \u001b[0mnumoutside_per_thread\u001b[0m\u001b[0;34m[\u001b[0m\u001b[0mthread_id\u001b[0m\u001b[0;34m]\u001b[0m\u001b[0;34m[\u001b[0m\u001b[0;36m0\u001b[0m\u001b[0;34m]\u001b[0m\u001b[0;34m+\u001b[0m\u001b[0;34m+\u001b[0m\u001b[0;34m;\u001b[0m\u001b[0;34m\u001b[0m\n",
       "\u001b[0;34m\u001b[0m         \u001b[0;32mbreak\u001b[0m\u001b[0;34m;\u001b[0m\u001b[0;34m\u001b[0m\n",
       "\u001b[0;34m\u001b[0m      \u001b[0;34m}\u001b[0m\u001b[0;34m\u001b[0m\n",
       "\u001b[0;34m\u001b[0m   \u001b[0;34m}\u001b[0m\u001b[0;34m\u001b[0m\n",
       "\u001b[0;34m\u001b[0m\u001b[0;34m}\u001b[0m\u001b[0;34m\u001b[0m\u001b[0;34m\u001b[0m\u001b[0m\n"
      ]
     },
     "metadata": {},
     "output_type": "display_data"
    }
   ],
   "source": [
    "%pycat mandel_parallel_padding_08pad.c"
   ]
  },
  {
   "cell_type": "code",
   "execution_count": 84,
   "metadata": {},
   "outputs": [],
   "source": [
    "! rm run_parallel_padding_08pad.sh.e*\n",
    "! rm run_parallel_padding_08pad.sh.o*"
   ]
  },
  {
   "cell_type": "code",
   "execution_count": 85,
   "metadata": {},
   "outputs": [
    {
     "name": "stdout",
     "output_type": "stream",
     "text": [
      "Job has been submitted to Intel(R) DevCloud and will execute soon.\n",
      "\n",
      " If you do not see result in 60 seconds, please restart the Jupyter kernel:\n",
      " Kernel -> 'Restart Kernel and Clear All Outputs...' and then try again\n",
      "\n",
      "Job ID                    Name             User            Time Use S Queue\n",
      "------------------------- ---------------- --------------- -------- - -----\n",
      "2067885.v-qsvr-1           ...ub-singleuser u177183         00:00:50 R jupyterhub     \n",
      "2068004.v-qsvr-1           ...l_critical.sh u177183         00:02:15 R batch          \n",
      "2068009.v-qsvr-1           ...lel_atomic.sh u177183         00:01:36 R batch          \n",
      "2068019.v-qsvr-1           ...se_sharing.sh u177183                0 R batch          \n",
      "2068030.v-qsvr-1           ...ding_08pad.sh u177183                0 Q batch          \n",
      "\n",
      "Waiting for Output ████████████████████████████████████████████████████████████\n",
      "\n",
      "TimeOut 60 seconds: Job is still queued for execution, check for output file later (run_parallel_padding_08pad.sh.o2068030)\n",
      "\n"
     ]
    }
   ],
   "source": [
    "! chmod 755 run_parallel_padding_08pad.sh;if [ -x \"$(command -v qsub)\" ]; then ./../q run_parallel_padding_08pad.sh; else ./run_parallel_padding_08pad.sh; fi"
   ]
  },
  {
   "cell_type": "code",
   "execution_count": 103,
   "metadata": {},
   "outputs": [
    {
     "name": "stdout",
     "output_type": "stream",
     "text": [
      "\n",
      "########################################################################\n",
      "#      Date:           Thu 01 Dec 2022 11:06:21 PM PST\n",
      "#    Job ID:           2068030.v-qsvr-1.aidevcloud\n",
      "#      User:           u177183\n",
      "# Resources:           cput=35:00:00,neednodes=1:batch:ppn=2,nodes=1:batch:ppn=2,walltime=06:00:00\n",
      "########################################################################\n",
      "\n",
      "## u177183 is running HW1 Problem 1 - Calculate Mandelbrot area - parallel padding(PAD=08)\n",
      "########## Compiling your parallel padding code\n",
      "########## Executing your parallel padding code\n",
      "sizeof(numoutside_per_thread[0][0]) = 4\n",
      "Area of Mandlebrot set =   1.50763455 +/-   0.00030153\n",
      "Parallel-08-Padding implementation - time: 210.492800 seconds, with 1 threads\n",
      "\n",
      "Area of Mandlebrot set =   0.87429128 +/-   0.00017486\n",
      "Parallel-08-Padding implementation - time: 99.303222 seconds, with 2 threads\n",
      "\n",
      "Area of Mandlebrot set =   0.29035868 +/-   0.00005807\n",
      "Parallel-08-Padding implementation - time: 25.444996 seconds, with 4 threads\n",
      "\n",
      "Area of Mandlebrot set =   0.24085395 +/-   0.00004817\n",
      "Parallel-08-Padding implementation - time: 18.273867 seconds, with 8 threads\n",
      "\n",
      "Area of Mandlebrot set =   0.16024635 +/-   0.00003205\n",
      "Parallel-08-Padding implementation - time: 10.551172 seconds, with 16 threads\n",
      "\n",
      "Area of Mandlebrot set =   0.08582130 +/-   0.00001716\n",
      "Parallel-08-Padding implementation - time: 5.656125 seconds, with 24 threads\n",
      "\n",
      "(Correct answer should be around 1.506)\n",
      "########## Done parallel padding\n",
      "\n",
      "########################################################################\n",
      "# End of output for job 2068030.v-qsvr-1.aidevcloud\n",
      "# Date: Thu 01 Dec 2022 11:12:38 PM PST\n",
      "########################################################################\n",
      "\n"
     ]
    }
   ],
   "source": [
    "! cat run_parallel_padding_08pad.sh.o*"
   ]
  },
  {
   "cell_type": "code",
   "execution_count": 87,
   "metadata": {},
   "outputs": [],
   "source": [
    "! rm run_parallel_padding_16pad.sh.e*\n",
    "! rm run_parallel_padding_16pad.sh.o*"
   ]
  },
  {
   "cell_type": "code",
   "execution_count": 88,
   "metadata": {},
   "outputs": [
    {
     "name": "stdout",
     "output_type": "stream",
     "text": [
      "Job has been submitted to Intel(R) DevCloud and will execute soon.\n",
      "\n",
      " If you do not see result in 60 seconds, please restart the Jupyter kernel:\n",
      " Kernel -> 'Restart Kernel and Clear All Outputs...' and then try again\n",
      "\n",
      "Job ID                    Name             User            Time Use S Queue\n",
      "------------------------- ---------------- --------------- -------- - -----\n",
      "2067885.v-qsvr-1           ...ub-singleuser u177183         00:00:54 R jupyterhub     \n",
      "2068004.v-qsvr-1           ...l_critical.sh u177183         00:03:00 R batch          \n",
      "2068009.v-qsvr-1           ...lel_atomic.sh u177183         00:02:21 R batch          \n",
      "2068019.v-qsvr-1           ...se_sharing.sh u177183         00:01:12 R batch          \n",
      "2068030.v-qsvr-1           ...ding_08pad.sh u177183         00:00:04 R batch          \n",
      "2068040.v-qsvr-1           ...ding_16pad.sh u177183                0 Q batch          \n",
      "\n",
      "Waiting for Output ████████████████████████████████████████████████████████████\n",
      "\n",
      "TimeOut 60 seconds: Job is still queued for execution, check for output file later (run_parallel_padding_16pad.sh.o2068040)\n",
      "\n"
     ]
    }
   ],
   "source": [
    "! chmod 755 run_parallel_padding_16pad.sh;if [ -x \"$(command -v qsub)\" ]; then ./../q run_parallel_padding_16pad.sh; else ./run_parallel_padding_16pad.sh; fi"
   ]
  },
  {
   "cell_type": "code",
   "execution_count": 104,
   "metadata": {},
   "outputs": [
    {
     "name": "stdout",
     "output_type": "stream",
     "text": [
      "\n",
      "########################################################################\n",
      "#      Date:           Thu 01 Dec 2022 11:07:22 PM PST\n",
      "#    Job ID:           2068040.v-qsvr-1.aidevcloud\n",
      "#      User:           u177183\n",
      "# Resources:           cput=35:00:00,neednodes=1:batch:ppn=2,nodes=1:batch:ppn=2,walltime=06:00:00\n",
      "########################################################################\n",
      "\n",
      "## u177183 is running HW1 Problem 1 - Calculate Mandelbrot area - parallel padding(PAD=16)\n",
      "########## Compiling your parallel padding code\n",
      "########## Executing your parallel padding code\n",
      "sizeof(numoutside_per_thread[0][0]) = 4\n",
      "Area of Mandlebrot set =   1.50763455 +/-   0.00030153\n",
      "Parallel-16-Padding implementation - time: 210.432845 seconds, with 1 threads\n",
      "\n",
      "Area of Mandlebrot set =   1.07651272 +/-   0.00021530\n",
      "Parallel-16-Padding implementation - time: 106.327803 seconds, with 2 threads\n",
      "\n",
      "Area of Mandlebrot set =   0.60679440 +/-   0.00012136\n",
      "Parallel-16-Padding implementation - time: 44.824191 seconds, with 4 threads\n",
      "\n",
      "Area of Mandlebrot set =   0.33892380 +/-   0.00006778\n",
      "Parallel-16-Padding implementation - time: 22.919591 seconds, with 8 threads\n",
      "\n",
      "Area of Mandlebrot set =   0.18636795 +/-   0.00003727\n",
      "Parallel-16-Padding implementation - time: 13.119847 seconds, with 16 threads\n",
      "\n",
      "Area of Mandlebrot set =   0.10030522 +/-   0.00002006\n",
      "Parallel-16-Padding implementation - time: 7.836482 seconds, with 24 threads\n",
      "\n",
      "(Correct answer should be around 1.506)\n",
      "########## Done parallel padding\n",
      "\n",
      "########################################################################\n",
      "# End of output for job 2068040.v-qsvr-1.aidevcloud\n",
      "# Date: Thu 01 Dec 2022 11:14:14 PM PST\n",
      "########################################################################\n",
      "\n"
     ]
    }
   ],
   "source": [
    "! cat run_parallel_padding_16pad.sh.o*"
   ]
  },
  {
   "cell_type": "markdown",
   "metadata": {
    "tags": []
   },
   "source": [
    "### mandel_parallel_reduction.c"
   ]
  },
  {
   "cell_type": "code",
   "execution_count": 90,
   "metadata": {},
   "outputs": [
    {
     "data": {
      "text/plain": [
       "\u001b[0;34m/\u001b[0m\u001b[0;34m*\u001b[0m\u001b[0;34m\u001b[0m\n",
       "\u001b[0;34m\u001b[0m\u001b[0;34m**\u001b[0m  \u001b[0mPROGRAM\u001b[0m\u001b[0;34m:\u001b[0m \u001b[0mMandelbrot\u001b[0m \u001b[0marea\u001b[0m\u001b[0;34m\u001b[0m\n",
       "\u001b[0;34m\u001b[0m\u001b[0;34m**\u001b[0m\u001b[0;34m\u001b[0m\n",
       "\u001b[0;34m\u001b[0m\u001b[0;34m**\u001b[0m  \u001b[0mPURPOSE\u001b[0m\u001b[0;34m:\u001b[0m \u001b[0mProgram\u001b[0m \u001b[0mto\u001b[0m \u001b[0mcompute\u001b[0m \u001b[0mthe\u001b[0m \u001b[0marea\u001b[0m \u001b[0mof\u001b[0m \u001b[0ma\u001b[0m  \u001b[0mMandelbrot\u001b[0m \u001b[0mset\u001b[0m\u001b[0;34m.\u001b[0m\u001b[0;34m\u001b[0m\n",
       "\u001b[0;34m\u001b[0m\u001b[0;34m**\u001b[0m           \u001b[0mCorrect\u001b[0m \u001b[0manswer\u001b[0m \u001b[0mshould\u001b[0m \u001b[0mbe\u001b[0m \u001b[0maround\u001b[0m \u001b[0;36m1.510659\u001b[0m\u001b[0;34m.\u001b[0m\u001b[0;34m\u001b[0m\n",
       "\u001b[0;34m\u001b[0m\u001b[0;34m**\u001b[0m           \u001b[0mWARNING\u001b[0m\u001b[0;34m:\u001b[0m \u001b[0mthis\u001b[0m \u001b[0mprogram\u001b[0m \u001b[0mmay\u001b[0m \u001b[0mcontain\u001b[0m \u001b[0merrors\u001b[0m\u001b[0;34m\u001b[0m\n",
       "\u001b[0;34m\u001b[0m\u001b[0;34m**\u001b[0m\u001b[0;34m\u001b[0m\n",
       "\u001b[0;34m\u001b[0m\u001b[0;34m**\u001b[0m  \u001b[0mUSAGE\u001b[0m\u001b[0;34m:\u001b[0m   \u001b[0mProgram\u001b[0m \u001b[0mruns\u001b[0m \u001b[0mwithout\u001b[0m \u001b[0minput\u001b[0m \u001b[0;34m...\u001b[0m \u001b[0mjust\u001b[0m \u001b[0mrun\u001b[0m \u001b[0mthe\u001b[0m \u001b[0mexecutable\u001b[0m\u001b[0;34m\u001b[0m\n",
       "\u001b[0;34m\u001b[0m\u001b[0;34m**\u001b[0m            \u001b[0;34m\u001b[0m\n",
       "\u001b[0;34m\u001b[0m\u001b[0;34m**\u001b[0m  \u001b[0mHISTORY\u001b[0m\u001b[0;34m:\u001b[0m \u001b[0mWritten\u001b[0m\u001b[0;34m:\u001b[0m  \u001b[0;34m(\u001b[0m\u001b[0mMark\u001b[0m \u001b[0mBull\u001b[0m\u001b[0;34m,\u001b[0m \u001b[0mAugust\u001b[0m \u001b[0;36m2011\u001b[0m\u001b[0;34m)\u001b[0m\u001b[0;34m.\u001b[0m\u001b[0;34m\u001b[0m\n",
       "\u001b[0;34m\u001b[0m\u001b[0;34m**\u001b[0m           \u001b[0mChanged\u001b[0m \u001b[0;34m\"comples\"\u001b[0m \u001b[0mto\u001b[0m \u001b[0;34m\"d_comples\"\u001b[0m \u001b[0mto\u001b[0m \u001b[0mavoid\u001b[0m \u001b[0mcollsion\u001b[0m \u001b[0;32mwith\u001b[0m \u001b[0;34m\u001b[0m\n",
       "\u001b[0;34m\u001b[0m\u001b[0;34m**\u001b[0m           \u001b[0mmath\u001b[0m\u001b[0;34m.\u001b[0m\u001b[0mh\u001b[0m \u001b[0mcomplex\u001b[0m \u001b[0mtype\u001b[0m \u001b[0;34m(\u001b[0m\u001b[0mTim\u001b[0m \u001b[0mMattson\u001b[0m\u001b[0;34m,\u001b[0m \u001b[0mSeptember\u001b[0m \u001b[0;36m2011\u001b[0m\u001b[0;34m)\u001b[0m\u001b[0;34m\u001b[0m\n",
       "\u001b[0;34m\u001b[0m\u001b[0;34m*\u001b[0m\u001b[0;34m/\u001b[0m\u001b[0;34m\u001b[0m\n",
       "\u001b[0;34m\u001b[0m\u001b[0;34m\u001b[0m\n",
       "\u001b[0;34m\u001b[0m\u001b[0;31m#include <stdio.h>\u001b[0m\u001b[0;34m\u001b[0m\n",
       "\u001b[0;34m\u001b[0m\u001b[0;31m#include <stdlib.h>\u001b[0m\u001b[0;34m\u001b[0m\n",
       "\u001b[0;34m\u001b[0m\u001b[0;31m#include <math.h>\u001b[0m\u001b[0;34m\u001b[0m\n",
       "\u001b[0;34m\u001b[0m\u001b[0;31m#include <omp.h>\u001b[0m\u001b[0;34m\u001b[0m\n",
       "\u001b[0;34m\u001b[0m\u001b[0;34m\u001b[0m\n",
       "\u001b[0;34m\u001b[0m\u001b[0;31m# define NPOINTS 5000\u001b[0m\u001b[0;34m\u001b[0m\n",
       "\u001b[0;34m\u001b[0m\u001b[0;31m# define MAXITER 5000\u001b[0m\u001b[0;34m\u001b[0m\n",
       "\u001b[0;34m\u001b[0m\u001b[0;31m#define NELEMS(x)  (sizeof(x) / sizeof((x)[0]))\u001b[0m\u001b[0;34m\u001b[0m\n",
       "\u001b[0;34m\u001b[0m\u001b[0;34m\u001b[0m\n",
       "\u001b[0;34m\u001b[0m\u001b[0mvoid\u001b[0m \u001b[0mtestpoint\u001b[0m\u001b[0;34m(\u001b[0m\u001b[0mvoid\u001b[0m\u001b[0;34m)\u001b[0m\u001b[0;34m;\u001b[0m\u001b[0;34m\u001b[0m\n",
       "\u001b[0;34m\u001b[0m\u001b[0;34m\u001b[0m\n",
       "\u001b[0;34m\u001b[0m\u001b[0mstruct\u001b[0m \u001b[0md_complex\u001b[0m \u001b[0;34m{\u001b[0m\u001b[0;34m\u001b[0m\n",
       "\u001b[0;34m\u001b[0m   \u001b[0mdouble\u001b[0m \u001b[0mr\u001b[0m\u001b[0;34m;\u001b[0m\u001b[0;34m\u001b[0m\n",
       "\u001b[0;34m\u001b[0m   \u001b[0mdouble\u001b[0m \u001b[0mi\u001b[0m\u001b[0;34m;\u001b[0m\u001b[0;34m\u001b[0m\n",
       "\u001b[0;34m\u001b[0m\u001b[0;34m}\u001b[0m\u001b[0;34m;\u001b[0m\u001b[0;34m\u001b[0m\n",
       "\u001b[0;34m\u001b[0m\u001b[0;34m\u001b[0m\n",
       "\u001b[0;34m\u001b[0m\u001b[0mstruct\u001b[0m \u001b[0md_complex\u001b[0m \u001b[0mc\u001b[0m\u001b[0;34m;\u001b[0m\u001b[0;34m\u001b[0m\n",
       "\u001b[0;34m\u001b[0m\u001b[0mint\u001b[0m \u001b[0mnumoutside\u001b[0m \u001b[0;34m=\u001b[0m \u001b[0;36m0\u001b[0m\u001b[0;34m;\u001b[0m\u001b[0;34m\u001b[0m\n",
       "\u001b[0;34m\u001b[0m\u001b[0;34m\u001b[0m\n",
       "\u001b[0;34m\u001b[0m\u001b[0mint\u001b[0m \u001b[0mmain\u001b[0m\u001b[0;34m(\u001b[0m\u001b[0;34m)\u001b[0m \u001b[0;34m{\u001b[0m\u001b[0;34m\u001b[0m\n",
       "\u001b[0;34m\u001b[0m    \u001b[0;34m\u001b[0m\n",
       "\u001b[0;34m\u001b[0m   \u001b[0mint\u001b[0m \u001b[0mthreads\u001b[0m\u001b[0;34m[\u001b[0m\u001b[0;36m6\u001b[0m\u001b[0;34m]\u001b[0m \u001b[0;34m=\u001b[0m \u001b[0;34m{\u001b[0m\u001b[0;36m1\u001b[0m\u001b[0;34m,\u001b[0m\u001b[0;36m2\u001b[0m\u001b[0;34m,\u001b[0m\u001b[0;36m4\u001b[0m\u001b[0;34m,\u001b[0m\u001b[0;36m8\u001b[0m\u001b[0;34m,\u001b[0m\u001b[0;36m16\u001b[0m\u001b[0;34m,\u001b[0m\u001b[0;36m24\u001b[0m\u001b[0;34m}\u001b[0m\u001b[0;34m;\u001b[0m  \u001b[0;34m\u001b[0m\n",
       "\u001b[0;34m\u001b[0m   \u001b[0mint\u001b[0m \u001b[0mi\u001b[0m\u001b[0;34m,\u001b[0m \u001b[0mj\u001b[0m\u001b[0;34m;\u001b[0m\u001b[0;34m\u001b[0m\n",
       "\u001b[0;34m\u001b[0m   \u001b[0mdouble\u001b[0m \u001b[0marea\u001b[0m\u001b[0;34m,\u001b[0m \u001b[0merror\u001b[0m\u001b[0;34m,\u001b[0m \u001b[0meps\u001b[0m \u001b[0;34m=\u001b[0m \u001b[0;36m1.0e-5\u001b[0m\u001b[0;34m;\u001b[0m\u001b[0;34m\u001b[0m\n",
       "\u001b[0;34m\u001b[0m   \u001b[0mdouble\u001b[0m \u001b[0mstart_time\u001b[0m\u001b[0;34m,\u001b[0m \u001b[0mrun_time\u001b[0m\u001b[0;34m;\u001b[0m\u001b[0;34m\u001b[0m\n",
       "\u001b[0;34m\u001b[0m\u001b[0;34m\u001b[0m\n",
       "\u001b[0;34m\u001b[0m   \u001b[0;34m//\u001b[0m \u001b[0mTest\u001b[0m \u001b[0mvarying\u001b[0m \u001b[0mnumber\u001b[0m \u001b[0mof\u001b[0m \u001b[0mthreads\u001b[0m\u001b[0;34m:\u001b[0m \u001b[0;36m1\u001b[0m\u001b[0;34m,\u001b[0m\u001b[0;36m2\u001b[0m\u001b[0;34m,\u001b[0m\u001b[0;36m4\u001b[0m\u001b[0;34m,\u001b[0m\u001b[0;36m8\u001b[0m\u001b[0;34m,\u001b[0m\u001b[0;36m16\u001b[0m \u001b[0;32mand\u001b[0m \u001b[0;36m24\u001b[0m \u001b[0mthreads\u001b[0m\u001b[0;34m\u001b[0m\n",
       "\u001b[0;34m\u001b[0m   \u001b[0;32mfor\u001b[0m \u001b[0;34m(\u001b[0m\u001b[0mint\u001b[0m \u001b[0mk\u001b[0m\u001b[0;34m=\u001b[0m\u001b[0;36m0\u001b[0m\u001b[0;34m;\u001b[0m \u001b[0mk\u001b[0m\u001b[0;34m<\u001b[0m \u001b[0mNELEMS\u001b[0m\u001b[0;34m(\u001b[0m\u001b[0mthreads\u001b[0m\u001b[0;34m)\u001b[0m\u001b[0;34m;\u001b[0m \u001b[0mk\u001b[0m\u001b[0;34m+\u001b[0m\u001b[0;34m+\u001b[0m\u001b[0;34m)\u001b[0m \u001b[0;34m{\u001b[0m\u001b[0;34m\u001b[0m\n",
       "\u001b[0;34m\u001b[0m        \u001b[0mnumoutside\u001b[0m \u001b[0;34m=\u001b[0m \u001b[0;36m0\u001b[0m\u001b[0;34m;\u001b[0m\u001b[0;34m\u001b[0m\n",
       "\u001b[0;34m\u001b[0m        \u001b[0mint\u001b[0m \u001b[0mnum_of_threads\u001b[0m \u001b[0;34m=\u001b[0m \u001b[0mthreads\u001b[0m\u001b[0;34m[\u001b[0m\u001b[0mk\u001b[0m\u001b[0;34m]\u001b[0m\u001b[0;34m;\u001b[0m\u001b[0;34m\u001b[0m\n",
       "\u001b[0;34m\u001b[0m        \u001b[0momp_set_num_threads\u001b[0m\u001b[0;34m(\u001b[0m\u001b[0mnum_of_threads\u001b[0m\u001b[0;34m)\u001b[0m\u001b[0;34m;\u001b[0m\u001b[0;34m\u001b[0m\n",
       "\u001b[0;34m\u001b[0m        \u001b[0mstart_time\u001b[0m \u001b[0;34m=\u001b[0m \u001b[0momp_get_wtime\u001b[0m\u001b[0;34m(\u001b[0m\u001b[0;34m)\u001b[0m\u001b[0;34m;\u001b[0m\u001b[0;34m\u001b[0m\n",
       "\u001b[0;34m\u001b[0m       \u001b[0;34m\u001b[0m\n",
       "\u001b[0;34m\u001b[0m       \u001b[0;34m//\u001b[0m \u001b[0mLoop\u001b[0m \u001b[0mover\u001b[0m \u001b[0mgrid\u001b[0m \u001b[0mof\u001b[0m \u001b[0mpoints\u001b[0m \u001b[0;32min\u001b[0m \u001b[0mthe\u001b[0m \u001b[0mcomplex\u001b[0m \u001b[0mplane\u001b[0m \u001b[0mwhich\u001b[0m \u001b[0mcontains\u001b[0m \u001b[0;34m\u001b[0m\n",
       "\u001b[0;34m\u001b[0m       \u001b[0;34m//\u001b[0m \u001b[0mthe\u001b[0m \u001b[0mMandelbrot\u001b[0m \u001b[0mset\u001b[0m\u001b[0;34m,\u001b[0m \u001b[0mtest\u001b[0m \u001b[0meach\u001b[0m \u001b[0mpoint\u001b[0m \u001b[0mto\u001b[0m \u001b[0msee\u001b[0m \u001b[0mwhether\u001b[0m \u001b[0mit\u001b[0m \u001b[0;32mis\u001b[0m \u001b[0;34m\u001b[0m\n",
       "\u001b[0;34m\u001b[0m       \u001b[0;34m//\u001b[0m \u001b[0minside\u001b[0m \u001b[0;32mor\u001b[0m \u001b[0moutside\u001b[0m \u001b[0mthe\u001b[0m \u001b[0mset\u001b[0m\u001b[0;34m\u001b[0m\n",
       "\u001b[0;34m\u001b[0m       \u001b[0;31m#pragma omp parallel for collapse(2) reduction(+:numoutside)\u001b[0m\u001b[0;34m\u001b[0m\n",
       "\u001b[0;34m\u001b[0m       \u001b[0;32mfor\u001b[0m \u001b[0;34m(\u001b[0m\u001b[0mi\u001b[0m \u001b[0;34m=\u001b[0m \u001b[0;36m0\u001b[0m\u001b[0;34m;\u001b[0m \u001b[0mi\u001b[0m \u001b[0;34m<\u001b[0m \u001b[0mNPOINTS\u001b[0m\u001b[0;34m;\u001b[0m \u001b[0mi\u001b[0m\u001b[0;34m+\u001b[0m\u001b[0;34m+\u001b[0m\u001b[0;34m)\u001b[0m \u001b[0;34m{\u001b[0m\u001b[0;34m\u001b[0m\n",
       "\u001b[0;34m\u001b[0m          \u001b[0;32mfor\u001b[0m \u001b[0;34m(\u001b[0m\u001b[0mj\u001b[0m \u001b[0;34m=\u001b[0m \u001b[0;36m0\u001b[0m\u001b[0;34m;\u001b[0m \u001b[0mj\u001b[0m \u001b[0;34m<\u001b[0m \u001b[0mNPOINTS\u001b[0m\u001b[0;34m;\u001b[0m \u001b[0mj\u001b[0m\u001b[0;34m+\u001b[0m\u001b[0;34m+\u001b[0m\u001b[0;34m)\u001b[0m \u001b[0;34m{\u001b[0m\u001b[0;34m\u001b[0m\n",
       "\u001b[0;34m\u001b[0m             \u001b[0mc\u001b[0m\u001b[0;34m.\u001b[0m\u001b[0mr\u001b[0m \u001b[0;34m=\u001b[0m \u001b[0;34m-\u001b[0m\u001b[0;36m2.0\u001b[0m \u001b[0;34m+\u001b[0m \u001b[0;36m2.5\u001b[0m \u001b[0;34m*\u001b[0m \u001b[0;34m(\u001b[0m\u001b[0mdouble\u001b[0m\u001b[0;34m)\u001b[0m\u001b[0;34m(\u001b[0m\u001b[0mi\u001b[0m\u001b[0;34m)\u001b[0m \u001b[0;34m/\u001b[0m \u001b[0;34m(\u001b[0m\u001b[0mdouble\u001b[0m\u001b[0;34m)\u001b[0m\u001b[0;34m(\u001b[0m\u001b[0mNPOINTS\u001b[0m\u001b[0;34m)\u001b[0m \u001b[0;34m+\u001b[0m \u001b[0meps\u001b[0m\u001b[0;34m;\u001b[0m\u001b[0;34m\u001b[0m\n",
       "\u001b[0;34m\u001b[0m             \u001b[0mc\u001b[0m\u001b[0;34m.\u001b[0m\u001b[0mi\u001b[0m \u001b[0;34m=\u001b[0m \u001b[0;36m1.125\u001b[0m \u001b[0;34m*\u001b[0m \u001b[0;34m(\u001b[0m\u001b[0mdouble\u001b[0m\u001b[0;34m)\u001b[0m\u001b[0;34m(\u001b[0m\u001b[0mj\u001b[0m\u001b[0;34m)\u001b[0m \u001b[0;34m/\u001b[0m \u001b[0;34m(\u001b[0m\u001b[0mdouble\u001b[0m\u001b[0;34m)\u001b[0m\u001b[0;34m(\u001b[0m\u001b[0mNPOINTS\u001b[0m\u001b[0;34m)\u001b[0m \u001b[0;34m+\u001b[0m \u001b[0meps\u001b[0m\u001b[0;34m;\u001b[0m\u001b[0;34m\u001b[0m\n",
       "\u001b[0;34m\u001b[0m             \u001b[0mtestpoint\u001b[0m\u001b[0;34m(\u001b[0m\u001b[0;34m)\u001b[0m\u001b[0;34m;\u001b[0m\u001b[0;34m\u001b[0m\n",
       "\u001b[0;34m\u001b[0m          \u001b[0;34m}\u001b[0m\u001b[0;34m\u001b[0m\n",
       "\u001b[0;34m\u001b[0m       \u001b[0;34m}\u001b[0m\u001b[0;34m\u001b[0m\n",
       "\u001b[0;34m\u001b[0m       \u001b[0;34m\u001b[0m\n",
       "\u001b[0;34m\u001b[0m       \u001b[0mrun_time\u001b[0m \u001b[0;34m=\u001b[0m \u001b[0momp_get_wtime\u001b[0m\u001b[0;34m(\u001b[0m\u001b[0;34m)\u001b[0m \u001b[0;34m-\u001b[0m \u001b[0mstart_time\u001b[0m\u001b[0;34m;\u001b[0m\u001b[0;34m\u001b[0m\n",
       "\u001b[0;34m\u001b[0m       \u001b[0;34m//\u001b[0m \u001b[0mCalculate\u001b[0m \u001b[0marea\u001b[0m \u001b[0mof\u001b[0m \u001b[0mset\u001b[0m \u001b[0;32mand\u001b[0m \u001b[0merror\u001b[0m \u001b[0mestimate\u001b[0m \u001b[0;32mand\u001b[0m \u001b[0moutput\u001b[0m \u001b[0mthe\u001b[0m \u001b[0mresults\u001b[0m\u001b[0;34m\u001b[0m\n",
       "\u001b[0;34m\u001b[0m       \u001b[0marea\u001b[0m \u001b[0;34m=\u001b[0m \u001b[0;36m2.0\u001b[0m \u001b[0;34m*\u001b[0m \u001b[0;36m2.5\u001b[0m \u001b[0;34m*\u001b[0m \u001b[0;36m1.125\u001b[0m \u001b[0;34m*\u001b[0m \u001b[0;34m(\u001b[0m\u001b[0mdouble\u001b[0m\u001b[0;34m)\u001b[0m\u001b[0;34m(\u001b[0m\u001b[0mNPOINTS\u001b[0m \u001b[0;34m*\u001b[0m \u001b[0mNPOINTS\u001b[0m \u001b[0;34m-\u001b[0m \u001b[0mnumoutside\u001b[0m\u001b[0;34m)\u001b[0m \u001b[0;34m\u001b[0m\n",
       "\u001b[0;34m\u001b[0m             \u001b[0;34m/\u001b[0m \u001b[0;34m(\u001b[0m\u001b[0mdouble\u001b[0m\u001b[0;34m)\u001b[0m\u001b[0;34m(\u001b[0m\u001b[0mNPOINTS\u001b[0m \u001b[0;34m*\u001b[0m \u001b[0mNPOINTS\u001b[0m\u001b[0;34m)\u001b[0m\u001b[0;34m;\u001b[0m\u001b[0;34m\u001b[0m\n",
       "\u001b[0;34m\u001b[0m       \u001b[0merror\u001b[0m \u001b[0;34m=\u001b[0m \u001b[0marea\u001b[0m \u001b[0;34m/\u001b[0m \u001b[0;34m(\u001b[0m\u001b[0mdouble\u001b[0m\u001b[0;34m)\u001b[0m\u001b[0mNPOINTS\u001b[0m\u001b[0;34m;\u001b[0m\u001b[0;34m\u001b[0m\n",
       "\u001b[0;34m\u001b[0m       \u001b[0mprintf\u001b[0m\u001b[0;34m(\u001b[0m\u001b[0;34m\"Area of Mandlebrot set = %12.8f +/- %12.8f\\n\"\u001b[0m\u001b[0;34m,\u001b[0m\u001b[0marea\u001b[0m\u001b[0;34m,\u001b[0m\u001b[0merror\u001b[0m\u001b[0;34m)\u001b[0m\u001b[0;34m;\u001b[0m\u001b[0;34m\u001b[0m\n",
       "\u001b[0;34m\u001b[0m       \u001b[0mprintf\u001b[0m\u001b[0;34m(\u001b[0m\u001b[0;34m\"Parallel-Reduction implementation - time: %f seconds, with %d threads\\n\\n\"\u001b[0m\u001b[0;34m,\u001b[0m\u001b[0mrun_time\u001b[0m\u001b[0;34m,\u001b[0m \u001b[0mnum_of_threads\u001b[0m\u001b[0;34m)\u001b[0m\u001b[0;34m;\u001b[0m\u001b[0;34m\u001b[0m\n",
       "\u001b[0;34m\u001b[0m   \u001b[0;34m}\u001b[0m\u001b[0;34m\u001b[0m\n",
       "\u001b[0;34m\u001b[0m   \u001b[0mprintf\u001b[0m\u001b[0;34m(\u001b[0m\u001b[0;34m\"(Correct answer should be around 1.506)\\n\"\u001b[0m\u001b[0;34m)\u001b[0m\u001b[0;34m;\u001b[0m\u001b[0;34m\u001b[0m\n",
       "\u001b[0;34m\u001b[0m\u001b[0;34m}\u001b[0m\u001b[0;34m\u001b[0m\n",
       "\u001b[0;34m\u001b[0m\u001b[0;34m\u001b[0m\n",
       "\u001b[0;34m\u001b[0m\u001b[0mvoid\u001b[0m \u001b[0mtestpoint\u001b[0m\u001b[0;34m(\u001b[0m\u001b[0mvoid\u001b[0m\u001b[0;34m)\u001b[0m \u001b[0;34m{\u001b[0m\u001b[0;34m\u001b[0m\n",
       "\u001b[0;34m\u001b[0m\u001b[0;34m\u001b[0m\n",
       "\u001b[0;34m\u001b[0m   \u001b[0;34m//\u001b[0m \u001b[0mDoes\u001b[0m \u001b[0mthe\u001b[0m \u001b[0miteration\u001b[0m \u001b[0mz\u001b[0m\u001b[0;34m=\u001b[0m\u001b[0mz\u001b[0m\u001b[0;34m*\u001b[0m\u001b[0mz\u001b[0m\u001b[0;34m+\u001b[0m\u001b[0mc\u001b[0m\u001b[0;34m,\u001b[0m \u001b[0muntil\u001b[0m \u001b[0;34m|\u001b[0m\u001b[0mz\u001b[0m\u001b[0;34m|\u001b[0m \u001b[0;34m>\u001b[0m \u001b[0;36m2\u001b[0m \u001b[0mwhen\u001b[0m \u001b[0mpoint\u001b[0m \u001b[0;32mis\u001b[0m \u001b[0mknown\u001b[0m \u001b[0mto\u001b[0m \u001b[0;34m\u001b[0m\n",
       "\u001b[0;34m\u001b[0m   \u001b[0;34m//\u001b[0m \u001b[0mbe\u001b[0m \u001b[0moutside\u001b[0m \u001b[0mset\u001b[0m\u001b[0;34m.\u001b[0m \u001b[0mIf\u001b[0m \u001b[0mloop\u001b[0m \u001b[0mcount\u001b[0m \u001b[0mreaches\u001b[0m \u001b[0mMAXITER\u001b[0m\u001b[0;34m,\u001b[0m \u001b[0mpoint\u001b[0m \u001b[0;32mis\u001b[0m \u001b[0mconsidered\u001b[0m \u001b[0;34m\u001b[0m\n",
       "\u001b[0;34m\u001b[0m   \u001b[0;34m//\u001b[0m \u001b[0mto\u001b[0m \u001b[0mbe\u001b[0m \u001b[0minside\u001b[0m \u001b[0mthe\u001b[0m \u001b[0mset\u001b[0m\u001b[0;34m.\u001b[0m\u001b[0;34m\u001b[0m\n",
       "\u001b[0;34m\u001b[0m\u001b[0;34m\u001b[0m\n",
       "\u001b[0;34m\u001b[0m   \u001b[0mstruct\u001b[0m \u001b[0md_complex\u001b[0m \u001b[0mz\u001b[0m\u001b[0;34m;\u001b[0m\u001b[0;34m\u001b[0m\n",
       "\u001b[0;34m\u001b[0m   \u001b[0mint\u001b[0m \u001b[0miter\u001b[0m\u001b[0;34m;\u001b[0m\u001b[0;34m\u001b[0m\n",
       "\u001b[0;34m\u001b[0m   \u001b[0mdouble\u001b[0m \u001b[0mtemp\u001b[0m\u001b[0;34m;\u001b[0m\u001b[0;34m\u001b[0m\n",
       "\u001b[0;34m\u001b[0m\u001b[0;34m\u001b[0m\n",
       "\u001b[0;34m\u001b[0m   \u001b[0mz\u001b[0m \u001b[0;34m=\u001b[0m \u001b[0mc\u001b[0m\u001b[0;34m;\u001b[0m\u001b[0;34m\u001b[0m\n",
       "\u001b[0;34m\u001b[0m   \u001b[0;32mfor\u001b[0m \u001b[0;34m(\u001b[0m\u001b[0miter\u001b[0m \u001b[0;34m=\u001b[0m \u001b[0;36m0\u001b[0m\u001b[0;34m;\u001b[0m \u001b[0miter\u001b[0m \u001b[0;34m<\u001b[0m \u001b[0mMAXITER\u001b[0m\u001b[0;34m;\u001b[0m \u001b[0miter\u001b[0m\u001b[0;34m+\u001b[0m\u001b[0;34m+\u001b[0m\u001b[0;34m)\u001b[0m \u001b[0;34m{\u001b[0m\u001b[0;34m\u001b[0m\n",
       "\u001b[0;34m\u001b[0m      \u001b[0mtemp\u001b[0m \u001b[0;34m=\u001b[0m \u001b[0;34m(\u001b[0m\u001b[0mz\u001b[0m\u001b[0;34m.\u001b[0m\u001b[0mr\u001b[0m \u001b[0;34m*\u001b[0m \u001b[0mz\u001b[0m\u001b[0;34m.\u001b[0m\u001b[0mr\u001b[0m\u001b[0;34m)\u001b[0m \u001b[0;34m-\u001b[0m \u001b[0;34m(\u001b[0m\u001b[0mz\u001b[0m\u001b[0;34m.\u001b[0m\u001b[0mi\u001b[0m \u001b[0;34m*\u001b[0m \u001b[0mz\u001b[0m\u001b[0;34m.\u001b[0m\u001b[0mi\u001b[0m\u001b[0;34m)\u001b[0m \u001b[0;34m+\u001b[0m \u001b[0mc\u001b[0m\u001b[0;34m.\u001b[0m\u001b[0mr\u001b[0m\u001b[0;34m;\u001b[0m\u001b[0;34m\u001b[0m\n",
       "\u001b[0;34m\u001b[0m      \u001b[0mz\u001b[0m\u001b[0;34m.\u001b[0m\u001b[0mi\u001b[0m \u001b[0;34m=\u001b[0m \u001b[0mz\u001b[0m\u001b[0;34m.\u001b[0m\u001b[0mr\u001b[0m \u001b[0;34m*\u001b[0m \u001b[0mz\u001b[0m\u001b[0;34m.\u001b[0m\u001b[0mi\u001b[0m \u001b[0;34m*\u001b[0m \u001b[0;36m2\u001b[0m \u001b[0;34m+\u001b[0m \u001b[0mc\u001b[0m\u001b[0;34m.\u001b[0m\u001b[0mi\u001b[0m\u001b[0;34m;\u001b[0m\u001b[0;34m\u001b[0m\n",
       "\u001b[0;34m\u001b[0m      \u001b[0mz\u001b[0m\u001b[0;34m.\u001b[0m\u001b[0mr\u001b[0m \u001b[0;34m=\u001b[0m \u001b[0mtemp\u001b[0m\u001b[0;34m;\u001b[0m\u001b[0;34m\u001b[0m\n",
       "\u001b[0;34m\u001b[0m      \u001b[0;32mif\u001b[0m \u001b[0;34m(\u001b[0m\u001b[0;34m(\u001b[0m\u001b[0mz\u001b[0m\u001b[0;34m.\u001b[0m\u001b[0mr\u001b[0m \u001b[0;34m*\u001b[0m \u001b[0mz\u001b[0m\u001b[0;34m.\u001b[0m\u001b[0mr\u001b[0m \u001b[0;34m+\u001b[0m \u001b[0mz\u001b[0m\u001b[0;34m.\u001b[0m\u001b[0mi\u001b[0m \u001b[0;34m*\u001b[0m \u001b[0mz\u001b[0m\u001b[0;34m.\u001b[0m\u001b[0mi\u001b[0m\u001b[0;34m)\u001b[0m \u001b[0;34m>\u001b[0m \u001b[0;36m4.0\u001b[0m\u001b[0;34m)\u001b[0m \u001b[0;34m{\u001b[0m\u001b[0;34m\u001b[0m\n",
       "\u001b[0;34m\u001b[0m         \u001b[0mnumoutside\u001b[0m\u001b[0;34m+\u001b[0m\u001b[0;34m+\u001b[0m\u001b[0;34m;\u001b[0m\u001b[0;34m\u001b[0m\n",
       "\u001b[0;34m\u001b[0m         \u001b[0;32mbreak\u001b[0m\u001b[0;34m;\u001b[0m\u001b[0;34m\u001b[0m\n",
       "\u001b[0;34m\u001b[0m      \u001b[0;34m}\u001b[0m\u001b[0;34m\u001b[0m\n",
       "\u001b[0;34m\u001b[0m   \u001b[0;34m}\u001b[0m\u001b[0;34m\u001b[0m\n",
       "\u001b[0;34m\u001b[0m\u001b[0;34m}\u001b[0m\u001b[0;34m\u001b[0m\u001b[0;34m\u001b[0m\u001b[0m\n"
      ]
     },
     "metadata": {},
     "output_type": "display_data"
    }
   ],
   "source": [
    "%pycat mandel_parallel_reduction.c"
   ]
  },
  {
   "cell_type": "code",
   "execution_count": 91,
   "metadata": {},
   "outputs": [],
   "source": [
    "! rm run_parallel_reduction.sh.e*\n",
    "! rm run_parallel_reduction.sh.o*"
   ]
  },
  {
   "cell_type": "code",
   "execution_count": 92,
   "metadata": {},
   "outputs": [
    {
     "name": "stdout",
     "output_type": "stream",
     "text": [
      "Job has been submitted to Intel(R) DevCloud and will execute soon.\n",
      "\n",
      " If you do not see result in 60 seconds, please restart the Jupyter kernel:\n",
      " Kernel -> 'Restart Kernel and Clear All Outputs...' and then try again\n",
      "\n",
      "Job ID                    Name             User            Time Use S Queue\n",
      "------------------------- ---------------- --------------- -------- - -----\n",
      "2067885.v-qsvr-1           ...ub-singleuser u177183         00:00:56 R jupyterhub     \n",
      "2068004.v-qsvr-1           ...l_critical.sh u177183         00:03:55 R batch          \n",
      "2068009.v-qsvr-1           ...lel_atomic.sh u177183         00:03:06 R batch          \n",
      "2068019.v-qsvr-1           ...se_sharing.sh u177183         00:01:57 R batch          \n",
      "2068030.v-qsvr-1           ...ding_08pad.sh u177183         00:00:49 R batch          \n",
      "2068040.v-qsvr-1           ...ding_16pad.sh u177183                0 R batch          \n",
      "2068046.v-qsvr-1           ..._reduction.sh u177183                0 Q batch          \n",
      "\n",
      "Waiting for Output ████████████████████████████████████████████████████████████\n",
      "\n",
      "TimeOut 60 seconds: Job is still queued for execution, check for output file later (run_parallel_reduction.sh.o2068046)\n",
      "\n"
     ]
    }
   ],
   "source": [
    "! chmod 755 run_parallel_reduction.sh;if [ -x \"$(command -v qsub)\" ]; then ./../q run_parallel_reduction.sh; else ./run_parallel_reduction.sh; fi"
   ]
  },
  {
   "cell_type": "code",
   "execution_count": 108,
   "metadata": {},
   "outputs": [
    {
     "name": "stdout",
     "output_type": "stream",
     "text": [
      "\n",
      "########################################################################\n",
      "#      Date:           Thu 01 Dec 2022 11:09:28 PM PST\n",
      "#    Job ID:           2068046.v-qsvr-1.aidevcloud\n",
      "#      User:           u177183\n",
      "# Resources:           cput=35:00:00,neednodes=1:batch:ppn=2,nodes=1:batch:ppn=2,walltime=06:00:00\n",
      "########################################################################\n",
      "\n",
      "## u177183 is running HW1 Problem 1 - Calculate Mandelbrot area - parallel reduction\n",
      "########## Compiling your parallel reduction code\n",
      "########## Executing your parallel reduction code\n",
      "Area of Mandlebrot set =   1.50763455 +/-   0.00030153\n",
      "Parallel-Reduction implementation - time: 210.462991 seconds, with 1 threads\n",
      "\n",
      "Area of Mandlebrot set =   1.95930315 +/-   0.00039186\n",
      "Parallel-Reduction implementation - time: 116.687175 seconds, with 2 threads\n",
      "\n",
      "Area of Mandlebrot set =   3.00403260 +/-   0.00060081\n",
      "Parallel-Reduction implementation - time: 43.342804 seconds, with 4 threads\n",
      "\n",
      "Area of Mandlebrot set =   4.01203283 +/-   0.00080241\n",
      "Parallel-Reduction implementation - time: 27.633652 seconds, with 8 threads\n",
      "\n",
      "Area of Mandlebrot set =   4.62873127 +/-   0.00092575\n",
      "Parallel-Reduction implementation - time: 14.533714 seconds, with 16 threads\n",
      "\n",
      "Area of Mandlebrot set =   4.66587022 +/-   0.00093317\n",
      "Parallel-Reduction implementation - time: 10.415522 seconds, with 24 threads\n",
      "\n",
      "(Correct answer should be around 1.506)\n",
      "########## Done parallel reduction\n",
      "\n",
      "########################################################################\n",
      "# End of output for job 2068046.v-qsvr-1.aidevcloud\n",
      "# Date: Thu 01 Dec 2022 11:16:37 PM PST\n",
      "########################################################################\n",
      "\n"
     ]
    }
   ],
   "source": [
    "! cat run_parallel_reduction.sh.o*"
   ]
  },
  {
   "cell_type": "code",
   "execution_count": 109,
   "metadata": {},
   "outputs": [
    {
     "name": "stdout",
     "output_type": "stream",
     "text": [
      "Reading run_parallel_reduction.sh.o2068046 ... \n",
      "Reading run_parallel_false_sharing.sh.o2068019 ... \n",
      "Reading run_parallel_padding_08pad.sh.o2068030 ... \n",
      "Reading run_parallel_atomic.sh.o2068009 ... \n",
      "Reading run_parallel_padding_16pad.sh.o2068040 ... \n",
      "Reading run_parallel_critical.sh.o2068004 ... \n",
      "Reading run_serial.sh.o2067998 ... \n"
     ]
    },
    {
     "data": {
      "text/html": [
       "<div>\n",
       "<style scoped>\n",
       "    .dataframe tbody tr th:only-of-type {\n",
       "        vertical-align: middle;\n",
       "    }\n",
       "\n",
       "    .dataframe tbody tr th {\n",
       "        vertical-align: top;\n",
       "    }\n",
       "\n",
       "    .dataframe thead th {\n",
       "        text-align: right;\n",
       "    }\n",
       "</style>\n",
       "<table border=\"1\" class=\"dataframe\">\n",
       "  <thead>\n",
       "    <tr style=\"text-align: right;\">\n",
       "      <th></th>\n",
       "      <th>serial</th>\n",
       "      <th>critical</th>\n",
       "      <th>atomic</th>\n",
       "      <th>false sharing</th>\n",
       "      <th>padding(PAD=08)</th>\n",
       "      <th>padding(PAD=16)</th>\n",
       "      <th>reduction</th>\n",
       "    </tr>\n",
       "    <tr>\n",
       "      <th>#Threads</th>\n",
       "      <th></th>\n",
       "      <th></th>\n",
       "      <th></th>\n",
       "      <th></th>\n",
       "      <th></th>\n",
       "      <th></th>\n",
       "      <th></th>\n",
       "    </tr>\n",
       "  </thead>\n",
       "  <tbody>\n",
       "    <tr>\n",
       "      <th>1</th>\n",
       "      <td>210.42768</td>\n",
       "      <td>210.903886</td>\n",
       "      <td>210.494148</td>\n",
       "      <td>210.445212</td>\n",
       "      <td>210.4928</td>\n",
       "      <td>210.432845</td>\n",
       "      <td>210.462991</td>\n",
       "    </tr>\n",
       "    <tr>\n",
       "      <th>2</th>\n",
       "      <td>None</td>\n",
       "      <td>79.393531</td>\n",
       "      <td>101.990545</td>\n",
       "      <td>92.709365</td>\n",
       "      <td>99.303222</td>\n",
       "      <td>106.327803</td>\n",
       "      <td>116.687175</td>\n",
       "    </tr>\n",
       "    <tr>\n",
       "      <th>4</th>\n",
       "      <td>None</td>\n",
       "      <td>27.014714</td>\n",
       "      <td>27.692255</td>\n",
       "      <td>31.74009</td>\n",
       "      <td>25.444996</td>\n",
       "      <td>44.824191</td>\n",
       "      <td>43.342804</td>\n",
       "    </tr>\n",
       "    <tr>\n",
       "      <th>8</th>\n",
       "      <td>None</td>\n",
       "      <td>17.066906</td>\n",
       "      <td>15.751827</td>\n",
       "      <td>17.184248</td>\n",
       "      <td>18.273867</td>\n",
       "      <td>22.919591</td>\n",
       "      <td>27.633652</td>\n",
       "    </tr>\n",
       "    <tr>\n",
       "      <th>16</th>\n",
       "      <td>None</td>\n",
       "      <td>14.03001</td>\n",
       "      <td>12.620567</td>\n",
       "      <td>10.108167</td>\n",
       "      <td>10.551172</td>\n",
       "      <td>13.119847</td>\n",
       "      <td>14.533714</td>\n",
       "    </tr>\n",
       "    <tr>\n",
       "      <th>24</th>\n",
       "      <td>None</td>\n",
       "      <td>14.423721</td>\n",
       "      <td>9.021836</td>\n",
       "      <td>5.597405</td>\n",
       "      <td>5.656125</td>\n",
       "      <td>7.836482</td>\n",
       "      <td>10.415522</td>\n",
       "    </tr>\n",
       "  </tbody>\n",
       "</table>\n",
       "</div>"
      ],
      "text/plain": [
       "             serial    critical      atomic false sharing padding(PAD=08)  \\\n",
       "#Threads                                                                    \n",
       "1         210.42768  210.903886  210.494148    210.445212        210.4928   \n",
       "2              None   79.393531  101.990545     92.709365       99.303222   \n",
       "4              None   27.014714   27.692255      31.74009       25.444996   \n",
       "8              None   17.066906   15.751827     17.184248       18.273867   \n",
       "16             None    14.03001   12.620567     10.108167       10.551172   \n",
       "24             None   14.423721    9.021836      5.597405        5.656125   \n",
       "\n",
       "         padding(PAD=16)   reduction  \n",
       "#Threads                              \n",
       "1             210.432845  210.462991  \n",
       "2             106.327803  116.687175  \n",
       "4              44.824191   43.342804  \n",
       "8              22.919591   27.633652  \n",
       "16             13.119847   14.533714  \n",
       "24              7.836482   10.415522  "
      ]
     },
     "execution_count": 109,
     "metadata": {},
     "output_type": "execute_result"
    }
   ],
   "source": [
    "import os\n",
    "import re\n",
    "import sys\n",
    "from pprint import pprint\n",
    "import pandas as pd\n",
    "\n",
    "df = pd.DataFrame({\n",
    "    '#Threads': [1,2,4,8,16,24], \n",
    "    'serial': [None]*6, \n",
    "    'critical': [None]*6, \n",
    "    'atomic': [None]*6, \n",
    "    'false sharing': [None]*6, \n",
    "    'padding(PAD=08)': [None]*6, \n",
    "    'padding(PAD=16)': [None]*6, \n",
    "    'reduction': [None]*6,\n",
    "})\n",
    "df = df.set_index('#Threads')\n",
    "\n",
    "o_files = os.listdir(os.getcwd())\n",
    "r = re.compile(\"^.*.sh.o\\d+$\")\n",
    "o_files = list(filter(r.match, o_files))\n",
    "for o_file in o_files:\n",
    "    print(f'Reading {o_file} ... ')\n",
    "    file = open(o_file, 'r')\n",
    "    for line in file:\n",
    "        if re.match('^run_serial.*$', o_file):\n",
    "            name = 'serial'\n",
    "            r_time = re.findall('.*time: (\\d+).(\\d+) seconds.*', line)\n",
    "            threads_num = 1\n",
    "            if r_time:\n",
    "                time = float(f'{r_time[0][0]}.{r_time[0][1]}')\n",
    "            df[name][threads_num] = time\n",
    "        else:\n",
    "            r_name = re.findall('.*Calculate Mandelbrot area - parallel (.*).*', line)\n",
    "            if r_name:\n",
    "                name = r_name[0].replace('_', ' ')\n",
    "            r_threads_num = re.findall('.*time: (\\d+).(\\d+) seconds, with (\\d+) threads.*', line)\n",
    "            if r_threads_num:\n",
    "                time = float(f'{r_threads_num[0][0]}.{r_threads_num[0][1]}')\n",
    "                threads_num = int(r_threads_num[0][2])\n",
    "                df[name][threads_num] = time\n",
    "df"
   ]
  },
  {
   "cell_type": "markdown",
   "metadata": {},
   "source": [
    "### Summering the results\n",
    "#### Fill the following table with the execution times (in seconds) according to the number of threads:"
   ]
  },
  {
   "cell_type": "code",
   "execution_count": 110,
   "metadata": {},
   "outputs": [
    {
     "data": {
      "text/html": [
       "<div>\n",
       "<style scoped>\n",
       "    .dataframe tbody tr th:only-of-type {\n",
       "        vertical-align: middle;\n",
       "    }\n",
       "\n",
       "    .dataframe tbody tr th {\n",
       "        vertical-align: top;\n",
       "    }\n",
       "\n",
       "    .dataframe thead th {\n",
       "        text-align: right;\n",
       "    }\n",
       "</style>\n",
       "<table border=\"1\" class=\"dataframe\">\n",
       "  <thead>\n",
       "    <tr style=\"text-align: right;\">\n",
       "      <th></th>\n",
       "      <th>serial</th>\n",
       "      <th>critical</th>\n",
       "      <th>atomic</th>\n",
       "      <th>false sharing</th>\n",
       "      <th>padding(PAD=08)</th>\n",
       "      <th>padding(PAD=16)</th>\n",
       "      <th>reduction</th>\n",
       "    </tr>\n",
       "    <tr>\n",
       "      <th>#Threads</th>\n",
       "      <th></th>\n",
       "      <th></th>\n",
       "      <th></th>\n",
       "      <th></th>\n",
       "      <th></th>\n",
       "      <th></th>\n",
       "      <th></th>\n",
       "    </tr>\n",
       "  </thead>\n",
       "  <tbody>\n",
       "    <tr>\n",
       "      <th>1</th>\n",
       "      <td>210.42768</td>\n",
       "      <td>210.903886</td>\n",
       "      <td>210.494148</td>\n",
       "      <td>210.445212</td>\n",
       "      <td>210.4928</td>\n",
       "      <td>210.432845</td>\n",
       "      <td>210.462991</td>\n",
       "    </tr>\n",
       "    <tr>\n",
       "      <th>2</th>\n",
       "      <td>None</td>\n",
       "      <td>79.393531</td>\n",
       "      <td>101.990545</td>\n",
       "      <td>92.709365</td>\n",
       "      <td>99.303222</td>\n",
       "      <td>106.327803</td>\n",
       "      <td>116.687175</td>\n",
       "    </tr>\n",
       "    <tr>\n",
       "      <th>4</th>\n",
       "      <td>None</td>\n",
       "      <td>27.014714</td>\n",
       "      <td>27.692255</td>\n",
       "      <td>31.74009</td>\n",
       "      <td>25.444996</td>\n",
       "      <td>44.824191</td>\n",
       "      <td>43.342804</td>\n",
       "    </tr>\n",
       "    <tr>\n",
       "      <th>8</th>\n",
       "      <td>None</td>\n",
       "      <td>17.066906</td>\n",
       "      <td>15.751827</td>\n",
       "      <td>17.184248</td>\n",
       "      <td>18.273867</td>\n",
       "      <td>22.919591</td>\n",
       "      <td>27.633652</td>\n",
       "    </tr>\n",
       "    <tr>\n",
       "      <th>16</th>\n",
       "      <td>None</td>\n",
       "      <td>14.03001</td>\n",
       "      <td>12.620567</td>\n",
       "      <td>10.108167</td>\n",
       "      <td>10.551172</td>\n",
       "      <td>13.119847</td>\n",
       "      <td>14.533714</td>\n",
       "    </tr>\n",
       "    <tr>\n",
       "      <th>24</th>\n",
       "      <td>None</td>\n",
       "      <td>14.423721</td>\n",
       "      <td>9.021836</td>\n",
       "      <td>5.597405</td>\n",
       "      <td>5.656125</td>\n",
       "      <td>7.836482</td>\n",
       "      <td>10.415522</td>\n",
       "    </tr>\n",
       "  </tbody>\n",
       "</table>\n",
       "</div>"
      ],
      "text/plain": [
       "             serial    critical      atomic false sharing padding(PAD=08)  \\\n",
       "#Threads                                                                    \n",
       "1         210.42768  210.903886  210.494148    210.445212        210.4928   \n",
       "2              None   79.393531  101.990545     92.709365       99.303222   \n",
       "4              None   27.014714   27.692255      31.74009       25.444996   \n",
       "8              None   17.066906   15.751827     17.184248       18.273867   \n",
       "16             None    14.03001   12.620567     10.108167       10.551172   \n",
       "24             None   14.423721    9.021836      5.597405        5.656125   \n",
       "\n",
       "         padding(PAD=16)   reduction  \n",
       "#Threads                              \n",
       "1             210.432845  210.462991  \n",
       "2             106.327803  116.687175  \n",
       "4              44.824191   43.342804  \n",
       "8              22.919591   27.633652  \n",
       "16             13.119847   14.533714  \n",
       "24              7.836482   10.415522  "
      ]
     },
     "execution_count": 110,
     "metadata": {},
     "output_type": "execute_result"
    }
   ],
   "source": [
    "df"
   ]
  },
  {
   "cell_type": "markdown",
   "metadata": {},
   "source": [
    "### Fill the results in the following pyplot figure to create a stong scale graph:\n",
    "Note that the values on the graph should be the speedup achieved (relative to a serial computation)."
   ]
  },
  {
   "cell_type": "code",
   "execution_count": 111,
   "metadata": {},
   "outputs": [],
   "source": [
    "serial_exec_time = df['serial'][1]\n",
    "critical_exec_time = df['critical']\n",
    "atomic_exec_time = df['atomic']\n",
    "false_sharing_exec_time = df['false sharing']\n",
    "padding08_exec_time = df['padding(PAD=08)']\n",
    "padding16_exec_time = df['padding(PAD=16)']\n",
    "reduction_exec_time = df['reduction']"
   ]
  },
  {
   "cell_type": "code",
   "execution_count": 112,
   "metadata": {},
   "outputs": [
    {
     "data": {
      "image/png": "[encoded data removed]",
      "text/plain": [
       "<Figure size 640x480 with 1 Axes>"
      ]
     },
     "metadata": {},
     "output_type": "display_data"
    }
   ],
   "source": [
    "import matplotlib.pyplot as plt\n",
    "threads = [1,2,4,8,16,24]\n",
    "speedup_critical      = [serial_exec_time / x for x in critical_exec_time]\n",
    "speedup_atomic        = [serial_exec_time / x for x in atomic_exec_time]\n",
    "speedup_false_sharing = [serial_exec_time / x for x in false_sharing_exec_time]\n",
    "speedup_padding08       = [serial_exec_time / x for x in padding08_exec_time]\n",
    "speedup_padding16       = [serial_exec_time / x for x in padding16_exec_time]\n",
    "speedup_reduction     = [serial_exec_time / x for x in reduction_exec_time]\n",
    "\n",
    "# plt.plot(threads, speedup_critical, label = \"parallel critical\")\n",
    "plt.plot(threads, speedup_atomic, label = \"parallel atomic\")\n",
    "plt.plot(threads, speedup_false_sharing, label = \"parallel false sharing\")\n",
    "plt.plot(threads, speedup_padding08, label = \"parallel padding (PAD=8)\")\n",
    "plt.plot(threads, speedup_padding16, label = \"parallel padding (PAD=16)\")\n",
    "plt.plot(threads, speedup_reduction, label = \"parallel reduction\")\n",
    "  \n",
    "# naming the x axis\n",
    "plt.xlabel('Number of Threads')\n",
    "# naming the y axis\n",
    "plt.ylabel('Speedup')\n",
    "# giving a title to my graph\n",
    "plt.title('Speedup of the various parallel implementations of Mandelbrot set calculation with OpenMP threading')\n",
    "plt.grid()\n",
    "# show a legend on the plot\n",
    "plt.legend()\n",
    "  \n",
    "# function to show the plot\n",
    "plt.show()"
   ]
  },
  {
   "cell_type": "markdown",
   "metadata": {},
   "source": [
    "### Explain the results\n",
    "Try to explain the results, by comparing the results of different implementations."
   ]
  },
  {
   "cell_type": "markdown",
   "metadata": {},
   "source": [
    "* For all implementations but the reduction implementation, we see linear speedup up to ~16 cores, and then super-linear speedup for thread count 24\n",
    "* On the one hand, it makes sense, since the synchronization event is quite rare: assume at a given time all available threads are working on different complex numbers. each thread performs ~5000 iteration between trying to access the *numoutside variable, perhaps even more, because for numbers inside the Mandelbrot set, the if statments inside *testpoint is never satisfied.\n",
    "* The super-linear speedup at 16 actually makes sense, since at #cores>12 we leave a single CPU, and gets more L3 & L2 cache resources. That plus the fact that each thread needs less memory  (smaller working set), leads to less cache conflicts and higher performance.\n",
    "* Forthermore, I think the Mandelbrot task is relativly easy in the need to synchronize thread; There is no massage passing between threads, no mutual exclusion, etc. Therefore, the out-of-socket communication does not limit very much the progress of the program.\n",
    "* On the other hand, I expected some bigger diffrences between the false sharing & the padding, for example.\n",
    "    * I also checked, and each L1 cache line in Xeon 6128 Gold is 64 Bytes. Current compiler interprets *int as 4[B] word, so we have 16 words per eac cache line, not 8.<br>\n",
    "    * To check this hypothesis, I created 2 versions of *mandel_parallel_padding.c: *_08pad & *_16pad.\n",
    "    * Also here, the results are almost equal.\n",
    "    * We hypothesized in class that the -O2 compiler optimization makes the padding technique not necessary.\n",
    "    * So I run here everything with -O0.\n",
    "    * As you can see, this was not the problem."
   ]
  },
  {
   "cell_type": "markdown",
   "metadata": {
    "tags": []
   },
   "source": [
    "## Problem 4: nowait clause (10 points)\n",
    "**The nowait clause is used to avoid the implied barrier at the end of a loop construct, when you have multiple independent loops within a parallel region.** \\\n",
    "For each following code snippet, we added OpenMP parallelization using the nowait clause to a given code section. \n",
    "We assume that a,b,y and z point to different pre-allocated arrays (each of size n). \\\n",
    "**For each code snippet, decide whether the parallel code is correct (always brings to the same result as in a serial execution), and explain your decision.**"
   ]
  },
  {
   "cell_type": "code",
   "execution_count": null,
   "metadata": {},
   "outputs": [],
   "source": [
    "#include <math.h>\n",
    "void nowait_example_1(int n, float *a, float *b, float *y, float *z)\n",
    "{\n",
    "    int i;\n",
    "    #pragma omp parallel\n",
    "    {\n",
    "        #pragma omp for nowait\n",
    "        for (i=0; i<n-1; i++)\n",
    "            b[i] = (a[i] + a[i+1]) / 2.0;\n",
    "            \n",
    "        #pragma omp for nowait\n",
    "        for (i=0; i<n; i++)\n",
    "            y[i] = sqrt(z[i]);  \n",
    "    }\n",
    "}\n"
   ]
  },
  {
   "cell_type": "raw",
   "metadata": {},
   "source": [
    "This snippet is correct since the 2nd loop does not depend on the 1st loop results. So threads can continue to the 2nd loop processing even before other threads have finsihed processing the thier part of the 1st loop."
   ]
  },
  {
   "cell_type": "code",
   "execution_count": null,
   "metadata": {},
   "outputs": [],
   "source": [
    "#include <math.h>\n",
    "void nowait_example_2(int n, float *a, float *b, float *y, float *z)\n",
    "{\n",
    "    int i;\n",
    "    #pragma omp parallel\n",
    "    {\n",
    "        #pragma omp for schedule(static) nowait\n",
    "        for (i=0; i<n; i++)\n",
    "            b[i] = a[i] / 2.0;\n",
    "            \n",
    "        #pragma omp for schedule(static) nowait\n",
    "        for (i=0; i<n; i++)\n",
    "            y[i] = sqrt(b[i]);  \n",
    "    }\n",
    "}"
   ]
  },
  {
   "cell_type": "markdown",
   "metadata": {},
   "source": [
    "* This snippt is wrong because the 2nd loop uses the 1st loop results. Therefore, some threads might finish their work on the 1st loop, continue to the 2nd loop and read wrong values of b.<br>\n",
    "* the schedule(static) clause makes the worksharing to happen at compile time (a.k.a 'static'), that means, deal-out blocks of iterations of size “chunk” to each thread.<br>\n",
    "* However, there is no guarentees on which 'chunk' each thread gets. for example, thread t might get iteration [0, n/T-1] of the 1st for loop, but then iterations [n/T, 2*n/T-1] of the 2nd for loop.<br>\n",
    "In such case, he might read outdated values of b, which is wrong. "
   ]
  },
  {
   "cell_type": "code",
   "execution_count": null,
   "metadata": {},
   "outputs": [],
   "source": [
    "#include <math.h>\n",
    "void nowait_example_2(int n, float *a, float *b, float *y, float *z)\n",
    "{\n",
    "    int i;\n",
    "    #pragma omp parallel\n",
    "    {\n",
    "        #pragma omp for schedule(dynamic, 8) nowait\n",
    "        for (i=0; i<n; i++)\n",
    "            b[i] = a[i] / 2.0;\n",
    "            \n",
    "        #pragma omp for schedule(dynamic,8) nowait\n",
    "        for (i=0; i<n; i++)\n",
    "            y[i] = sqrt(b[i]);  \n",
    "    }\n",
    "}"
   ]
  },
  {
   "cell_type": "markdown",
   "metadata": {},
   "source": [
    "Simiar to the previous snippt, I think this one is wrong too.<br>\n",
    "In contrast to schedule(static), here schedule(dynamic, \\<chunk\\>) deals out \\<chunk\\> of iterations per thread, and when the thread finishes his current chunk, he comes back to the schedule and claims another chunk of iterations.<br>\n",
    "Similar to the static case, I think this one is wrong for the same reason: there is no guarentees on the policy of worksharing for the 2nd for loop.<br>\n",
    "It might be the same policy and then each thread will get the same iterations indices in both loops, but it might be different. "
   ]
  },
  {
   "cell_type": "code",
   "execution_count": null,
   "metadata": {},
   "outputs": [],
   "source": [
    "#include <math.h>\n",
    "void nowait_example_4(int n, float *a, float *b, float *y, float *z)\n",
    "{\n",
    "    int i;\n",
    "    #pragma omp parallel\n",
    "    {\n",
    "        #pragma omp single nowait\n",
    "        for (i=0; i<n; i++)\n",
    "            b[i] = a[i] / 2.0;        \n",
    "            \n",
    "        #pragma omp single nowait\n",
    "        for (i=0; i<n; i++)\n",
    "            y[i] = sqrt(b[i]);  \n",
    "    }\n",
    "}"
   ]
  },
  {
   "cell_type": "markdown",
   "metadata": {},
   "source": [
    "This snippet is ok, although highly non efficient...<br>\n",
    "the single construct make the 1st loop to be executed by a single thread only. Therfore, the 1st nowait has no practical meaning, anyway the single thread have to finish all iterations before it can continue to the 2nd loop."
   ]
  },
  {
   "cell_type": "code",
   "execution_count": null,
   "metadata": {},
   "outputs": [],
   "source": [
    "#include <math.h>\n",
    "void nowait_example_5(int n, float *a, float *b, float *y, float *z)\n",
    "{\n",
    "    int i;\n",
    "    #pragma omp parallel\n",
    "    {\n",
    "        #pragma omp master nowait\n",
    "        for (i=0; i<n; i++)\n",
    "            b[i] = a[i] / 2.0;        \n",
    "            \n",
    "        #pragma omp master nowait\n",
    "        for (i=0; i<n; i++)\n",
    "            y[i] = sqrt(b[i]);  \n",
    "    }\n",
    "}"
   ]
  },
  {
   "cell_type": "markdown",
   "metadata": {},
   "source": [
    "Similar to the previous snippet, this one is ok. The master construct makes both loops to be executed by the master thread, which is basically equivalent to regular serial code without OpenMP."
   ]
  },
  {
   "cell_type": "markdown",
   "metadata": {},
   "source": [
    "## Problem 5: Count Prime Numbers (30 points)\n",
    "**The schedule clause is used to provide more control over how iterations of a worksharing-loop construct are scheduled onto the threads, usually to balance the workload across threads. It supports both static and dynamic scheduling.**"
   ]
  },
  {
   "cell_type": "code",
   "execution_count": 3,
   "metadata": {},
   "outputs": [
    {
     "name": "stdout",
     "output_type": "stream",
     "text": [
      "C:\\Users\\manorz\\OneDrive - NVIDIA Corporation\\Desktop\\Shared-Memory Parallelism CPUs GPUs and in-between 236606\\cs236606\\HW1\\HW1\\problem5\n"
     ]
    }
   ],
   "source": [
    "cd ../problem5"
   ]
  },
  {
   "cell_type": "markdown",
   "metadata": {},
   "source": [
    "The following serial code counts the amount of prime numbers up to a given limit, by checking for each integer whther it is prime or not."
   ]
  },
  {
   "cell_type": "markdown",
   "metadata": {
    "tags": []
   },
   "source": [
    "In this problem you are required to add parallelization to the main loop of the problem, **using the reduction and schedule clauses**. \\\n",
    "The main focus in your solution will be on choosing the best schedule method (default, static, dynamic, etc) along with the optimized chunk size for a given CPU node on Intel DevCloud. \n",
    "#### Fill the following table with run times (in seconds) for each schedule you examine and for different numbers of threads. Then report what is the optimal schedule method you found and explain your observation. Fill free to add/edit lines in order to tune the parameters, finding the best option you can."
   ]
  },
  {
   "cell_type": "code",
   "execution_count": 15,
   "metadata": {},
   "outputs": [
    {
     "name": "stdout",
     "output_type": "stream",
     "text": [
      "Reading run_parallel_schedule.sh.o2070004 ... \n"
     ]
    },
    {
     "data": {
      "text/html": [
       "<div>\n",
       "<style scoped>\n",
       "    .dataframe tbody tr th:only-of-type {\n",
       "        vertical-align: middle;\n",
       "    }\n",
       "\n",
       "    .dataframe tbody tr th {\n",
       "        vertical-align: top;\n",
       "    }\n",
       "\n",
       "    .dataframe thead th {\n",
       "        text-align: right;\n",
       "    }\n",
       "</style>\n",
       "<table border=\"1\" class=\"dataframe\">\n",
       "  <thead>\n",
       "    <tr style=\"text-align: right;\">\n",
       "      <th></th>\n",
       "      <th>1 threads</th>\n",
       "      <th>2 threads</th>\n",
       "      <th>4 threads</th>\n",
       "      <th>8 threads</th>\n",
       "      <th>16 threads</th>\n",
       "      <th>24 threads</th>\n",
       "    </tr>\n",
       "    <tr>\n",
       "      <th>schedule</th>\n",
       "      <th></th>\n",
       "      <th></th>\n",
       "      <th></th>\n",
       "      <th></th>\n",
       "      <th></th>\n",
       "      <th></th>\n",
       "    </tr>\n",
       "  </thead>\n",
       "  <tbody>\n",
       "    <tr>\n",
       "      <th>default</th>\n",
       "      <td>136.776707</td>\n",
       "      <td>85.910039</td>\n",
       "      <td>46.085028</td>\n",
       "      <td>23.794013</td>\n",
       "      <td>12.097293</td>\n",
       "      <td>8.508406</td>\n",
       "    </tr>\n",
       "    <tr>\n",
       "      <th>static</th>\n",
       "      <td>136.746688</td>\n",
       "      <td>85.914006</td>\n",
       "      <td>46.086205</td>\n",
       "      <td>23.793134</td>\n",
       "      <td>12.119104</td>\n",
       "      <td>8.462103</td>\n",
       "    </tr>\n",
       "    <tr>\n",
       "      <th>static,4</th>\n",
       "      <td>136.818107</td>\n",
       "      <td>68.454512</td>\n",
       "      <td>34.270701</td>\n",
       "      <td>17.162989</td>\n",
       "      <td>9.062153</td>\n",
       "      <td>8.900563</td>\n",
       "    </tr>\n",
       "    <tr>\n",
       "      <th>dynamic,8</th>\n",
       "      <td>136.801235</td>\n",
       "      <td>68.579838</td>\n",
       "      <td>34.2922</td>\n",
       "      <td>17.164987</td>\n",
       "      <td>8.884173</td>\n",
       "      <td>6.183885</td>\n",
       "    </tr>\n",
       "    <tr>\n",
       "      <th>guided</th>\n",
       "      <td>136.883272</td>\n",
       "      <td>68.440827</td>\n",
       "      <td>34.239273</td>\n",
       "      <td>17.139186</td>\n",
       "      <td>8.854256</td>\n",
       "      <td>6.112899</td>\n",
       "    </tr>\n",
       "    <tr>\n",
       "      <th>static,8</th>\n",
       "      <td>136.857332</td>\n",
       "      <td>68.463357</td>\n",
       "      <td>34.242952</td>\n",
       "      <td>17.176854</td>\n",
       "      <td>9.073446</td>\n",
       "      <td>6.857887</td>\n",
       "    </tr>\n",
       "    <tr>\n",
       "      <th>guided,8</th>\n",
       "      <td>136.807484</td>\n",
       "      <td>68.461612</td>\n",
       "      <td>34.23513</td>\n",
       "      <td>17.139708</td>\n",
       "      <td>8.845895</td>\n",
       "      <td>6.106248</td>\n",
       "    </tr>\n",
       "  </tbody>\n",
       "</table>\n",
       "</div>"
      ],
      "text/plain": [
       "            1 threads  2 threads  4 threads  8 threads 16 threads 24 threads\n",
       "schedule                                                                    \n",
       "default    136.776707  85.910039  46.085028  23.794013  12.097293   8.508406\n",
       "static     136.746688  85.914006  46.086205  23.793134  12.119104   8.462103\n",
       "static,4   136.818107  68.454512  34.270701  17.162989   9.062153   8.900563\n",
       "dynamic,8  136.801235  68.579838    34.2922  17.164987   8.884173   6.183885\n",
       "guided     136.883272  68.440827  34.239273  17.139186   8.854256   6.112899\n",
       "static,8   136.857332  68.463357  34.242952  17.176854   9.073446   6.857887\n",
       "guided,8   136.807484  68.461612   34.23513  17.139708   8.845895   6.106248"
      ]
     },
     "execution_count": 15,
     "metadata": {},
     "output_type": "execute_result"
    }
   ],
   "source": [
    "import os\n",
    "import re\n",
    "import sys\n",
    "from pprint import pprint\n",
    "import pandas as pd\n",
    "\n",
    "df = pd.DataFrame({\n",
    "    'schedule': ['default', 'static', 'static,4', 'dynamic,8', 'guided', 'static,8', 'guided,8'], \n",
    "    '1 threads': 7*[None],\n",
    "    '2 threads': 7*[None],\n",
    "    '4 threads': 7*[None],\n",
    "    '8 threads': 7*[None],\n",
    "    '16 threads': 7*[None],\n",
    "    '24 threads': 7*[None]\n",
    "})\n",
    "df = df.set_index('schedule')\n",
    "\n",
    "o_file = 'run_parallel_schedule.sh.o2070004'\n",
    "print(f'Reading {o_file} ... ')\n",
    "file = open(o_file, 'r')\n",
    "for line in file:\n",
    "    r_line = re.findall('^.*Number of prime numbers is (\\d+) in (\\d+).(\\d+) sec, with (\\d+) threads \\((.*)\\).*$', line)\n",
    "    if r_line:\n",
    "        r_line = r_line[0]\n",
    "        threads_num = r_line[3]\n",
    "        threads_num = f'{threads_num} threads'\n",
    "        schedule = r_line[4].replace(' ', '')\n",
    "        time = float(f'{r_line[1]}.{r_line[2]}')\n",
    "        df[threads_num][schedule] = time\n",
    "df"
   ]
  },
  {
   "cell_type": "code",
   "execution_count": 23,
   "metadata": {},
   "outputs": [
    {
     "data": {
      "text/plain": [
       "schedule\n",
       "default      8.508406\n",
       "static       8.462103\n",
       "static,4     8.900563\n",
       "dynamic,8    6.183885\n",
       "guided       6.112899\n",
       "static,8     6.857887\n",
       "guided,8     6.106248\n",
       "dtype: object"
      ]
     },
     "execution_count": 23,
     "metadata": {},
     "output_type": "execute_result"
    }
   ],
   "source": [
    "best_thread_num = df.T.min()\n",
    "best_thread_num"
   ]
  },
  {
   "cell_type": "code",
   "execution_count": 25,
   "metadata": {},
   "outputs": [
    {
     "data": {
      "text/plain": [
       "1 threads     136.746688\n",
       "2 threads      68.440827\n",
       "4 threads       34.23513\n",
       "8 threads      17.139186\n",
       "16 threads      8.845895\n",
       "24 threads      6.106248\n",
       "dtype: object"
      ]
     },
     "execution_count": 25,
     "metadata": {},
     "output_type": "execute_result"
    }
   ],
   "source": [
    "best_schedule = df.min()\n",
    "best_schedule"
   ]
  },
  {
   "cell_type": "markdown",
   "metadata": {},
   "source": [
    "Use _prime_parallel.c_ to edit your parallel implementation. The next cell will help you to execute every time you examine a new schedule option. When you finish, keep the file _prime_parallel.c_ with the optimal schedule you found and execute again. "
   ]
  },
  {
   "cell_type": "code",
   "execution_count": null,
   "metadata": {},
   "outputs": [],
   "source": [
    "! chmod 755 ../q; chmod 755 run_parallel_schedule.sh;if [ -x \"$(command -v qsub)\" ]; then ./../q run_parallel_schedule.sh; else ./run_parallel_schedule.sh; fi"
   ]
  },
  {
   "cell_type": "markdown",
   "metadata": {},
   "source": [
    "* The optimal scheduling method I've found is the **guided** scheduling (with the static with chunk size 8 is roughly equal) at 24 threads. \n",
    "* It somehow makes sense, because in guided scheduling we start with large chunk size and slowly decrease it based on the runtime of previous iterations. \n",
    "* It fits this algorithm because for each integer under examination, the inner loop get bigger & bigger (O(sqrt(num))), and therfore to maintain load balancing between the threads as the computation is advancing, the scheduler decrease the chunk size."
   ]
  },
  {
   "cell_type": "markdown",
   "metadata": {},
   "source": [
    "### Intel VTune\n",
    "**Now you will get experienced with Intel VTune, to analyze the load balancing of your prime numbers program.** \\\n",
    "According to the table above, find one good scheduling method and one bad scheduling method. Use VTune to show the good/bad load balancing between all the threads for both executions respectively. \\\n",
    "Upload a printscreen of the threading information from VTune. Upload both images in the current directory (problem5) with the following names respectively: \\\n",
    "_vtune_good_load_balancing.png_ \\\n",
    "_vtune_bad_load_balancing.png_ \\\n",
    "You can use the _upload_ button in JupyterLab to easily upload the images. \n",
    "Then run both cells to show the images on the notebook.\n"
   ]
  },
  {
   "cell_type": "code",
   "execution_count": 5,
   "metadata": {},
   "outputs": [
    {
     "data": {
      "image/png": "[encoded data removed]",
      "text/plain": [
       "<IPython.core.display.Image object>"
      ]
     },
     "execution_count": 5,
     "metadata": {},
     "output_type": "execute_result"
    }
   ],
   "source": [
    "from IPython.display import Image\n",
    "Image(filename='vtune_good_load_balancing.png') "
   ]
  },
  {
   "cell_type": "code",
   "execution_count": 6,
   "metadata": {},
   "outputs": [
    {
     "data": {
      "image/png": "[encoded data removed]",
      "text/plain": [
       "<IPython.core.display.Image object>"
      ]
     },
     "execution_count": 6,
     "metadata": {},
     "output_type": "execute_result"
    }
   ],
   "source": [
    "Image(filename='vtune_bad_load_balancing.png') "
   ]
  },
  {
   "cell_type": "markdown",
   "metadata": {},
   "source": [
    "I can't get VTune working using ssh. I always get ssh disconnected while (or shortly after) trying to startup the VTune server. So I run VTune localy on my laptop. Neither the VSCode Remote didn't work.\n",
    "\n",
    "I choosed to compare the static 4 threads version and the static with chunk size 4 with 4 threads as well.\n",
    "\n",
    "As expected, the chunk 4 version has better performance, since it has much better scheduling granularity. It especially importent in the later iterations, when each iteration takes much longer.\n",
    "\n",
    "In terms of load balancing, we see that for the chunk 4 version, there is much smaller time periods, when only one thread is working.\n",
    "\n",
    "To be honest, since I run it locally, and I don't have icx on windows (nor find out how to install it), I'm not sure these results are equivalent to what I run on DevCloud. נו שוין\n",
    "\n"
   ]
  }
 ],
 "metadata": {
  "kernelspec": {
   "display_name": "Python 3 (Intel® oneAPI 2024.1)",
   "language": "python",
   "name": "c009-intel_distribution_of_python_3_oneapi-beta05-python-2024.1"
  },
  "language_info": {
   "codemirror_mode": {
    "name": "ipython",
    "version": 3
   },
   "file_extension": ".py",
   "mimetype": "text/x-python",
   "name": "python",
   "nbconvert_exporter": "python",
   "pygments_lexer": "ipython3",
   "version": "3.9.18"
  },
  "vscode": {
   "interpreter": {
    "hash": "e16528edbcbd1e74bc8ad26807c7ca418c518f14486860a554708595ae2d2bfc"
   }
  }
 },
 "nbformat": 4,
 "nbformat_minor": 4
}
